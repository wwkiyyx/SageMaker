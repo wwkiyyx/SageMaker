{
 "cells": [
  {
   "cell_type": "raw",
   "id": "ba9588ff-a622-4e0a-aac0-0cf2b8aaeec4",
   "metadata": {},
   "source": [
    "CPU环境  \n",
    "Ubuntu 20.04.3 LTS   \n",
    "内核 4.14\n",
    "Python 3.9.7   \n",
    "Intel(R) Xeon(R) Platinum 8259CL CPU @ 2.50GHz 4个\n",
    "双核\n",
    "16G内存\n",
    "tensorflow gpu 2.7.0\n",
    "pytorch 1.10\n",
    "目录 /home/studio-lab-user/sagemaker-studiolab-notebooks/SageMaker\n",
    "空间 /dev/nvme1n1     25G  7.0G   19G  28% /home/studio-lab-user"
   ]
  },
  {
   "cell_type": "code",
   "execution_count": 1,
   "id": "8e8b5519-1cbd-4ab2-afec-3b7c2b323617",
   "metadata": {},
   "outputs": [
    {
     "name": "stdout",
     "output_type": "stream",
     "text": [
      "Python 3.9.7\n"
     ]
    }
   ],
   "source": [
    "!python -V"
   ]
  },
  {
   "cell_type": "code",
   "execution_count": 3,
   "id": "218148bc-92d3-469b-a581-995c79395878",
   "metadata": {},
   "outputs": [
    {
     "name": "stdout",
     "output_type": "stream",
     "text": [
      "Linux default 4.14.256-197.484.amzn2.x86_64 #1 SMP Tue Nov 30 00:17:50 UTC 2021 x86_64 x86_64 x86_64 GNU/Linux\n"
     ]
    }
   ],
   "source": [
    "!uname -a"
   ]
  },
  {
   "cell_type": "code",
   "execution_count": 4,
   "id": "d6bf1c49-11ae-435d-91b2-e77083066fe1",
   "metadata": {},
   "outputs": [
    {
     "name": "stdout",
     "output_type": "stream",
     "text": [
      "Linux version 4.14.256-197.484.amzn2.x86_64 (mockbuild@ip-10-0-37-156) (gcc version 7.3.1 20180712 (Red Hat 7.3.1-13) (GCC)) #1 SMP Tue Nov 30 00:17:50 UTC 2021\n"
     ]
    }
   ],
   "source": [
    "cat /proc/version"
   ]
  },
  {
   "cell_type": "code",
   "execution_count": 2,
   "id": "b440d43d-6059-4351-8cfb-3a7860ddf0e1",
   "metadata": {},
   "outputs": [
    {
     "name": "stdout",
     "output_type": "stream",
     "text": [
      "Ubuntu 20.04.3 LTS \\n \\l\n",
      "\n"
     ]
    }
   ],
   "source": [
    "!cat /etc/issue"
   ]
  },
  {
   "cell_type": "code",
   "execution_count": 3,
   "id": "824a095a-c49f-44af-8013-a0880a15c2d3",
   "metadata": {},
   "outputs": [
    {
     "name": "stdout",
     "output_type": "stream",
     "text": [
      "processor\t: 0\n",
      "vendor_id\t: GenuineIntel\n",
      "cpu family\t: 6\n",
      "model\t\t: 85\n",
      "model name\t: Intel(R) Xeon(R) Platinum 8259CL CPU @ 2.50GHz\n",
      "stepping\t: 7\n",
      "microcode\t: 0x5003103\n",
      "cpu MHz\t\t: 2499.994\n",
      "cache size\t: 36608 KB\n",
      "physical id\t: 0\n",
      "siblings\t: 4\n",
      "core id\t\t: 0\n",
      "cpu cores\t: 2\n",
      "apicid\t\t: 0\n",
      "initial apicid\t: 0\n",
      "fpu\t\t: yes\n",
      "fpu_exception\t: yes\n",
      "cpuid level\t: 13\n",
      "wp\t\t: yes\n",
      "flags\t\t: fpu vme de pse tsc msr pae mce cx8 apic sep mtrr pge mca cmov pat pse36 clflush mmx fxsr sse sse2 ss ht syscall nx pdpe1gb rdtscp lm constant_tsc rep_good nopl xtopology nonstop_tsc cpuid tsc_known_freq pni pclmulqdq ssse3 fma cx16 pcid sse4_1 sse4_2 x2apic movbe popcnt tsc_deadline_timer aes xsave avx f16c rdrand hypervisor lahf_lm abm 3dnowprefetch invpcid_single pti fsgsbase tsc_adjust bmi1 avx2 smep bmi2 erms invpcid mpx avx512f avx512dq rdseed adx smap clflushopt clwb avx512cd avx512bw avx512vl xsaveopt xsavec xgetbv1 xsaves ida arat pku ospke\n",
      "bugs\t\t: cpu_meltdown spectre_v1 spectre_v2 spec_store_bypass l1tf mds swapgs itlb_multihit\n",
      "bogomips\t: 4999.98\n",
      "clflush size\t: 64\n",
      "cache_alignment\t: 64\n",
      "address sizes\t: 46 bits physical, 48 bits virtual\n",
      "power management:\n",
      "\n",
      "processor\t: 1\n",
      "vendor_id\t: GenuineIntel\n",
      "cpu family\t: 6\n",
      "model\t\t: 85\n",
      "model name\t: Intel(R) Xeon(R) Platinum 8259CL CPU @ 2.50GHz\n",
      "stepping\t: 7\n",
      "microcode\t: 0x5003103\n",
      "cpu MHz\t\t: 2499.994\n",
      "cache size\t: 36608 KB\n",
      "physical id\t: 0\n",
      "siblings\t: 4\n",
      "core id\t\t: 1\n",
      "cpu cores\t: 2\n",
      "apicid\t\t: 2\n",
      "initial apicid\t: 2\n",
      "fpu\t\t: yes\n",
      "fpu_exception\t: yes\n",
      "cpuid level\t: 13\n",
      "wp\t\t: yes\n",
      "flags\t\t: fpu vme de pse tsc msr pae mce cx8 apic sep mtrr pge mca cmov pat pse36 clflush mmx fxsr sse sse2 ss ht syscall nx pdpe1gb rdtscp lm constant_tsc rep_good nopl xtopology nonstop_tsc cpuid tsc_known_freq pni pclmulqdq ssse3 fma cx16 pcid sse4_1 sse4_2 x2apic movbe popcnt tsc_deadline_timer aes xsave avx f16c rdrand hypervisor lahf_lm abm 3dnowprefetch invpcid_single pti fsgsbase tsc_adjust bmi1 avx2 smep bmi2 erms invpcid mpx avx512f avx512dq rdseed adx smap clflushopt clwb avx512cd avx512bw avx512vl xsaveopt xsavec xgetbv1 xsaves ida arat pku ospke\n",
      "bugs\t\t: cpu_meltdown spectre_v1 spectre_v2 spec_store_bypass l1tf mds swapgs itlb_multihit\n",
      "bogomips\t: 4999.98\n",
      "clflush size\t: 64\n",
      "cache_alignment\t: 64\n",
      "address sizes\t: 46 bits physical, 48 bits virtual\n",
      "power management:\n",
      "\n",
      "processor\t: 2\n",
      "vendor_id\t: GenuineIntel\n",
      "cpu family\t: 6\n",
      "model\t\t: 85\n",
      "model name\t: Intel(R) Xeon(R) Platinum 8259CL CPU @ 2.50GHz\n",
      "stepping\t: 7\n",
      "microcode\t: 0x5003103\n",
      "cpu MHz\t\t: 2499.994\n",
      "cache size\t: 36608 KB\n",
      "physical id\t: 0\n",
      "siblings\t: 4\n",
      "core id\t\t: 0\n",
      "cpu cores\t: 2\n",
      "apicid\t\t: 1\n",
      "initial apicid\t: 1\n",
      "fpu\t\t: yes\n",
      "fpu_exception\t: yes\n",
      "cpuid level\t: 13\n",
      "wp\t\t: yes\n",
      "flags\t\t: fpu vme de pse tsc msr pae mce cx8 apic sep mtrr pge mca cmov pat pse36 clflush mmx fxsr sse sse2 ss ht syscall nx pdpe1gb rdtscp lm constant_tsc rep_good nopl xtopology nonstop_tsc cpuid tsc_known_freq pni pclmulqdq ssse3 fma cx16 pcid sse4_1 sse4_2 x2apic movbe popcnt tsc_deadline_timer aes xsave avx f16c rdrand hypervisor lahf_lm abm 3dnowprefetch invpcid_single pti fsgsbase tsc_adjust bmi1 avx2 smep bmi2 erms invpcid mpx avx512f avx512dq rdseed adx smap clflushopt clwb avx512cd avx512bw avx512vl xsaveopt xsavec xgetbv1 xsaves ida arat pku ospke\n",
      "bugs\t\t: cpu_meltdown spectre_v1 spectre_v2 spec_store_bypass l1tf mds swapgs itlb_multihit\n",
      "bogomips\t: 4999.98\n",
      "clflush size\t: 64\n",
      "cache_alignment\t: 64\n",
      "address sizes\t: 46 bits physical, 48 bits virtual\n",
      "power management:\n",
      "\n",
      "processor\t: 3\n",
      "vendor_id\t: GenuineIntel\n",
      "cpu family\t: 6\n",
      "model\t\t: 85\n",
      "model name\t: Intel(R) Xeon(R) Platinum 8259CL CPU @ 2.50GHz\n",
      "stepping\t: 7\n",
      "microcode\t: 0x5003103\n",
      "cpu MHz\t\t: 2499.994\n",
      "cache size\t: 36608 KB\n",
      "physical id\t: 0\n",
      "siblings\t: 4\n",
      "core id\t\t: 1\n",
      "cpu cores\t: 2\n",
      "apicid\t\t: 3\n",
      "initial apicid\t: 3\n",
      "fpu\t\t: yes\n",
      "fpu_exception\t: yes\n",
      "cpuid level\t: 13\n",
      "wp\t\t: yes\n",
      "flags\t\t: fpu vme de pse tsc msr pae mce cx8 apic sep mtrr pge mca cmov pat pse36 clflush mmx fxsr sse sse2 ss ht syscall nx pdpe1gb rdtscp lm constant_tsc rep_good nopl xtopology nonstop_tsc cpuid tsc_known_freq pni pclmulqdq ssse3 fma cx16 pcid sse4_1 sse4_2 x2apic movbe popcnt tsc_deadline_timer aes xsave avx f16c rdrand hypervisor lahf_lm abm 3dnowprefetch invpcid_single pti fsgsbase tsc_adjust bmi1 avx2 smep bmi2 erms invpcid mpx avx512f avx512dq rdseed adx smap clflushopt clwb avx512cd avx512bw avx512vl xsaveopt xsavec xgetbv1 xsaves ida arat pku ospke\n",
      "bugs\t\t: cpu_meltdown spectre_v1 spectre_v2 spec_store_bypass l1tf mds swapgs itlb_multihit\n",
      "bogomips\t: 4999.98\n",
      "clflush size\t: 64\n",
      "cache_alignment\t: 64\n",
      "address sizes\t: 46 bits physical, 48 bits virtual\n",
      "power management:\n",
      "\n"
     ]
    }
   ],
   "source": [
    "!cat /proc/cpuinfo"
   ]
  },
  {
   "cell_type": "code",
   "execution_count": 4,
   "id": "5d093958-cfc1-4b37-ba97-8eb15435b7ba",
   "metadata": {},
   "outputs": [
    {
     "name": "stdout",
     "output_type": "stream",
     "text": [
      "      4  Intel(R) Xeon(R) Platinum 8259CL CPU @ 2.50GHz\n"
     ]
    }
   ],
   "source": [
    "!cat /proc/cpuinfo | grep name | cut -f2 -d: | uniq -c"
   ]
  },
  {
   "cell_type": "code",
   "execution_count": 11,
   "id": "222889a6-c6b5-4c63-8807-84ded6721d6a",
   "metadata": {},
   "outputs": [
    {
     "name": "stdout",
     "output_type": "stream",
     "text": [
      "1\n"
     ]
    }
   ],
   "source": [
    "!grep 'physical id' /proc/cpuinfo | sort | uniq | wc -l"
   ]
  },
  {
   "cell_type": "code",
   "execution_count": 12,
   "id": "4cd2c8fe-7cd0-4f73-985d-bd2155769e58",
   "metadata": {},
   "outputs": [
    {
     "name": "stdout",
     "output_type": "stream",
     "text": [
      "4\n"
     ]
    }
   ],
   "source": [
    "! cat /proc/cpuinfo |grep 'processor'|wc -l"
   ]
  },
  {
   "cell_type": "code",
   "execution_count": 5,
   "id": "1ab337bb-6eb8-4b2e-b693-490fd8b88ef3",
   "metadata": {},
   "outputs": [
    {
     "name": "stdout",
     "output_type": "stream",
     "text": [
      "cpu cores\t: 2\n",
      "cpu cores\t: 2\n",
      "cpu cores\t: 2\n",
      "cpu cores\t: 2\n"
     ]
    }
   ],
   "source": [
    "!cat /proc/cpuinfo |grep \"cores\""
   ]
  },
  {
   "cell_type": "code",
   "execution_count": 6,
   "id": "ea9ed290-f1f5-4310-bf8b-502c8fb9e1de",
   "metadata": {},
   "outputs": [
    {
     "name": "stdout",
     "output_type": "stream",
     "text": [
      "MemTotal:       16233876 kB\n",
      "MemFree:         7537588 kB\n",
      "MemAvailable:   15168376 kB\n",
      "Buffers:            2088 kB\n",
      "Cached:          7445724 kB\n",
      "SwapCached:            0 kB\n",
      "Active:           696380 kB\n",
      "Inactive:        7264376 kB\n",
      "Active(anon):     355888 kB\n",
      "Inactive(anon):      292 kB\n",
      "Active(file):     340492 kB\n",
      "Inactive(file):  7264084 kB\n",
      "Unevictable:           0 kB\n",
      "Mlocked:               0 kB\n",
      "SwapTotal:             0 kB\n",
      "SwapFree:              0 kB\n",
      "Dirty:                28 kB\n",
      "Writeback:             4 kB\n",
      "AnonPages:        512964 kB\n",
      "Mapped:           265620 kB\n",
      "Shmem:               588 kB\n",
      "Slab:             495768 kB\n",
      "SReclaimable:     363220 kB\n",
      "SUnreclaim:       132548 kB\n",
      "KernelStack:        4624 kB\n",
      "PageTables:         6948 kB\n",
      "NFS_Unstable:          0 kB\n",
      "Bounce:                0 kB\n",
      "WritebackTmp:          0 kB\n",
      "CommitLimit:     8116936 kB\n",
      "Committed_AS:    2326716 kB\n",
      "VmallocTotal:   34359738367 kB\n",
      "VmallocUsed:           0 kB\n",
      "VmallocChunk:          0 kB\n",
      "HardwareCorrupted:     0 kB\n",
      "AnonHugePages:         0 kB\n",
      "ShmemHugePages:        0 kB\n",
      "ShmemPmdMapped:        0 kB\n",
      "HugePages_Total:       0\n",
      "HugePages_Free:        0\n",
      "HugePages_Rsvd:        0\n",
      "HugePages_Surp:        0\n",
      "Hugepagesize:       2048 kB\n",
      "DirectMap4k:      118696 kB\n",
      "DirectMap2M:     3883008 kB\n",
      "DirectMap1G:    12582912 kB\n"
     ]
    }
   ],
   "source": [
    "!cat /proc/meminfo"
   ]
  },
  {
   "cell_type": "code",
   "execution_count": 7,
   "id": "6486a6b9-e17e-401d-adc3-71dfa6b0a60f",
   "metadata": {},
   "outputs": [
    {
     "name": "stdout",
     "output_type": "stream",
     "text": [
      "              total        used        free      shared  buff/cache   available\n",
      "Mem:       16233876      885496     7537356         588     7811024    15168136\n",
      "Swap:             0           0           0\n"
     ]
    }
   ],
   "source": [
    "!free"
   ]
  },
  {
   "cell_type": "code",
   "execution_count": 18,
   "id": "dcf028b2-d28e-48da-8c37-57813009336d",
   "metadata": {},
   "outputs": [
    {
     "name": "stdout",
     "output_type": "stream",
     "text": [
      "/home/studio-lab-user/sagemaker-studiolab-notebooks/SageMaker\n"
     ]
    }
   ],
   "source": [
    "!pwd"
   ]
  },
  {
   "cell_type": "code",
   "execution_count": 19,
   "id": "df6e6c32-2693-4c5d-a098-4b51e919ba94",
   "metadata": {},
   "outputs": [
    {
     "name": "stdout",
     "output_type": "stream",
     "text": [
      "Filesystem      Size  Used Avail Use% Mounted on\n",
      "overlay          27G   12K   27G   1% /\n",
      "tmpfs            64M     0   64M   0% /dev\n",
      "tmpfs           7.8G     0  7.8G   0% /sys/fs/cgroup\n",
      "shm             4.0G     0  4.0G   0% /dev/shm\n",
      "/dev/nvme0n1p1   50G   14G   37G  28% /opt/.sagemakerinternal\n",
      "/dev/nvme1n1     25G  7.0G   19G  28% /home/studio-lab-user\n",
      "devtmpfs        7.8G     0  7.8G   0% /dev/tty\n",
      "tmpfs           7.8G     0  7.8G   0% /proc/acpi\n",
      "tmpfs           7.8G     0  7.8G   0% /sys/firmware\n"
     ]
    }
   ],
   "source": [
    "!df -h"
   ]
  },
  {
   "cell_type": "code",
   "execution_count": 7,
   "id": "d120a682-49a6-4117-9bc2-a7a2e8d264ab",
   "metadata": {},
   "outputs": [
    {
     "name": "stdout",
     "output_type": "stream",
     "text": [
      "2.7.0\n"
     ]
    }
   ],
   "source": [
    "import tensorflow as tf\n",
    "print(tf.__version__)"
   ]
  },
  {
   "cell_type": "code",
   "execution_count": 8,
   "id": "d3d3eddb-e8b7-4a3a-b64e-dcb4d3bd5112",
   "metadata": {},
   "outputs": [
    {
     "name": "stdout",
     "output_type": "stream",
     "text": [
      "1.10.1+cu102\n"
     ]
    }
   ],
   "source": [
    "import torch as tc\n",
    "print(tc.__version__)"
   ]
  },
  {
   "cell_type": "code",
   "execution_count": 9,
   "id": "6f9f8dad-afa0-417d-ba58-c2c6727fcc04",
   "metadata": {},
   "outputs": [
    {
     "name": "stdout",
     "output_type": "stream",
     "text": [
      "Package                       Version\n",
      "----------------------------- ---------\n",
      "absl-py                       1.0.0\n",
      "argon2-cffi                   21.1.0\n",
      "astunparse                    1.6.3\n",
      "async-generator               1.10\n",
      "attrs                         21.2.0\n",
      "backcall                      0.2.0\n",
      "backports.functools-lru-cache 1.6.4\n",
      "bleach                        4.1.0\n",
      "cachetools                    4.2.4\n",
      "certifi                       2021.10.8\n",
      "cffi                          1.15.0\n",
      "charset-normalizer            2.0.10\n",
      "debugpy                       1.5.1\n",
      "decorator                     5.1.0\n",
      "defusedxml                    0.7.1\n",
      "entrypoints                   0.3\n",
      "flatbuffers                   2.0\n",
      "gast                          0.4.0\n",
      "google-auth                   2.3.3\n",
      "google-auth-oauthlib          0.4.6\n",
      "google-pasta                  0.2.0\n",
      "grpcio                        1.43.0\n",
      "h5py                          3.6.0\n",
      "idna                          3.3\n",
      "importlib-metadata            4.8.2\n",
      "importlib-resources           5.4.0\n",
      "ipykernel                     6.4.2\n",
      "ipython                       7.30.1\n",
      "ipython-genutils              0.2.0\n",
      "ipywidgets                    7.6.5\n",
      "jedi                          0.18.1\n",
      "Jinja2                        3.0.3\n",
      "jsonschema                    4.2.1\n",
      "jupyter-client                7.1.0\n",
      "jupyter-core                  4.9.1\n",
      "jupyterlab-pygments           0.1.2\n",
      "jupyterlab-widgets            1.0.2\n",
      "keras                         2.7.0\n",
      "Keras-Preprocessing           1.1.2\n",
      "libclang                      12.0.0\n",
      "Markdown                      3.3.6\n",
      "MarkupSafe                    2.0.1\n",
      "matplotlib-inline             0.1.3\n",
      "mistune                       0.8.4\n",
      "nbclient                      0.5.9\n",
      "nbconvert                     6.3.0\n",
      "nbformat                      5.1.3\n",
      "nest-asyncio                  1.5.4\n",
      "notebook                      6.4.6\n",
      "numpy                         1.22.1\n",
      "oauthlib                      3.1.1\n",
      "opt-einsum                    3.3.0\n",
      "packaging                     21.3\n",
      "pandocfilters                 1.5.0\n",
      "parso                         0.8.3\n",
      "pexpect                       4.8.0\n",
      "pickleshare                   0.7.5\n",
      "pip                           21.2.4\n",
      "prometheus-client             0.12.0\n",
      "prompt-toolkit                3.0.22\n",
      "protobuf                      3.19.3\n",
      "ptyprocess                    0.7.0\n",
      "pyasn1                        0.4.8\n",
      "pyasn1-modules                0.2.8\n",
      "pycparser                     2.21\n",
      "Pygments                      2.10.0\n",
      "pyparsing                     3.0.6\n",
      "pyrsistent                    0.18.0\n",
      "python-dateutil               2.8.2\n",
      "pyzmq                         22.3.0\n",
      "requests                      2.27.1\n",
      "requests-oauthlib             1.3.0\n",
      "rsa                           4.8\n",
      "Send2Trash                    1.8.0\n",
      "setuptools                    59.4.0\n",
      "six                           1.16.0\n",
      "tensorboard                   2.8.0\n",
      "tensorboard-data-server       0.6.1\n",
      "tensorboard-plugin-wit        1.8.1\n",
      "tensorflow-estimator          2.7.0\n",
      "tensorflow-gpu                2.7.0\n",
      "tensorflow-io-gcs-filesystem  0.23.1\n",
      "termcolor                     1.1.0\n",
      "terminado                     0.12.1\n",
      "testpath                      0.5.0\n",
      "torch                         1.10.1\n",
      "tornado                       6.1\n",
      "traitlets                     5.1.1\n",
      "typing_extensions             4.0.1\n",
      "urllib3                       1.26.8\n",
      "wcwidth                       0.2.5\n",
      "webencodings                  0.5.1\n",
      "Werkzeug                      2.0.2\n",
      "wheel                         0.37.0\n",
      "widgetsnbextension            3.5.2\n",
      "wrapt                         1.13.3\n",
      "zipp                          3.6.0\n"
     ]
    }
   ],
   "source": [
    "!pip list"
   ]
  },
  {
   "cell_type": "code",
   "execution_count": 10,
   "id": "3eaffe17-1e18-4232-93b4-ff868e77b7fe",
   "metadata": {},
   "outputs": [
    {
     "name": "stdout",
     "output_type": "stream",
     "text": [
      "Listing... Done\n",
      "\u001b[32madduser\u001b[0m/now 3.118ubuntu2 all [installed,local]\n",
      "\u001b[32mapt\u001b[0m/now 2.0.6 amd64 [installed,local]\n",
      "\u001b[32mbase-files\u001b[0m/now 11ubuntu5.4 amd64 [installed,local]\n",
      "\u001b[32mbase-passwd\u001b[0m/now 3.5.47 amd64 [installed,local]\n",
      "\u001b[32mbash\u001b[0m/now 5.0-6ubuntu1.1 amd64 [installed,local]\n",
      "\u001b[32mbinutils-common\u001b[0m/now 2.34-6ubuntu1.3 amd64 [installed,local]\n",
      "\u001b[32mbinutils-x86-64-linux-gnu\u001b[0m/now 2.34-6ubuntu1.3 amd64 [installed,local]\n",
      "\u001b[32mbinutils\u001b[0m/now 2.34-6ubuntu1.3 amd64 [installed,local]\n",
      "\u001b[32mbsdutils\u001b[0m/now 1:2.34-0.1ubuntu9.1 amd64 [installed,local]\n",
      "\u001b[32mbuild-essential\u001b[0m/now 12.8ubuntu1.1 amd64 [installed,local]\n",
      "\u001b[32mbzip2\u001b[0m/now 1.0.8-2 amd64 [installed,local]\n",
      "\u001b[32mca-certificates\u001b[0m/now 20210119~20.04.2 all [installed,local]\n",
      "\u001b[32mcoreutils\u001b[0m/now 8.30-3ubuntu2 amd64 [installed,local]\n",
      "\u001b[32mcpp-9\u001b[0m/now 9.3.0-17ubuntu1~20.04 amd64 [installed,local]\n",
      "\u001b[32mcpp\u001b[0m/now 4:9.3.0-1ubuntu2 amd64 [installed,local]\n",
      "\u001b[32mcurl\u001b[0m/now 7.68.0-1ubuntu2.7 amd64 [installed,local]\n",
      "\u001b[32mdash\u001b[0m/now 0.5.10.2-6 amd64 [installed,local]\n",
      "\u001b[32mdebconf\u001b[0m/now 1.5.73 all [installed,local]\n",
      "\u001b[32mdebianutils\u001b[0m/now 4.9.1 amd64 [installed,local]\n",
      "\u001b[32mdiffutils\u001b[0m/now 1:3.7-3 amd64 [installed,local]\n",
      "\u001b[32mdpkg-dev\u001b[0m/now 1.19.7ubuntu3 all [installed,local]\n",
      "\u001b[32mdpkg\u001b[0m/now 1.19.7ubuntu3 amd64 [installed,local]\n",
      "\u001b[32me2fsprogs\u001b[0m/now 1.45.5-2ubuntu1 amd64 [installed,local]\n",
      "\u001b[32mfdisk\u001b[0m/now 2.34-0.1ubuntu9.1 amd64 [installed,local]\n",
      "\u001b[32mfindutils\u001b[0m/now 4.7.0-1ubuntu1 amd64 [installed,local]\n",
      "\u001b[32mg++-9\u001b[0m/now 9.3.0-17ubuntu1~20.04 amd64 [installed,local]\n",
      "\u001b[32mg++\u001b[0m/now 4:9.3.0-1ubuntu2 amd64 [installed,local]\n",
      "\u001b[32mgcc-10-base\u001b[0m/now 10.3.0-1ubuntu1~20.04 amd64 [installed,local]\n",
      "\u001b[32mgcc-9-base\u001b[0m/now 9.3.0-17ubuntu1~20.04 amd64 [installed,local]\n",
      "\u001b[32mgcc-9\u001b[0m/now 9.3.0-17ubuntu1~20.04 amd64 [installed,local]\n",
      "\u001b[32mgcc\u001b[0m/now 4:9.3.0-1ubuntu2 amd64 [installed,local]\n",
      "\u001b[32mgit-man\u001b[0m/now 1:2.25.1-1ubuntu3.2 all [installed,local]\n",
      "\u001b[32mgit\u001b[0m/now 1:2.25.1-1ubuntu3.2 amd64 [installed,local]\n",
      "\u001b[32mgpgv\u001b[0m/now 2.2.19-3ubuntu2.1 amd64 [installed,local]\n",
      "\u001b[32mgrep\u001b[0m/now 3.4-1 amd64 [installed,local]\n",
      "\u001b[32mgzip\u001b[0m/now 1.10-0ubuntu4 amd64 [installed,local]\n",
      "\u001b[32mhostname\u001b[0m/now 3.23 amd64 [installed,local]\n",
      "\u001b[32minit-system-helpers\u001b[0m/now 1.57 all [installed,local]\n",
      "\u001b[32mlibacl1\u001b[0m/now 2.2.53-6 amd64 [installed,local]\n",
      "\u001b[32mlibapt-pkg6.0\u001b[0m/now 2.0.6 amd64 [installed,local]\n",
      "\u001b[32mlibasan5\u001b[0m/now 9.3.0-17ubuntu1~20.04 amd64 [installed,local]\n",
      "\u001b[32mlibasn1-8-heimdal\u001b[0m/now 7.7.0+dfsg-1ubuntu1 amd64 [installed,local]\n",
      "\u001b[32mlibatomic1\u001b[0m/now 10.3.0-1ubuntu1~20.04 amd64 [installed,local]\n",
      "\u001b[32mlibattr1\u001b[0m/now 1:2.4.48-5 amd64 [installed,local]\n",
      "\u001b[32mlibaudit-common\u001b[0m/now 1:2.8.5-2ubuntu6 all [installed,local]\n",
      "\u001b[32mlibaudit1\u001b[0m/now 1:2.8.5-2ubuntu6 amd64 [installed,local]\n",
      "\u001b[32mlibbinutils\u001b[0m/now 2.34-6ubuntu1.3 amd64 [installed,local]\n",
      "\u001b[32mlibblkid1\u001b[0m/now 2.34-0.1ubuntu9.1 amd64 [installed,local]\n",
      "\u001b[32mlibbrotli1\u001b[0m/now 1.0.7-6ubuntu0.1 amd64 [installed,local]\n",
      "\u001b[32mlibbsd0\u001b[0m/now 0.10.0-1 amd64 [installed,local]\n",
      "\u001b[32mlibbz2-1.0\u001b[0m/now 1.0.8-2 amd64 [installed,local]\n",
      "\u001b[32mlibc-bin\u001b[0m/now 2.31-0ubuntu9.2 amd64 [installed,local]\n",
      "\u001b[32mlibc-dev-bin\u001b[0m/now 2.31-0ubuntu9.2 amd64 [installed,local]\n",
      "\u001b[32mlibc6-dev\u001b[0m/now 2.31-0ubuntu9.2 amd64 [installed,local]\n",
      "\u001b[32mlibc6\u001b[0m/now 2.31-0ubuntu9.2 amd64 [installed,local]\n",
      "\u001b[32mlibcap-ng0\u001b[0m/now 0.7.9-2.1build1 amd64 [installed,local]\n",
      "\u001b[32mlibcc1-0\u001b[0m/now 10.3.0-1ubuntu1~20.04 amd64 [installed,local]\n",
      "\u001b[32mlibcom-err2\u001b[0m/now 1.45.5-2ubuntu1 amd64 [installed,local]\n",
      "\u001b[32mlibcrypt-dev\u001b[0m/now 1:4.4.10-10ubuntu4 amd64 [installed,local]\n",
      "\u001b[32mlibcrypt1\u001b[0m/now 1:4.4.10-10ubuntu4 amd64 [installed,local]\n",
      "\u001b[32mlibctf-nobfd0\u001b[0m/now 2.34-6ubuntu1.3 amd64 [installed,local]\n",
      "\u001b[32mlibctf0\u001b[0m/now 2.34-6ubuntu1.3 amd64 [installed,local]\n",
      "\u001b[32mlibcurl3-gnutls\u001b[0m/now 7.68.0-1ubuntu2.7 amd64 [installed,local]\n",
      "\u001b[32mlibcurl4\u001b[0m/now 7.68.0-1ubuntu2.7 amd64 [installed,local]\n",
      "\u001b[32mlibdb5.3\u001b[0m/now 5.3.28+dfsg1-0.6ubuntu2 amd64 [installed,local]\n",
      "\u001b[32mlibdebconfclient0\u001b[0m/now 0.251ubuntu1 amd64 [installed,local]\n",
      "\u001b[32mlibdpkg-perl\u001b[0m/now 1.19.7ubuntu3 all [installed,local]\n",
      "\u001b[32mlibdrm-amdgpu1\u001b[0m/now 2.4.105-3~20.04.2 amd64 [installed,local]\n",
      "\u001b[32mlibdrm-common\u001b[0m/now 2.4.105-3~20.04.2 all [installed,local]\n",
      "\u001b[32mlibdrm-intel1\u001b[0m/now 2.4.105-3~20.04.2 amd64 [installed,local]\n",
      "\u001b[32mlibdrm-nouveau2\u001b[0m/now 2.4.105-3~20.04.2 amd64 [installed,local]\n",
      "\u001b[32mlibdrm-radeon1\u001b[0m/now 2.4.105-3~20.04.2 amd64 [installed,local]\n",
      "\u001b[32mlibdrm2\u001b[0m/now 2.4.105-3~20.04.2 amd64 [installed,local]\n",
      "\u001b[32mlibedit2\u001b[0m/now 3.1-20191231-1 amd64 [installed,local]\n",
      "\u001b[32mlibelf1\u001b[0m/now 0.176-1.1build1 amd64 [installed,local]\n",
      "\u001b[32mliberror-perl\u001b[0m/now 0.17029-1 all [installed,local]\n",
      "\u001b[32mlibexpat1\u001b[0m/now 2.2.9-1build1 amd64 [installed,local]\n",
      "\u001b[32mlibext2fs2\u001b[0m/now 1.45.5-2ubuntu1 amd64 [installed,local]\n",
      "\u001b[32mlibfdisk1\u001b[0m/now 2.34-0.1ubuntu9.1 amd64 [installed,local]\n",
      "\u001b[32mlibffi7\u001b[0m/now 3.3-4 amd64 [installed,local]\n",
      "\u001b[32mlibgcc-9-dev\u001b[0m/now 9.3.0-17ubuntu1~20.04 amd64 [installed,local]\n",
      "\u001b[32mlibgcc-s1\u001b[0m/now 10.3.0-1ubuntu1~20.04 amd64 [installed,local]\n",
      "\u001b[32mlibgcrypt20\u001b[0m/now 1.8.5-5ubuntu1.1 amd64 [installed,local]\n",
      "\u001b[32mlibgdbm-compat4\u001b[0m/now 1.18.1-5 amd64 [installed,local]\n",
      "\u001b[32mlibgdbm6\u001b[0m/now 1.18.1-5 amd64 [installed,local]\n",
      "\u001b[32mlibgl1-mesa-dri\u001b[0m/now 21.0.3-0ubuntu0.3~20.04.5 amd64 [installed,local]\n",
      "\u001b[32mlibgl1-mesa-glx\u001b[0m/now 21.0.3-0ubuntu0.3~20.04.5 amd64 [installed,local]\n",
      "\u001b[32mlibgl1\u001b[0m/now 1.3.2-1~ubuntu0.20.04.1 amd64 [installed,local]\n",
      "\u001b[32mlibglapi-mesa\u001b[0m/now 21.0.3-0ubuntu0.3~20.04.5 amd64 [installed,local]\n",
      "\u001b[32mlibglvnd0\u001b[0m/now 1.3.2-1~ubuntu0.20.04.1 amd64 [installed,local]\n",
      "\u001b[32mlibglx-mesa0\u001b[0m/now 21.0.3-0ubuntu0.3~20.04.5 amd64 [installed,local]\n",
      "\u001b[32mlibglx0\u001b[0m/now 1.3.2-1~ubuntu0.20.04.1 amd64 [installed,local]\n",
      "\u001b[32mlibgmp10\u001b[0m/now 2:6.2.0+dfsg-4 amd64 [installed,local]\n",
      "\u001b[32mlibgnutls30\u001b[0m/now 3.6.13-2ubuntu1.6 amd64 [installed,local]\n",
      "\u001b[32mlibgomp1\u001b[0m/now 10.3.0-1ubuntu1~20.04 amd64 [installed,local]\n",
      "\u001b[32mlibgpg-error0\u001b[0m/now 1.37-1 amd64 [installed,local]\n",
      "\u001b[32mlibgssapi-krb5-2\u001b[0m/now 1.17-6ubuntu4.1 amd64 [installed,local]\n",
      "\u001b[32mlibgssapi3-heimdal\u001b[0m/now 7.7.0+dfsg-1ubuntu1 amd64 [installed,local]\n",
      "\u001b[32mlibhcrypto4-heimdal\u001b[0m/now 7.7.0+dfsg-1ubuntu1 amd64 [installed,local]\n",
      "\u001b[32mlibheimbase1-heimdal\u001b[0m/now 7.7.0+dfsg-1ubuntu1 amd64 [installed,local]\n",
      "\u001b[32mlibheimntlm0-heimdal\u001b[0m/now 7.7.0+dfsg-1ubuntu1 amd64 [installed,local]\n",
      "\u001b[32mlibhogweed5\u001b[0m/now 3.5.1+really3.5.1-2ubuntu0.2 amd64 [installed,local]\n",
      "\u001b[32mlibhx509-5-heimdal\u001b[0m/now 7.7.0+dfsg-1ubuntu1 amd64 [installed,local]\n",
      "\u001b[32mlibidn2-0\u001b[0m/now 2.2.0-2 amd64 [installed,local]\n",
      "\u001b[32mlibisl22\u001b[0m/now 0.22.1-1 amd64 [installed,local]\n",
      "\u001b[32mlibitm1\u001b[0m/now 10.3.0-1ubuntu1~20.04 amd64 [installed,local]\n",
      "\u001b[32mlibk5crypto3\u001b[0m/now 1.17-6ubuntu4.1 amd64 [installed,local]\n",
      "\u001b[32mlibkeyutils1\u001b[0m/now 1.6-6ubuntu1 amd64 [installed,local]\n",
      "\u001b[32mlibkrb5-26-heimdal\u001b[0m/now 7.7.0+dfsg-1ubuntu1 amd64 [installed,local]\n",
      "\u001b[32mlibkrb5-3\u001b[0m/now 1.17-6ubuntu4.1 amd64 [installed,local]\n",
      "\u001b[32mlibkrb5support0\u001b[0m/now 1.17-6ubuntu4.1 amd64 [installed,local]\n",
      "\u001b[32mlibldap-2.4-2\u001b[0m/now 2.4.49+dfsg-2ubuntu1.8 amd64 [installed,local]\n",
      "\u001b[32mlibldap-common\u001b[0m/now 2.4.49+dfsg-2ubuntu1.8 all [installed,local]\n",
      "\u001b[32mlibllvm12\u001b[0m/now 1:12.0.0-3ubuntu1~20.04.4 amd64 [installed,local]\n",
      "\u001b[32mliblsan0\u001b[0m/now 10.3.0-1ubuntu1~20.04 amd64 [installed,local]\n",
      "\u001b[32mliblz4-1\u001b[0m/now 1.9.2-2ubuntu0.20.04.1 amd64 [installed,local]\n",
      "\u001b[32mliblzma5\u001b[0m/now 5.2.4-1ubuntu1 amd64 [installed,local]\n",
      "\u001b[32mlibmount1\u001b[0m/now 2.34-0.1ubuntu9.1 amd64 [installed,local]\n",
      "\u001b[32mlibmpc3\u001b[0m/now 1.1.0-1 amd64 [installed,local]\n",
      "\u001b[32mlibmpfr6\u001b[0m/now 4.0.2-1 amd64 [installed,local]\n",
      "\u001b[32mlibncurses6\u001b[0m/now 6.2-0ubuntu2 amd64 [installed,local]\n",
      "\u001b[32mlibncursesw6\u001b[0m/now 6.2-0ubuntu2 amd64 [installed,local]\n",
      "\u001b[32mlibnettle7\u001b[0m/now 3.5.1+really3.5.1-2ubuntu0.2 amd64 [installed,local]\n",
      "\u001b[32mlibnghttp2-14\u001b[0m/now 1.40.0-1build1 amd64 [installed,local]\n",
      "\u001b[32mlibp11-kit0\u001b[0m/now 0.23.20-1ubuntu0.1 amd64 [installed,local]\n",
      "\u001b[32mlibpam-modules-bin\u001b[0m/now 1.3.1-5ubuntu4.3 amd64 [installed,local]\n",
      "\u001b[32mlibpam-modules\u001b[0m/now 1.3.1-5ubuntu4.3 amd64 [installed,local]\n",
      "\u001b[32mlibpam-runtime\u001b[0m/now 1.3.1-5ubuntu4.3 all [installed,local]\n",
      "\u001b[32mlibpam0g\u001b[0m/now 1.3.1-5ubuntu4.3 amd64 [installed,local]\n",
      "\u001b[32mlibpciaccess0\u001b[0m/now 0.16-0ubuntu1 amd64 [installed,local]\n",
      "\u001b[32mlibpcre2-8-0\u001b[0m/now 10.34-7 amd64 [installed,local]\n",
      "\u001b[32mlibpcre3\u001b[0m/now 2:8.39-12build1 amd64 [installed,local]\n",
      "\u001b[32mlibperl5.30\u001b[0m/now 5.30.0-9ubuntu0.2 amd64 [installed,local]\n",
      "\u001b[32mlibpopt0\u001b[0m/now 1.16-14 amd64 [installed,local]\n",
      "\u001b[32mlibprocps8\u001b[0m/now 2:3.3.16-1ubuntu2.3 amd64 [installed,local]\n",
      "\u001b[32mlibpsl5\u001b[0m/now 0.21.0-1ubuntu1 amd64 [installed,local]\n",
      "\u001b[32mlibquadmath0\u001b[0m/now 10.3.0-1ubuntu1~20.04 amd64 [installed,local]\n",
      "\u001b[32mlibroken18-heimdal\u001b[0m/now 7.7.0+dfsg-1ubuntu1 amd64 [installed,local]\n",
      "\u001b[32mlibrtmp1\u001b[0m/now 2.4+20151223.gitfa8646d.1-2build1 amd64 [installed,local]\n",
      "\u001b[32mlibsasl2-2\u001b[0m/now 2.1.27+dfsg-2 amd64 [installed,local]\n",
      "\u001b[32mlibsasl2-modules-db\u001b[0m/now 2.1.27+dfsg-2 amd64 [installed,local]\n",
      "\u001b[32mlibseccomp2\u001b[0m/now 2.5.1-1ubuntu1~20.04.1 amd64 [installed,local]\n",
      "\u001b[32mlibselinux1\u001b[0m/now 3.0-1build2 amd64 [installed,local]\n",
      "\u001b[32mlibsemanage-common\u001b[0m/now 3.0-1build2 all [installed,local]\n",
      "\u001b[32mlibsemanage1\u001b[0m/now 3.0-1build2 amd64 [installed,local]\n",
      "\u001b[32mlibsensors-config\u001b[0m/now 1:3.6.0-2ubuntu1 all [installed,local]\n",
      "\u001b[32mlibsensors5\u001b[0m/now 1:3.6.0-2ubuntu1 amd64 [installed,local]\n",
      "\u001b[32mlibsepol1\u001b[0m/now 3.0-1 amd64 [installed,local]\n",
      "\u001b[32mlibsmartcols1\u001b[0m/now 2.34-0.1ubuntu9.1 amd64 [installed,local]\n",
      "\u001b[32mlibsqlite3-0\u001b[0m/now 3.31.1-4ubuntu0.2 amd64 [installed,local]\n",
      "\u001b[32mlibss2\u001b[0m/now 1.45.5-2ubuntu1 amd64 [installed,local]\n",
      "\u001b[32mlibssh-4\u001b[0m/now 0.9.3-2ubuntu2.2 amd64 [installed,local]\n",
      "\u001b[32mlibssl1.1\u001b[0m/now 1.1.1f-1ubuntu2.9 amd64 [installed,local]\n",
      "\u001b[32mlibstdc++-9-dev\u001b[0m/now 9.3.0-17ubuntu1~20.04 amd64 [installed,local]\n",
      "\u001b[32mlibstdc++6\u001b[0m/now 10.3.0-1ubuntu1~20.04 amd64 [installed,local]\n",
      "\u001b[32mlibsystemd0\u001b[0m/now 245.4-4ubuntu3.13 amd64 [installed,local]\n",
      "\u001b[32mlibtasn1-6\u001b[0m/now 4.16.0-2 amd64 [installed,local]\n",
      "\u001b[32mlibtinfo6\u001b[0m/now 6.2-0ubuntu2 amd64 [installed,local]\n",
      "\u001b[32mlibtsan0\u001b[0m/now 10.3.0-1ubuntu1~20.04 amd64 [installed,local]\n",
      "\u001b[32mlibubsan1\u001b[0m/now 10.3.0-1ubuntu1~20.04 amd64 [installed,local]\n",
      "\u001b[32mlibudev1\u001b[0m/now 245.4-4ubuntu3.13 amd64 [installed,local]\n",
      "\u001b[32mlibunistring2\u001b[0m/now 0.9.10-2 amd64 [installed,local]\n",
      "\u001b[32mlibuuid1\u001b[0m/now 2.34-0.1ubuntu9.1 amd64 [installed,local]\n",
      "\u001b[32mlibvulkan1\u001b[0m/now 1.2.131.2-1 amd64 [installed,local]\n",
      "\u001b[32mlibwind0-heimdal\u001b[0m/now 7.7.0+dfsg-1ubuntu1 amd64 [installed,local]\n",
      "\u001b[32mlibx11-6\u001b[0m/now 2:1.6.9-2ubuntu1.2 amd64 [installed,local]\n",
      "\u001b[32mlibx11-data\u001b[0m/now 2:1.6.9-2ubuntu1.2 all [installed,local]\n",
      "\u001b[32mlibx11-xcb1\u001b[0m/now 2:1.6.9-2ubuntu1.2 amd64 [installed,local]\n",
      "\u001b[32mlibxau6\u001b[0m/now 1:1.0.9-0ubuntu1 amd64 [installed,local]\n",
      "\u001b[32mlibxcb-dri2-0\u001b[0m/now 1.14-2 amd64 [installed,local]\n",
      "\u001b[32mlibxcb-dri3-0\u001b[0m/now 1.14-2 amd64 [installed,local]\n",
      "\u001b[32mlibxcb-glx0\u001b[0m/now 1.14-2 amd64 [installed,local]\n",
      "\u001b[32mlibxcb-present0\u001b[0m/now 1.14-2 amd64 [installed,local]\n",
      "\u001b[32mlibxcb-shm0\u001b[0m/now 1.14-2 amd64 [installed,local]\n",
      "\u001b[32mlibxcb-sync1\u001b[0m/now 1.14-2 amd64 [installed,local]\n",
      "\u001b[32mlibxcb-xfixes0\u001b[0m/now 1.14-2 amd64 [installed,local]\n",
      "\u001b[32mlibxcb1\u001b[0m/now 1.14-2 amd64 [installed,local]\n",
      "\u001b[32mlibxdmcp6\u001b[0m/now 1:1.1.3-0ubuntu1 amd64 [installed,local]\n",
      "\u001b[32mlibxext6\u001b[0m/now 2:1.3.4-0ubuntu1 amd64 [installed,local]\n",
      "\u001b[32mlibxfixes3\u001b[0m/now 1:5.0.3-2 amd64 [installed,local]\n",
      "\u001b[32mlibxshmfence1\u001b[0m/now 1.3-1 amd64 [installed,local]\n",
      "\u001b[32mlibxxf86vm1\u001b[0m/now 1:1.1.4-1build1 amd64 [installed,local]\n",
      "\u001b[32mlibzstd1\u001b[0m/now 1.4.4+dfsg-3ubuntu0.1 amd64 [installed,local]\n",
      "\u001b[32mlinux-libc-dev\u001b[0m/now 5.4.0-91.102 amd64 [installed,local]\n",
      "\u001b[32mlogin\u001b[0m/now 1:4.8.1-1ubuntu5.20.04.1 amd64 [installed,local]\n",
      "\u001b[32mlogsave\u001b[0m/now 1.45.5-2ubuntu1 amd64 [installed,local]\n",
      "\u001b[32mlsb-base\u001b[0m/now 11.1.0ubuntu2 all [installed,local]\n",
      "\u001b[32mmake\u001b[0m/now 4.2.1-1.2 amd64 [installed,local]\n",
      "\u001b[32mmawk\u001b[0m/now 1.3.4.20200120-2 amd64 [installed,local]\n",
      "\u001b[32mmount\u001b[0m/now 2.34-0.1ubuntu9.1 amd64 [installed,local]\n",
      "\u001b[32mnano\u001b[0m/now 4.8-1ubuntu1 amd64 [installed,local]\n",
      "\u001b[32mncurses-base\u001b[0m/now 6.2-0ubuntu2 all [installed,local]\n",
      "\u001b[32mncurses-bin\u001b[0m/now 6.2-0ubuntu2 amd64 [installed,local]\n",
      "\u001b[32mopenssl\u001b[0m/now 1.1.1f-1ubuntu2.9 amd64 [installed,local]\n",
      "\u001b[32mpasswd\u001b[0m/now 1:4.8.1-1ubuntu5.20.04.1 amd64 [installed,local]\n",
      "\u001b[32mpatch\u001b[0m/now 2.7.6-6 amd64 [installed,local]\n",
      "\u001b[32mperl-base\u001b[0m/now 5.30.0-9ubuntu0.2 amd64 [installed,local]\n",
      "\u001b[32mperl-modules-5.30\u001b[0m/now 5.30.0-9ubuntu0.2 all [installed,local]\n",
      "\u001b[32mperl\u001b[0m/now 5.30.0-9ubuntu0.2 amd64 [installed,local]\n",
      "\u001b[32mprocps\u001b[0m/now 2:3.3.16-1ubuntu2.3 amd64 [installed,local]\n",
      "\u001b[32mrsync\u001b[0m/now 3.1.3-8ubuntu0.1 amd64 [installed,local]\n",
      "\u001b[32msed\u001b[0m/now 4.7-1 amd64 [installed,local]\n",
      "\u001b[32msensible-utils\u001b[0m/now 0.0.12+nmu1 all [installed,local]\n",
      "\u001b[32msysvinit-utils\u001b[0m/now 2.96-2.1ubuntu1 amd64 [installed,local]\n",
      "\u001b[32mtar\u001b[0m/now 1.30+dfsg-7ubuntu0.20.04.1 amd64 [installed,local]\n",
      "\u001b[32mubuntu-keyring\u001b[0m/now 2020.02.11.4 all [installed,local]\n",
      "\u001b[32munzip\u001b[0m/now 6.0-25ubuntu1 amd64 [installed,local]\n",
      "\u001b[32mutil-linux\u001b[0m/now 2.34-0.1ubuntu9.1 amd64 [installed,local]\n",
      "\u001b[32mwget\u001b[0m/now 1.20.3-1ubuntu2 amd64 [installed,local]\n",
      "\u001b[32mxz-utils\u001b[0m/now 5.2.4-1ubuntu1 amd64 [installed,local]\n",
      "\u001b[32mzlib1g\u001b[0m/now 1:1.2.11.dfsg-2ubuntu1.2 amd64 [installed,local]\n"
     ]
    }
   ],
   "source": [
    "!apt list"
   ]
  }
 ],
 "metadata": {
  "kernelspec": {
   "display_name": "default:Python",
   "language": "python",
   "name": "conda-env-default-py"
  },
  "language_info": {
   "codemirror_mode": {
    "name": "ipython",
    "version": 3
   },
   "file_extension": ".py",
   "mimetype": "text/x-python",
   "name": "python",
   "nbconvert_exporter": "python",
   "pygments_lexer": "ipython3",
   "version": "3.9.7"
  }
 },
 "nbformat": 4,
 "nbformat_minor": 5
}
