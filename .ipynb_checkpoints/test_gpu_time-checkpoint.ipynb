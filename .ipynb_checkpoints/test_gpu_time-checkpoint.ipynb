{
 "cells": [
  {
   "cell_type": "code",
   "execution_count": 2,
   "id": "54c429d3-9ecd-494d-a8bd-484312bd0d34",
   "metadata": {},
   "outputs": [
    {
     "name": "stdout",
     "output_type": "stream",
     "text": [
      "2022-06-16 00:50:00\n"
     ]
    }
   ],
   "source": [
    "import time\n",
    "print (time.strftime(\"%Y-%m-%d %H:%M:%S\", time.localtime()))"
   ]
  },
  {
   "cell_type": "code",
   "execution_count": 3,
   "id": "2454285f-77fc-41ee-b651-97dffe658083",
   "metadata": {},
   "outputs": [
    {
     "name": "stdout",
     "output_type": "stream",
     "text": [
      "2022-06-16 00:50:03\n",
      "Epoch 1/10\n",
      "1875/1875 [==============================] - 7s 2ms/step - loss: 0.1443 - accuracy: 0.9556\n",
      "Epoch 2/10\n",
      "1875/1875 [==============================] - 5s 2ms/step - loss: 0.0526 - accuracy: 0.9838\n",
      "Epoch 3/10\n",
      "1875/1875 [==============================] - 5s 2ms/step - loss: 0.0370 - accuracy: 0.9885\n",
      "Epoch 4/10\n",
      "1875/1875 [==============================] - 5s 2ms/step - loss: 0.0279 - accuracy: 0.9913\n",
      "Epoch 5/10\n",
      "1875/1875 [==============================] - 5s 2ms/step - loss: 0.0217 - accuracy: 0.9929\n",
      "Epoch 6/10\n",
      "1875/1875 [==============================] - 4s 2ms/step - loss: 0.0192 - accuracy: 0.9936\n",
      "Epoch 7/10\n",
      "1875/1875 [==============================] - 5s 2ms/step - loss: 0.0154 - accuracy: 0.9947\n",
      "Epoch 8/10\n",
      "1875/1875 [==============================] - 5s 2ms/step - loss: 0.0131 - accuracy: 0.9955\n",
      "Epoch 9/10\n",
      "1875/1875 [==============================] - 4s 2ms/step - loss: 0.0111 - accuracy: 0.9964\n",
      "Epoch 10/10\n",
      "1875/1875 [==============================] - 5s 2ms/step - loss: 0.0087 - accuracy: 0.9970\n",
      "2022-06-16 00:50:52\n",
      "313/313 - 1s - loss: 0.0414 - accuracy: 0.9903 - 660ms/epoch - 2ms/step\n",
      "48.18272399902344\n"
     ]
    }
   ],
   "source": [
    "import tensorflow as tf\n",
    "(tri, trl), (tsi, tsl) = tf.keras.datasets.mnist.load_data()\n",
    "tri, tsi = tri / 255.0, tsi / 255.0\n",
    "tri = tri.reshape(tri.shape[0], 28, 28, 1)\n",
    "tsi = tsi.reshape(tsi.shape[0], 28, 28, 1)\n",
    "cnn = tf.keras.models.Sequential()\n",
    "cnn.add(tf.keras.layers.Conv2D(32, (3, 3), activation='relu', input_shape=(28, 28, 1)))\n",
    "cnn.add(tf.keras.layers.MaxPooling2D((2, 2)))\n",
    "cnn.add(tf.keras.layers.Conv2D(64, (3, 3), activation='relu'))\n",
    "cnn.add(tf.keras.layers.MaxPooling2D((2, 2)))\n",
    "cnn.add(tf.keras.layers.Flatten())\n",
    "cnn.add(tf.keras.layers.Dense(128, activation='relu'))\n",
    "cnn.add(tf.keras.layers.Dropout(0.2))\n",
    "cnn.add(tf.keras.layers.Dense(10, activation='softmax'))\n",
    "cnn.compile(optimizer='adam', loss='sparse_categorical_crossentropy', metrics=['accuracy'])\n",
    "print (time.strftime(\"%Y-%m-%d %H:%M:%S\", time.localtime()))\n",
    "start = time.time()\n",
    "cnn.fit(tri, trl, epochs=10)\n",
    "end = time.time()\n",
    "print (time.strftime(\"%Y-%m-%d %H:%M:%S\", time.localtime()))\n",
    "cnn.evaluate(tsi, tsl, verbose=2)\n",
    "print(end-start)"
   ]
  },
  {
   "cell_type": "code",
   "execution_count": 6,
   "id": "4193170d-3122-46f9-a8d5-cd963d8de55f",
   "metadata": {},
   "outputs": [
    {
     "name": "stdout",
     "output_type": "stream",
     "text": [
      "usage: conda [-h] [-V] command ...\n",
      "\n",
      "conda is a tool for managing and deploying applications, environments and packages.\n",
      "\n",
      "Options:\n",
      "\n",
      "positional arguments:\n",
      "  command\n",
      "    clean        Remove unused packages and caches.\n",
      "    compare      Compare packages between conda environments.\n",
      "    config       Modify configuration values in .condarc. This is modeled\n",
      "                 after the git config command. Writes to the user .condarc\n",
      "                 file (/home/studio-lab-user/.condarc) by default.\n",
      "    create       Create a new conda environment from a list of specified\n",
      "                 packages.\n",
      "    help         Displays a list of available conda commands and their help\n",
      "                 strings.\n",
      "    info         Display information about current conda install.\n",
      "    init         Initialize conda for shell interaction. [Experimental]\n",
      "    install      Installs a list of packages into a specified conda\n",
      "                 environment.\n",
      "    list         List linked packages in a conda environment.\n",
      "    package      Low-level conda package utility. (EXPERIMENTAL)\n",
      "    remove       Remove a list of packages from a specified conda environment.\n",
      "    uninstall    Alias for conda remove.\n",
      "    run          Run an executable in a conda environment. [Experimental]\n",
      "    search       Search for packages and display associated information. The\n",
      "                 input is a MatchSpec, a query language for conda packages.\n",
      "                 See examples below.\n",
      "    update       Updates conda packages to the latest compatible version.\n",
      "    upgrade      Alias for conda update.\n",
      "\n",
      "optional arguments:\n",
      "  -h, --help     Show this help message and exit.\n",
      "  -V, --version  Show the conda version number and exit.\n",
      "\n",
      "conda commands available from other packages:\n",
      "  env\n"
     ]
    }
   ],
   "source": [
    "!conda -h"
   ]
  },
  {
   "cell_type": "code",
   "execution_count": 7,
   "id": "3205bf6d-1fd6-4297-84bd-4ef0dd4330df",
   "metadata": {},
   "outputs": [
    {
     "name": "stdout",
     "output_type": "stream",
     "text": [
      "\n",
      "     active environment : default\n",
      "    active env location : /home/studio-lab-user/.conda/envs/default\n",
      "            shell level : 2\n",
      "       user config file : /home/studio-lab-user/.condarc\n",
      " populated config files : /etc/conda/.condarc\n",
      "                          /opt/conda/.condarc\n",
      "          conda version : 4.10.3\n",
      "    conda-build version : not installed\n",
      "         python version : 3.9.7.final.0\n",
      "       virtual packages : __cuda=11.4=0\n",
      "                          __linux=4.14.256=0\n",
      "                          __glibc=2.31=0\n",
      "                          __unix=0=0\n",
      "                          __archspec=1=x86_64\n",
      "       base environment : /opt/conda  (read only)\n",
      "      conda av data dir : /opt/conda/etc/conda\n",
      "  conda av metadata url : None\n",
      "           channel URLs : https://conda.anaconda.org/conda-forge/linux-64\n",
      "                          https://conda.anaconda.org/conda-forge/noarch\n",
      "          package cache : /home/studio-lab-user/.conda/pkgs\n",
      "                          /opt/conda/pkgs\n",
      "       envs directories : /home/studio-lab-user/.conda/envs\n",
      "                          /opt/conda/envs\n",
      "               platform : linux-64\n",
      "             user-agent : conda/4.10.3 requests/2.26.0 CPython/3.9.7 Linux/4.14.256-197.484.amzn2.x86_64 ubuntu/20.04.3 glibc/2.31\n",
      "                UID:GID : 1000:100\n",
      "             netrc file : None\n",
      "           offline mode : False\n",
      "\n"
     ]
    }
   ],
   "source": [
    "!conda info"
   ]
  },
  {
   "cell_type": "code",
   "execution_count": 9,
   "id": "8a0ce58e-2792-4faf-b4c9-df012d48961f",
   "metadata": {},
   "outputs": [
    {
     "name": "stdout",
     "output_type": "stream",
     "text": [
      "# conda environments:\n",
      "#\n",
      "default               *  /home/studio-lab-user/.conda/envs/default\n",
      "studiolab                /home/studio-lab-user/.conda/envs/studiolab\n",
      "base                     /opt/conda\n",
      "\n"
     ]
    }
   ],
   "source": [
    "!conda env list"
   ]
  },
  {
   "cell_type": "raw",
   "id": "cc0f09f8-380a-428c-ae69-19cf47341254",
   "metadata": {},
   "source": [
    "(studiolab) studio-lab-user@default:~$ conda info\n",
    "\n",
    "     active environment : studiolab\n",
    "    active env location : /home/studio-lab-user/.conda/envs/studiolab\n",
    "            shell level : 1\n",
    "       user config file : /home/studio-lab-user/.condarc\n",
    " populated config files : /etc/conda/.condarc\n",
    "                          /opt/conda/.condarc\n",
    "          conda version : 4.10.3\n",
    "    conda-build version : not installed\n",
    "         python version : 3.9.7.final.0\n",
    "       virtual packages : __cuda=11.4=0\n",
    "                          __linux=4.14.256=0\n",
    "                          __glibc=2.31=0\n",
    "                          __unix=0=0\n",
    "                          __archspec=1=x86_64\n",
    "       base environment : /opt/conda  (read only)\n",
    "      conda av data dir : /opt/conda/etc/conda\n",
    "  conda av metadata url : None\n",
    "           channel URLs : https://conda.anaconda.org/conda-forge/linux-64\n",
    "                          https://conda.anaconda.org/conda-forge/noarch\n",
    "          package cache : /home/studio-lab-user/.conda/pkgs\n",
    "                          /opt/conda/pkgs\n",
    "       envs directories : /home/studio-lab-user/.conda/envs\n",
    "                          /opt/conda/envs\n",
    "               platform : linux-64\n",
    "             user-agent : conda/4.10.3 requests/2.26.0 CPython/3.9.7 Linux/4.14.256-197.484.amzn2.x86_64 ubuntu/20.04.3 glibc/2.31\n",
    "                UID:GID : 1000:100\n",
    "             netrc file : None\n",
    "           offline mode : False\n",
    "\n",
    "(studiolab) studio-lab-user@default:~$ conda env list\n",
    "# conda environments:\n",
    "#\n",
    "default                  /home/studio-lab-user/.conda/envs/default\n",
    "studiolab             *  /home/studio-lab-user/.conda/envs/studiolab\n",
    "base                     /opt/conda"
   ]
  }
 ],
 "metadata": {
  "kernelspec": {
   "display_name": "default:Python",
   "language": "python",
   "name": "conda-env-default-py"
  },
  "language_info": {
   "codemirror_mode": {
    "name": "ipython",
    "version": 3
   },
   "file_extension": ".py",
   "mimetype": "text/x-python",
   "name": "python",
   "nbconvert_exporter": "python",
   "pygments_lexer": "ipython3",
   "version": "3.9.7"
  }
 },
 "nbformat": 4,
 "nbformat_minor": 5
}
