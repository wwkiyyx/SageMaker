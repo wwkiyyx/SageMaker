{
 "cells": [
  {
   "cell_type": "code",
   "execution_count": 1,
   "id": "a368419e-be3b-4abf-87bc-e585595c09b2",
   "metadata": {
    "tags": []
   },
   "outputs": [
    {
     "name": "stdout",
     "output_type": "stream",
     "text": [
      "conda 4.10.3\n",
      "Python 3.9.7\n",
      "pip 21.2.4 from /home/studio-lab-user/.conda/envs/default/lib/python3.9/site-packages/pip (python 3.9)\n"
     ]
    }
   ],
   "source": [
    "!conda -V\n",
    "!python -V\n",
    "!pip -V"
   ]
  },
  {
   "cell_type": "code",
   "execution_count": null,
   "id": "8257a2cc-908a-43a7-a5df-ecdbf6cdb07f",
   "metadata": {},
   "outputs": [],
   "source": [
    "!pip install matplotlib"
   ]
  },
  {
   "cell_type": "code",
   "execution_count": null,
   "id": "e87852fc-fe6a-49d7-9593-0ff1209e8eee",
   "metadata": {},
   "outputs": [],
   "source": [
    "!pip install opencv-python"
   ]
  },
  {
   "cell_type": "code",
   "execution_count": null,
   "id": "53644589-04cb-4c63-abcf-43a6be3813bc",
   "metadata": {},
   "outputs": [],
   "source": [
    "!pip install Pillow"
   ]
  },
  {
   "cell_type": "code",
   "execution_count": null,
   "id": "987c335d-0ede-444f-9e8e-60ff74f49e92",
   "metadata": {},
   "outputs": [],
   "source": [
    "!pip install PyYAML"
   ]
  },
  {
   "cell_type": "code",
   "execution_count": null,
   "id": "fba0c173-6cad-465c-b167-e5633683cc38",
   "metadata": {},
   "outputs": [],
   "source": [
    "!pip install scipy"
   ]
  },
  {
   "cell_type": "code",
   "execution_count": null,
   "id": "967a2673-cb4b-41c2-b4ab-9eeb82de2646",
   "metadata": {},
   "outputs": [],
   "source": [
    "pip install tqdm"
   ]
  },
  {
   "cell_type": "code",
   "execution_count": null,
   "id": "0acfd096-8c41-414a-8681-33e18ee7d364",
   "metadata": {},
   "outputs": [],
   "source": [
    "!pip install wandb"
   ]
  },
  {
   "cell_type": "code",
   "execution_count": null,
   "id": "eeeaad4c-7476-44b8-942c-05839533b174",
   "metadata": {},
   "outputs": [],
   "source": [
    "!pip install seaborn"
   ]
  },
  {
   "cell_type": "code",
   "execution_count": null,
   "id": "3794b671-c03d-4e68-b00a-e319673d1b03",
   "metadata": {},
   "outputs": [],
   "source": [
    "!pip install pandas"
   ]
  },
  {
   "cell_type": "code",
   "execution_count": null,
   "id": "9a9d8d81-a8b9-46b0-b1c2-c92928e0275d",
   "metadata": {},
   "outputs": [],
   "source": [
    "!pip install coremltools"
   ]
  },
  {
   "cell_type": "code",
   "execution_count": null,
   "id": "3f42fbd9-b20e-45dd-ace2-6bceb265a50a",
   "metadata": {},
   "outputs": [],
   "source": [
    "!pip install onnx"
   ]
  },
  {
   "cell_type": "code",
   "execution_count": null,
   "id": "fb045739-3d8f-4ee1-ad4e-d88348937c45",
   "metadata": {},
   "outputs": [],
   "source": [
    "!pip install scikit-learn"
   ]
  },
  {
   "cell_type": "code",
   "execution_count": null,
   "id": "2c6759a2-57cc-4dee-a3b1-556d85f88b38",
   "metadata": {},
   "outputs": [],
   "source": [
    "!pip install pycocotools"
   ]
  },
  {
   "cell_type": "code",
   "execution_count": null,
   "id": "4f5449b4-c83f-47cd-97c4-f3fb123985af",
   "metadata": {},
   "outputs": [],
   "source": [
    "!pip install thop"
   ]
  },
  {
   "cell_type": "code",
   "execution_count": null,
   "id": "1e693e7a-ce14-4082-9c8d-30250ce43d82",
   "metadata": {},
   "outputs": [],
   "source": [
    "!pip install torch"
   ]
  },
  {
   "cell_type": "code",
   "execution_count": null,
   "id": "d1dde906-1c40-4aad-96b5-4373c9265b06",
   "metadata": {},
   "outputs": [],
   "source": [
    "!pip install --upgrade torch"
   ]
  },
  {
   "cell_type": "code",
   "execution_count": null,
   "id": "72c31670-1dcd-4956-b8d4-bb0df8c6fb31",
   "metadata": {},
   "outputs": [],
   "source": [
    "!pip install torchvision"
   ]
  },
  {
   "cell_type": "code",
   "execution_count": null,
   "id": "b170980f-12f7-4cae-ad25-467ba640cce2",
   "metadata": {},
   "outputs": [],
   "source": [
    "!pip install --upgrade torchvision"
   ]
  },
  {
   "cell_type": "code",
   "execution_count": null,
   "id": "ff4fc399-79a2-4397-a619-5ee5c2fb84b8",
   "metadata": {},
   "outputs": [],
   "source": [
    "!pip install numpy"
   ]
  },
  {
   "cell_type": "code",
   "execution_count": 2,
   "id": "c74370a8-28b2-4e6f-bddf-922d1f413fdf",
   "metadata": {
    "tags": []
   },
   "outputs": [
    {
     "name": "stdout",
     "output_type": "stream",
     "text": [
      "1.11.0+cu102 False\n"
     ]
    }
   ],
   "source": [
    "import torch\n",
    "print(torch.__version__, torch.cuda.is_available())"
   ]
  },
  {
   "cell_type": "code",
   "execution_count": null,
   "id": "788848ee-0a74-43c9-b0c3-6a54ba44959c",
   "metadata": {
    "tags": []
   },
   "outputs": [],
   "source": [
    "!pip install tensorflow-gpu"
   ]
  },
  {
   "cell_type": "code",
   "execution_count": null,
   "id": "0e11c3c0-4856-4923-97d6-7c676b372933",
   "metadata": {},
   "outputs": [],
   "source": [
    "!pip uninstall tensorflow-gpu -y"
   ]
  },
  {
   "cell_type": "code",
   "execution_count": null,
   "id": "45603ed2-0a00-404d-8c9b-91413af2297a",
   "metadata": {},
   "outputs": [],
   "source": [
    "!pip install tensorflow"
   ]
  },
  {
   "cell_type": "code",
   "execution_count": 3,
   "id": "7d4f2ab6-b14f-4e58-9b2c-81b9ebb5fdab",
   "metadata": {
    "tags": []
   },
   "outputs": [
    {
     "name": "stderr",
     "output_type": "stream",
     "text": [
      "2022-05-18 05:37:07.748819: W tensorflow/stream_executor/platform/default/dso_loader.cc:64] Could not load dynamic library 'libcudart.so.11.0'; dlerror: libcudart.so.11.0: cannot open shared object file: No such file or directory\n",
      "2022-05-18 05:37:07.748859: I tensorflow/stream_executor/cuda/cudart_stub.cc:29] Ignore above cudart dlerror if you do not have a GPU set up on your machine.\n"
     ]
    },
    {
     "name": "stdout",
     "output_type": "stream",
     "text": [
      "2.9.0\n"
     ]
    }
   ],
   "source": [
    "import tensorflow\n",
    "print(tensorflow.__version__)"
   ]
  },
  {
   "cell_type": "code",
   "execution_count": 4,
   "id": "24d6683b-97f1-477c-80f5-c481aa250d4a",
   "metadata": {},
   "outputs": [
    {
     "name": "stdout",
     "output_type": "stream",
     "text": [
      "Files removed: 13\n"
     ]
    }
   ],
   "source": [
    "!pip cache purge"
   ]
  },
  {
   "cell_type": "code",
   "execution_count": 14,
   "id": "f7d46f53-f5ad-4960-94e3-35f3487a1191",
   "metadata": {},
   "outputs": [
    {
     "name": "stdout",
     "output_type": "stream",
     "text": [
      "Linux default 4.14.256-197.484.amzn2.x86_64 #1 SMP Tue Nov 30 00:17:50 UTC 2021 x86_64 x86_64 x86_64 GNU/Linux\n"
     ]
    }
   ],
   "source": [
    "!uname -a"
   ]
  },
  {
   "cell_type": "code",
   "execution_count": 15,
   "id": "25627344-087c-43ba-8427-e593160fb1eb",
   "metadata": {},
   "outputs": [
    {
     "name": "stdout",
     "output_type": "stream",
     "text": [
      "Linux version 4.14.256-197.484.amzn2.x86_64 (mockbuild@ip-10-0-37-156) (gcc version 7.3.1 20180712 (Red Hat 7.3.1-13) (GCC)) #1 SMP Tue Nov 30 00:17:50 UTC 2021\n"
     ]
    }
   ],
   "source": [
    "!cat /proc/version"
   ]
  },
  {
   "cell_type": "code",
   "execution_count": 16,
   "id": "21bdd375-a7b9-4f9c-bea3-3c4f419b52a9",
   "metadata": {},
   "outputs": [
    {
     "name": "stdout",
     "output_type": "stream",
     "text": [
      "Ubuntu 20.04.3 LTS \\n \\l\n",
      "\n"
     ]
    }
   ],
   "source": [
    "!cat /etc/issue"
   ]
  },
  {
   "cell_type": "code",
   "execution_count": 24,
   "id": "c3c8a65b-1b83-48b2-9652-bc882aea3655",
   "metadata": {},
   "outputs": [
    {
     "name": "stdout",
     "output_type": "stream",
     "text": [
      "Filesystem      Size  Used Avail Use% Mounted on\n",
      "overlay          27G   56K   27G   1% /\n",
      "tmpfs            64M     0   64M   0% /dev\n",
      "tmpfs           7.7G     0  7.7G   0% /sys/fs/cgroup\n",
      "shm             4.0G     0  4.0G   0% /dev/shm\n",
      "/dev/nvme0n1p1   50G   14G   37G  28% /usr/bin/nvidia-smi\n",
      "/dev/nvme2n1     25G   10G   16G  40% /home/studio-lab-user\n",
      "devtmpfs        7.7G     0  7.7G   0% /dev/tty\n",
      "tmpfs           7.7G   12K  7.7G   1% /proc/driver/nvidia\n",
      "tmpfs           7.7G     0  7.7G   0% /proc/acpi\n",
      "tmpfs           7.7G     0  7.7G   0% /sys/firmware\n"
     ]
    }
   ],
   "source": [
    "!df -h"
   ]
  },
  {
   "cell_type": "code",
   "execution_count": 2,
   "id": "d04100cb-37fd-463c-8fb7-ded4fbdf491f",
   "metadata": {},
   "outputs": [
    {
     "name": "stdout",
     "output_type": "stream",
     "text": [
      "1\t/NGC-DL-CONTAINER-LICENSE\n",
      "0\t/bin\n",
      "0\t/boot\n",
      "0\t/dev\n",
      "du: cannot read directory '/etc/ssl/private': Permission denied\n",
      "1\t/etc\n",
      "8816\t/home\n",
      "0\t/lib\n",
      "0\t/lib32\n",
      "0\t/lib64\n",
      "0\t/libx32\n",
      "0\t/media\n",
      "0\t/mnt\n",
      "2291\t/opt\n",
      "du: cannot read directory '/proc/tty/driver': Permission denied\n",
      "du: cannot access '/proc/112/task/112/fd/3': No such file or directory\n",
      "du: cannot access '/proc/112/task/112/fdinfo/3': No such file or directory\n",
      "du: cannot access '/proc/112/fd/3': No such file or directory\n",
      "du: cannot access '/proc/112/fdinfo/3': No such file or directory\n",
      "1\t/proc\n",
      "du: cannot read directory '/root': Permission denied\n",
      "0\t/root\n",
      "1\t/run\n",
      "0\t/sbin\n",
      "0\t/srv\n",
      "0\t/sys\n",
      "0\t/tmp\n",
      "3762\t/usr\n",
      "du: cannot read directory '/var/cache/apt/archives/partial': Permission denied\n",
      "du: cannot read directory '/var/cache/ldconfig': Permission denied\n",
      "11\t/var\n"
     ]
    }
   ],
   "source": [
    "!du -sm /*"
   ]
  },
  {
   "cell_type": "code",
   "execution_count": 4,
   "id": "f24a9acf-7730-412c-a632-8426d6bd8300",
   "metadata": {},
   "outputs": [
    {
     "name": "stdout",
     "output_type": "stream",
     "text": [
      "processor\t: 0\n",
      "vendor_id\t: GenuineIntel\n",
      "cpu family\t: 6\n",
      "model\t\t: 85\n",
      "model name\t: Intel(R) Xeon(R) Platinum 8259CL CPU @ 2.50GHz\n",
      "stepping\t: 7\n",
      "microcode\t: 0x5003103\n",
      "cpu MHz\t\t: 3175.186\n",
      "cache size\t: 36608 KB\n",
      "physical id\t: 0\n",
      "siblings\t: 4\n",
      "core id\t\t: 0\n",
      "cpu cores\t: 2\n",
      "apicid\t\t: 0\n",
      "initial apicid\t: 0\n",
      "fpu\t\t: yes\n",
      "fpu_exception\t: yes\n",
      "cpuid level\t: 13\n",
      "wp\t\t: yes\n",
      "flags\t\t: fpu vme de pse tsc msr pae mce cx8 apic sep mtrr pge mca cmov pat pse36 clflush mmx fxsr sse sse2 ss ht syscall nx pdpe1gb rdtscp lm constant_tsc rep_good nopl xtopology nonstop_tsc cpuid aperfmperf tsc_known_freq pni pclmulqdq ssse3 fma cx16 pcid sse4_1 sse4_2 x2apic movbe popcnt tsc_deadline_timer aes xsave avx f16c rdrand hypervisor lahf_lm abm 3dnowprefetch invpcid_single pti fsgsbase tsc_adjust bmi1 avx2 smep bmi2 erms invpcid mpx avx512f avx512dq rdseed adx smap clflushopt clwb avx512cd avx512bw avx512vl xsaveopt xsavec xgetbv1 xsaves ida arat pku ospke avx512_vnni\n",
      "bugs\t\t: cpu_meltdown spectre_v1 spectre_v2 spec_store_bypass l1tf mds swapgs itlb_multihit\n",
      "bogomips\t: 4999.99\n",
      "clflush size\t: 64\n",
      "cache_alignment\t: 64\n",
      "address sizes\t: 46 bits physical, 48 bits virtual\n",
      "power management:\n",
      "\n",
      "processor\t: 1\n",
      "vendor_id\t: GenuineIntel\n",
      "cpu family\t: 6\n",
      "model\t\t: 85\n",
      "model name\t: Intel(R) Xeon(R) Platinum 8259CL CPU @ 2.50GHz\n",
      "stepping\t: 7\n",
      "microcode\t: 0x5003103\n",
      "cpu MHz\t\t: 3194.178\n",
      "cache size\t: 36608 KB\n",
      "physical id\t: 0\n",
      "siblings\t: 4\n",
      "core id\t\t: 1\n",
      "cpu cores\t: 2\n",
      "apicid\t\t: 2\n",
      "initial apicid\t: 2\n",
      "fpu\t\t: yes\n",
      "fpu_exception\t: yes\n",
      "cpuid level\t: 13\n",
      "wp\t\t: yes\n",
      "flags\t\t: fpu vme de pse tsc msr pae mce cx8 apic sep mtrr pge mca cmov pat pse36 clflush mmx fxsr sse sse2 ss ht syscall nx pdpe1gb rdtscp lm constant_tsc rep_good nopl xtopology nonstop_tsc cpuid aperfmperf tsc_known_freq pni pclmulqdq ssse3 fma cx16 pcid sse4_1 sse4_2 x2apic movbe popcnt tsc_deadline_timer aes xsave avx f16c rdrand hypervisor lahf_lm abm 3dnowprefetch invpcid_single pti fsgsbase tsc_adjust bmi1 avx2 smep bmi2 erms invpcid mpx avx512f avx512dq rdseed adx smap clflushopt clwb avx512cd avx512bw avx512vl xsaveopt xsavec xgetbv1 xsaves ida arat pku ospke avx512_vnni\n",
      "bugs\t\t: cpu_meltdown spectre_v1 spectre_v2 spec_store_bypass l1tf mds swapgs itlb_multihit\n",
      "bogomips\t: 4999.99\n",
      "clflush size\t: 64\n",
      "cache_alignment\t: 64\n",
      "address sizes\t: 46 bits physical, 48 bits virtual\n",
      "power management:\n",
      "\n",
      "processor\t: 2\n",
      "vendor_id\t: GenuineIntel\n",
      "cpu family\t: 6\n",
      "model\t\t: 85\n",
      "model name\t: Intel(R) Xeon(R) Platinum 8259CL CPU @ 2.50GHz\n",
      "stepping\t: 7\n",
      "microcode\t: 0x5003103\n",
      "cpu MHz\t\t: 3185.212\n",
      "cache size\t: 36608 KB\n",
      "physical id\t: 0\n",
      "siblings\t: 4\n",
      "core id\t\t: 0\n",
      "cpu cores\t: 2\n",
      "apicid\t\t: 1\n",
      "initial apicid\t: 1\n",
      "fpu\t\t: yes\n",
      "fpu_exception\t: yes\n",
      "cpuid level\t: 13\n",
      "wp\t\t: yes\n",
      "flags\t\t: fpu vme de pse tsc msr pae mce cx8 apic sep mtrr pge mca cmov pat pse36 clflush mmx fxsr sse sse2 ss ht syscall nx pdpe1gb rdtscp lm constant_tsc rep_good nopl xtopology nonstop_tsc cpuid aperfmperf tsc_known_freq pni pclmulqdq ssse3 fma cx16 pcid sse4_1 sse4_2 x2apic movbe popcnt tsc_deadline_timer aes xsave avx f16c rdrand hypervisor lahf_lm abm 3dnowprefetch invpcid_single pti fsgsbase tsc_adjust bmi1 avx2 smep bmi2 erms invpcid mpx avx512f avx512dq rdseed adx smap clflushopt clwb avx512cd avx512bw avx512vl xsaveopt xsavec xgetbv1 xsaves ida arat pku ospke avx512_vnni\n",
      "bugs\t\t: cpu_meltdown spectre_v1 spectre_v2 spec_store_bypass l1tf mds swapgs itlb_multihit\n",
      "bogomips\t: 4999.99\n",
      "clflush size\t: 64\n",
      "cache_alignment\t: 64\n",
      "address sizes\t: 46 bits physical, 48 bits virtual\n",
      "power management:\n",
      "\n",
      "processor\t: 3\n",
      "vendor_id\t: GenuineIntel\n",
      "cpu family\t: 6\n",
      "model\t\t: 85\n",
      "model name\t: Intel(R) Xeon(R) Platinum 8259CL CPU @ 2.50GHz\n",
      "stepping\t: 7\n",
      "microcode\t: 0x5003103\n",
      "cpu MHz\t\t: 3182.667\n",
      "cache size\t: 36608 KB\n",
      "physical id\t: 0\n",
      "siblings\t: 4\n",
      "core id\t\t: 1\n",
      "cpu cores\t: 2\n",
      "apicid\t\t: 3\n",
      "initial apicid\t: 3\n",
      "fpu\t\t: yes\n",
      "fpu_exception\t: yes\n",
      "cpuid level\t: 13\n",
      "wp\t\t: yes\n",
      "flags\t\t: fpu vme de pse tsc msr pae mce cx8 apic sep mtrr pge mca cmov pat pse36 clflush mmx fxsr sse sse2 ss ht syscall nx pdpe1gb rdtscp lm constant_tsc rep_good nopl xtopology nonstop_tsc cpuid aperfmperf tsc_known_freq pni pclmulqdq ssse3 fma cx16 pcid sse4_1 sse4_2 x2apic movbe popcnt tsc_deadline_timer aes xsave avx f16c rdrand hypervisor lahf_lm abm 3dnowprefetch invpcid_single pti fsgsbase tsc_adjust bmi1 avx2 smep bmi2 erms invpcid mpx avx512f avx512dq rdseed adx smap clflushopt clwb avx512cd avx512bw avx512vl xsaveopt xsavec xgetbv1 xsaves ida arat pku ospke avx512_vnni\n",
      "bugs\t\t: cpu_meltdown spectre_v1 spectre_v2 spec_store_bypass l1tf mds swapgs itlb_multihit\n",
      "bogomips\t: 4999.99\n",
      "clflush size\t: 64\n",
      "cache_alignment\t: 64\n",
      "address sizes\t: 46 bits physical, 48 bits virtual\n",
      "power management:\n",
      "\n"
     ]
    }
   ],
   "source": [
    "!cat /proc/cpuinfo"
   ]
  },
  {
   "cell_type": "code",
   "execution_count": 5,
   "id": "e47dc274-5373-48ec-bb14-be9e202f06dd",
   "metadata": {},
   "outputs": [
    {
     "name": "stdout",
     "output_type": "stream",
     "text": [
      "      4  Intel(R) Xeon(R) Platinum 8259CL CPU @ 2.50GHz\n"
     ]
    }
   ],
   "source": [
    "!cat /proc/cpuinfo | grep name | cut -f2 -d: | uniq -c"
   ]
  },
  {
   "cell_type": "code",
   "execution_count": 6,
   "id": "69ee1c4c-81d4-4004-843b-538c4105e290",
   "metadata": {},
   "outputs": [
    {
     "name": "stdout",
     "output_type": "stream",
     "text": [
      "cpu cores\t: 2\n",
      "cpu cores\t: 2\n",
      "cpu cores\t: 2\n",
      "cpu cores\t: 2\n"
     ]
    }
   ],
   "source": [
    "!cat /proc/cpuinfo |grep \"cores\""
   ]
  },
  {
   "cell_type": "code",
   "execution_count": 7,
   "id": "02f59642-e781-4497-ba75-ac6200f4b98b",
   "metadata": {},
   "outputs": [
    {
     "name": "stdout",
     "output_type": "stream",
     "text": [
      "MemTotal:       16121240 kB\n",
      "MemFree:         7455652 kB\n",
      "MemAvailable:   15007748 kB\n",
      "Buffers:            2088 kB\n",
      "Cached:          7505392 kB\n",
      "SwapCached:            0 kB\n",
      "Active:           710736 kB\n",
      "Inactive:        7249092 kB\n",
      "Active(anon):     387156 kB\n",
      "Inactive(anon):      308 kB\n",
      "Active(file):     323580 kB\n",
      "Inactive(file):  7248784 kB\n",
      "Unevictable:           0 kB\n",
      "Mlocked:               0 kB\n",
      "SwapTotal:             0 kB\n",
      "SwapFree:              0 kB\n",
      "Dirty:                40 kB\n",
      "Writeback:             0 kB\n",
      "AnonPages:        452616 kB\n",
      "Mapped:           263024 kB\n",
      "Shmem:               620 kB\n",
      "Slab:             443204 kB\n",
      "SReclaimable:     316420 kB\n",
      "SUnreclaim:       126784 kB\n",
      "KernelStack:        4816 kB\n",
      "PageTables:         6804 kB\n",
      "NFS_Unstable:          0 kB\n",
      "Bounce:                0 kB\n",
      "WritebackTmp:          0 kB\n",
      "CommitLimit:     8060620 kB\n",
      "Committed_AS:    2359852 kB\n",
      "VmallocTotal:   34359738367 kB\n",
      "VmallocUsed:           0 kB\n",
      "VmallocChunk:          0 kB\n",
      "HardwareCorrupted:     0 kB\n",
      "AnonHugePages:         0 kB\n",
      "ShmemHugePages:        0 kB\n",
      "ShmemPmdMapped:        0 kB\n",
      "HugePages_Total:       0\n",
      "HugePages_Free:        0\n",
      "HugePages_Rsvd:        0\n",
      "HugePages_Surp:        0\n",
      "Hugepagesize:       2048 kB\n",
      "DirectMap4k:      284584 kB\n",
      "DirectMap2M:     7796736 kB\n",
      "DirectMap1G:     8388608 kB\n"
     ]
    }
   ],
   "source": [
    "!cat /proc/meminfo"
   ]
  },
  {
   "cell_type": "code",
   "execution_count": 8,
   "id": "e0b3271d-893c-4700-a5b9-646db5dcc36e",
   "metadata": {},
   "outputs": [
    {
     "name": "stdout",
     "output_type": "stream",
     "text": [
      "              total        used        free      shared  buff/cache   available\n",
      "Mem:       16121240      842640     7454628         620     7823972    15006796\n",
      "Swap:             0           0           0\n"
     ]
    }
   ],
   "source": [
    "!free"
   ]
  },
  {
   "cell_type": "code",
   "execution_count": 9,
   "id": "3c1f3cf3-44c0-4026-9e5d-00a4c68b0b74",
   "metadata": {},
   "outputs": [
    {
     "name": "stdout",
     "output_type": "stream",
     "text": [
      "nvcc: NVIDIA (R) Cuda compiler driver\n",
      "Copyright (c) 2005-2021 NVIDIA Corporation\n",
      "Built on Sun_Feb_14_21:12:58_PST_2021\n",
      "Cuda compilation tools, release 11.2, V11.2.152\n",
      "Build cuda_11.2.r11.2/compiler.29618528_0\n"
     ]
    }
   ],
   "source": [
    "!nvcc -V"
   ]
  },
  {
   "cell_type": "code",
   "execution_count": 13,
   "id": "8de07f7b-13bc-4b01-9c56-c25639f2deaa",
   "metadata": {},
   "outputs": [
    {
     "name": "stdout",
     "output_type": "stream",
     "text": [
      "Fri Jan 21 12:59:27 2022       \n",
      "+-----------------------------------------------------------------------------+\n",
      "| NVIDIA-SMI 470.57.02    Driver Version: 470.57.02    CUDA Version: 11.4     |\n",
      "|-------------------------------+----------------------+----------------------+\n",
      "| GPU  Name        Persistence-M| Bus-Id        Disp.A | Volatile Uncorr. ECC |\n",
      "| Fan  Temp  Perf  Pwr:Usage/Cap|         Memory-Usage | GPU-Util  Compute M. |\n",
      "|                               |                      |               MIG M. |\n",
      "|===============================+======================+======================|\n",
      "|   0  Tesla T4            Off  | 00000000:00:1E.0 Off |                    0 |\n",
      "| N/A   26C    P0    26W /  70W |      0MiB / 15109MiB |      0%      Default |\n",
      "|                               |                      |                  N/A |\n",
      "+-------------------------------+----------------------+----------------------+\n",
      "                                                                               \n",
      "+-----------------------------------------------------------------------------+\n",
      "| Processes:                                                                  |\n",
      "|  GPU   GI   CI        PID   Type   Process name                  GPU Memory |\n",
      "|        ID   ID                                                   Usage      |\n",
      "|=============================================================================|\n",
      "|  No running processes found                                                 |\n",
      "+-----------------------------------------------------------------------------+\n"
     ]
    }
   ],
   "source": [
    "!nvidia-smi"
   ]
  },
  {
   "cell_type": "code",
   "execution_count": 5,
   "id": "8f5d4888-314f-454a-9958-400be450acc4",
   "metadata": {},
   "outputs": [
    {
     "name": "stdout",
     "output_type": "stream",
     "text": [
      "Package                       Version\n",
      "----------------------------- ---------\n",
      "absl-py                       1.0.0\n",
      "argon2-cffi                   21.1.0\n",
      "astunparse                    1.6.3\n",
      "async-generator               1.10\n",
      "attrs                         21.2.0\n",
      "backcall                      0.2.0\n",
      "backports.functools-lru-cache 1.6.4\n",
      "bleach                        4.1.0\n",
      "cachetools                    4.2.4\n",
      "certifi                       2021.10.8\n",
      "cffi                          1.15.0\n",
      "charset-normalizer            2.0.10\n",
      "debugpy                       1.5.1\n",
      "decorator                     5.1.0\n",
      "defusedxml                    0.7.1\n",
      "entrypoints                   0.3\n",
      "flatbuffers                   2.0\n",
      "gast                          0.4.0\n",
      "google-auth                   2.3.3\n",
      "google-auth-oauthlib          0.4.6\n",
      "google-pasta                  0.2.0\n",
      "grpcio                        1.43.0\n",
      "h5py                          3.6.0\n",
      "idna                          3.3\n",
      "importlib-metadata            4.8.2\n",
      "importlib-resources           5.4.0\n",
      "ipykernel                     6.4.2\n",
      "ipython                       7.30.1\n",
      "ipython-genutils              0.2.0\n",
      "ipywidgets                    7.6.5\n",
      "jedi                          0.18.1\n",
      "Jinja2                        3.0.3\n",
      "jsonschema                    4.2.1\n",
      "jupyter-client                7.1.0\n",
      "jupyter-core                  4.9.1\n",
      "jupyterlab-pygments           0.1.2\n",
      "jupyterlab-widgets            1.0.2\n",
      "keras                         2.7.0\n",
      "Keras-Preprocessing           1.1.2\n",
      "libclang                      12.0.0\n",
      "Markdown                      3.3.6\n",
      "MarkupSafe                    2.0.1\n",
      "matplotlib-inline             0.1.3\n",
      "mistune                       0.8.4\n",
      "nbclient                      0.5.9\n",
      "nbconvert                     6.3.0\n",
      "nbformat                      5.1.3\n",
      "nest-asyncio                  1.5.4\n",
      "notebook                      6.4.6\n",
      "numpy                         1.22.1\n",
      "oauthlib                      3.1.1\n",
      "opt-einsum                    3.3.0\n",
      "packaging                     21.3\n",
      "pandocfilters                 1.5.0\n",
      "parso                         0.8.3\n",
      "pexpect                       4.8.0\n",
      "pickleshare                   0.7.5\n",
      "pip                           21.2.4\n",
      "prometheus-client             0.12.0\n",
      "prompt-toolkit                3.0.22\n",
      "protobuf                      3.19.3\n",
      "ptyprocess                    0.7.0\n",
      "pyasn1                        0.4.8\n",
      "pyasn1-modules                0.2.8\n",
      "pycparser                     2.21\n",
      "Pygments                      2.10.0\n",
      "pyparsing                     3.0.6\n",
      "pyrsistent                    0.18.0\n",
      "python-dateutil               2.8.2\n",
      "pyzmq                         22.3.0\n",
      "requests                      2.27.1\n",
      "requests-oauthlib             1.3.0\n",
      "rsa                           4.8\n",
      "Send2Trash                    1.8.0\n",
      "setuptools                    59.4.0\n",
      "six                           1.16.0\n",
      "tensorboard                   2.8.0\n",
      "tensorboard-data-server       0.6.1\n",
      "tensorboard-plugin-wit        1.8.1\n",
      "tensorflow-estimator          2.7.0\n",
      "tensorflow-gpu                2.7.0\n",
      "tensorflow-io-gcs-filesystem  0.23.1\n",
      "termcolor                     1.1.0\n",
      "terminado                     0.12.1\n",
      "testpath                      0.5.0\n",
      "torch                         1.10.1\n",
      "tornado                       6.1\n",
      "traitlets                     5.1.1\n",
      "typing_extensions             4.0.1\n",
      "urllib3                       1.26.8\n",
      "wcwidth                       0.2.5\n",
      "webencodings                  0.5.1\n",
      "Werkzeug                      2.0.2\n",
      "wheel                         0.37.0\n",
      "widgetsnbextension            3.5.2\n",
      "wrapt                         1.13.3\n",
      "zipp                          3.6.0\n"
     ]
    }
   ],
   "source": [
    "!pip list"
   ]
  },
  {
   "cell_type": "code",
   "execution_count": 21,
   "id": "eb5d4603-74a1-4a1e-a87b-859ccff2f6c0",
   "metadata": {
    "tags": []
   },
   "outputs": [
    {
     "name": "stdout",
     "output_type": "stream",
     "text": [
      "# packages in environment at /home/studio-lab-user/.conda/envs/default:\n",
      "#\n",
      "# Name                    Version                   Build  Channel\n",
      "_libgcc_mutex             0.1                 conda_forge    conda-forge\n",
      "_openmp_mutex             4.5                       1_gnu    conda-forge\n",
      "argon2-cffi               21.1.0           py39h3811e60_2    conda-forge\n",
      "async_generator           1.10                       py_0    conda-forge\n",
      "attrs                     21.2.0             pyhd8ed1ab_0    conda-forge\n",
      "backcall                  0.2.0              pyh9f0ad1d_0    conda-forge\n",
      "backports                 1.0                        py_2    conda-forge\n",
      "backports.functools_lru_cache 1.6.4              pyhd8ed1ab_0    conda-forge\n",
      "bleach                    4.1.0              pyhd8ed1ab_0    conda-forge\n",
      "ca-certificates           2021.10.8            ha878542_0    conda-forge\n",
      "cffi                      1.15.0           py39h4bc2ebd_0    conda-forge\n",
      "debugpy                   1.5.1            py39he80948d_0    conda-forge\n",
      "decorator                 5.1.0              pyhd8ed1ab_0    conda-forge\n",
      "defusedxml                0.7.1              pyhd8ed1ab_0    conda-forge\n",
      "entrypoints               0.3             pyhd8ed1ab_1003    conda-forge\n",
      "importlib-metadata        4.8.2            py39hf3d152e_0    conda-forge\n",
      "importlib_resources       5.4.0              pyhd8ed1ab_0    conda-forge\n",
      "ipykernel                 6.4.2            py39hef51801_0    conda-forge\n",
      "ipython                   7.30.1           py39hf3d152e_0    conda-forge\n",
      "ipython_genutils          0.2.0                      py_1    conda-forge\n",
      "ipywidgets                7.6.5              pyhd8ed1ab_0    conda-forge\n",
      "jedi                      0.18.1           py39hf3d152e_0    conda-forge\n",
      "jinja2                    3.0.3              pyhd8ed1ab_0    conda-forge\n",
      "jsonschema                4.2.1              pyhd8ed1ab_0    conda-forge\n",
      "jupyter_client            7.1.0              pyhd8ed1ab_0    conda-forge\n",
      "jupyter_core              4.9.1            py39hf3d152e_1    conda-forge\n",
      "jupyterlab_pygments       0.1.2              pyh9f0ad1d_0    conda-forge\n",
      "jupyterlab_widgets        1.0.2              pyhd8ed1ab_0    conda-forge\n",
      "ld_impl_linux-64          2.36.1               hea4e1c9_2    conda-forge\n",
      "libffi                    3.4.2                h7f98852_5    conda-forge\n",
      "libgcc-ng                 11.2.0              h1d223b6_11    conda-forge\n",
      "libgomp                   11.2.0              h1d223b6_11    conda-forge\n",
      "libsodium                 1.0.18               h36c2ea0_1    conda-forge\n",
      "libstdcxx-ng              11.2.0              he4da1e4_11    conda-forge\n",
      "libzlib                   1.2.11            h36c2ea0_1013    conda-forge\n",
      "markupsafe                2.0.1            py39h3811e60_1    conda-forge\n",
      "matplotlib-inline         0.1.3              pyhd8ed1ab_0    conda-forge\n",
      "mistune                   0.8.4           py39h3811e60_1005    conda-forge\n",
      "nbclient                  0.5.9              pyhd8ed1ab_0    conda-forge\n",
      "nbconvert                 6.3.0            py39hf3d152e_1    conda-forge\n",
      "nbformat                  5.1.3              pyhd8ed1ab_0    conda-forge\n",
      "ncurses                   6.2                  h58526e2_4    conda-forge\n",
      "nest-asyncio              1.5.4              pyhd8ed1ab_0    conda-forge\n",
      "notebook                  6.4.6              pyha770c72_0    conda-forge\n",
      "openssl                   3.0.0                h7f98852_2    conda-forge\n",
      "packaging                 21.3               pyhd8ed1ab_0    conda-forge\n",
      "pandoc                    2.16.2               h7f98852_0    conda-forge\n",
      "pandocfilters             1.5.0              pyhd8ed1ab_0    conda-forge\n",
      "parso                     0.8.3              pyhd8ed1ab_0    conda-forge\n",
      "pexpect                   4.8.0              pyh9f0ad1d_2    conda-forge\n",
      "pickleshare               0.7.5                   py_1003    conda-forge\n",
      "pip                       21.2.4             pyhd8ed1ab_0    conda-forge\n",
      "prometheus_client         0.12.0             pyhd8ed1ab_0    conda-forge\n",
      "prompt-toolkit            3.0.22             pyha770c72_0    conda-forge\n",
      "ptyprocess                0.7.0              pyhd3deb0d_0    conda-forge\n",
      "pycparser                 2.21               pyhd8ed1ab_0    conda-forge\n",
      "pygments                  2.10.0             pyhd8ed1ab_0    conda-forge\n",
      "pyparsing                 3.0.6              pyhd8ed1ab_0    conda-forge\n",
      "pyrsistent                0.18.0           py39h3811e60_0    conda-forge\n",
      "python                    3.9.7           hf930737_3_cpython    conda-forge\n",
      "python-dateutil           2.8.2              pyhd8ed1ab_0    conda-forge\n",
      "python_abi                3.9                      2_cp39    conda-forge\n",
      "pyzmq                     22.3.0           py39h37b5a0c_1    conda-forge\n",
      "readline                  8.1                  h46c0cb4_0    conda-forge\n",
      "send2trash                1.8.0              pyhd8ed1ab_0    conda-forge\n",
      "setuptools                59.4.0           py39hf3d152e_0    conda-forge\n",
      "six                       1.16.0             pyh6c4a22f_0    conda-forge\n",
      "sqlite                    3.37.0               h9cd32fc_0    conda-forge\n",
      "terminado                 0.12.1           py39hf3d152e_1    conda-forge\n",
      "testpath                  0.5.0              pyhd8ed1ab_0    conda-forge\n",
      "tk                        8.6.11               h27826a3_1    conda-forge\n",
      "tornado                   6.1              py39h3811e60_2    conda-forge\n",
      "traitlets                 5.1.1              pyhd8ed1ab_0    conda-forge\n",
      "tzdata                    2021e                he74cb21_0    conda-forge\n",
      "wcwidth                   0.2.5              pyh9f0ad1d_2    conda-forge\n",
      "webencodings              0.5.1                      py_1    conda-forge\n",
      "wheel                     0.37.0             pyhd8ed1ab_1    conda-forge\n",
      "widgetsnbextension        3.5.2            py39hf3d152e_1    conda-forge\n",
      "xz                        5.2.5                h516909a_1    conda-forge\n",
      "zeromq                    4.3.4                h9c3ff4c_1    conda-forge\n",
      "zipp                      3.6.0              pyhd8ed1ab_0    conda-forge\n",
      "zlib                      1.2.11            h36c2ea0_1013    conda-forge\n"
     ]
    }
   ],
   "source": [
    "!conda list"
   ]
  },
  {
   "cell_type": "code",
   "execution_count": 22,
   "id": "6bd213a2-546f-4456-8e5d-6250de546a01",
   "metadata": {
    "tags": []
   },
   "outputs": [
    {
     "name": "stdout",
     "output_type": "stream",
     "text": [
      "Listing... Done\n",
      "\u001b[32madduser\u001b[0m/now 3.118ubuntu2 all [installed,local]\n",
      "\u001b[32mapt\u001b[0m/now 2.0.6 amd64 [installed,local]\n",
      "\u001b[32mbase-files\u001b[0m/now 11ubuntu5.4 amd64 [installed,local]\n",
      "\u001b[32mbase-passwd\u001b[0m/now 3.5.47 amd64 [installed,local]\n",
      "\u001b[32mbash\u001b[0m/now 5.0-6ubuntu1.1 amd64 [installed,local]\n",
      "\u001b[32mbinutils-common\u001b[0m/now 2.34-6ubuntu1.3 amd64 [installed,local]\n",
      "\u001b[32mbinutils-x86-64-linux-gnu\u001b[0m/now 2.34-6ubuntu1.3 amd64 [installed,local]\n",
      "\u001b[32mbinutils\u001b[0m/now 2.34-6ubuntu1.3 amd64 [installed,local]\n",
      "\u001b[32mbsdutils\u001b[0m/now 1:2.34-0.1ubuntu9.1 amd64 [installed,local]\n",
      "\u001b[32mbuild-essential\u001b[0m/now 12.8ubuntu1.1 amd64 [installed,local]\n",
      "\u001b[32mbzip2\u001b[0m/now 1.0.8-2 amd64 [installed,local]\n",
      "\u001b[32mca-certificates\u001b[0m/now 20210119~20.04.2 all [installed,local]\n",
      "\u001b[32mcoreutils\u001b[0m/now 8.30-3ubuntu2 amd64 [installed,local]\n",
      "\u001b[32mcpp-9\u001b[0m/now 9.3.0-17ubuntu1~20.04 amd64 [installed,local]\n",
      "\u001b[32mcpp\u001b[0m/now 4:9.3.0-1ubuntu2 amd64 [installed,local]\n",
      "\u001b[32mcuda-command-line-tools-11-2\u001b[0m/now 11.2.2-1 amd64 [installed,local]\n",
      "\u001b[32mcuda-compat-11-2\u001b[0m/now 460.91.03-1 amd64 [installed,local]\n",
      "\u001b[32mcuda-cudart-11-2\u001b[0m/now 11.2.152-1 amd64 [installed,local]\n",
      "\u001b[32mcuda-cudart-dev-11-2\u001b[0m/now 11.2.152-1 amd64 [installed,local]\n",
      "\u001b[32mcuda-cuobjdump-11-2\u001b[0m/now 11.2.152-1 amd64 [installed,local]\n",
      "\u001b[32mcuda-cupti-11-2\u001b[0m/now 11.2.152-1 amd64 [installed,local]\n",
      "\u001b[32mcuda-cupti-dev-11-2\u001b[0m/now 11.2.152-1 amd64 [installed,local]\n",
      "\u001b[32mcuda-driver-dev-11-2\u001b[0m/now 11.2.152-1 amd64 [installed,local]\n",
      "\u001b[32mcuda-gdb-11-2\u001b[0m/now 11.2.152-1 amd64 [installed,local]\n",
      "\u001b[32mcuda-memcheck-11-2\u001b[0m/now 11.2.152-1 amd64 [installed,local]\n",
      "\u001b[32mcuda-nvcc-11-2\u001b[0m/now 11.2.152-1 amd64 [installed,local]\n",
      "\u001b[32mcuda-nvdisasm-11-2\u001b[0m/now 11.2.152-1 amd64 [installed,local]\n",
      "\u001b[32mcuda-nvprof-11-2\u001b[0m/now 11.2.152-1 amd64 [installed,local]\n",
      "\u001b[32mcuda-nvrtc-11-2\u001b[0m/now 11.2.152-1 amd64 [installed,local]\n",
      "\u001b[32mcuda-nvtx-11-2\u001b[0m/now 11.2.152-1 amd64 [installed,local]\n",
      "\u001b[32mcuda-sanitizer-11-2\u001b[0m/now 11.2.152-1 amd64 [installed,local]\n",
      "\u001b[32mcurl\u001b[0m/now 7.68.0-1ubuntu2.7 amd64 [installed,local]\n",
      "\u001b[32mdash\u001b[0m/now 0.5.10.2-6 amd64 [installed,local]\n",
      "\u001b[32mdebconf\u001b[0m/now 1.5.73 all [installed,local]\n",
      "\u001b[32mdebianutils\u001b[0m/now 4.9.1 amd64 [installed,local]\n",
      "\u001b[32mdiffutils\u001b[0m/now 1:3.7-3 amd64 [installed,local]\n",
      "\u001b[32mdirmngr\u001b[0m/now 2.2.19-3ubuntu2.1 amd64 [installed,local]\n",
      "\u001b[32mdpkg-dev\u001b[0m/now 1.19.7ubuntu3 all [installed,local]\n",
      "\u001b[32mdpkg\u001b[0m/now 1.19.7ubuntu3 amd64 [installed,local]\n",
      "\u001b[32me2fsprogs\u001b[0m/now 1.45.5-2ubuntu1 amd64 [installed,local]\n",
      "\u001b[32mfdisk\u001b[0m/now 2.34-0.1ubuntu9.1 amd64 [installed,local]\n",
      "\u001b[32mfindutils\u001b[0m/now 4.7.0-1ubuntu1 amd64 [installed,local]\n",
      "\u001b[32mg++-9\u001b[0m/now 9.3.0-17ubuntu1~20.04 amd64 [installed,local]\n",
      "\u001b[32mg++\u001b[0m/now 4:9.3.0-1ubuntu2 amd64 [installed,local]\n",
      "\u001b[32mgcc-10-base\u001b[0m/now 10.3.0-1ubuntu1~20.04 amd64 [installed,local]\n",
      "\u001b[32mgcc-9-base\u001b[0m/now 9.3.0-17ubuntu1~20.04 amd64 [installed,local]\n",
      "\u001b[32mgcc-9\u001b[0m/now 9.3.0-17ubuntu1~20.04 amd64 [installed,local]\n",
      "\u001b[32mgcc\u001b[0m/now 4:9.3.0-1ubuntu2 amd64 [installed,local]\n",
      "\u001b[32mgit-man\u001b[0m/now 1:2.25.1-1ubuntu3.2 all [installed,local]\n",
      "\u001b[32mgit\u001b[0m/now 1:2.25.1-1ubuntu3.2 amd64 [installed,local]\n",
      "\u001b[32mgnupg-l10n\u001b[0m/now 2.2.19-3ubuntu2.1 all [installed,local]\n",
      "\u001b[32mgnupg-utils\u001b[0m/now 2.2.19-3ubuntu2.1 amd64 [installed,local]\n",
      "\u001b[32mgnupg2\u001b[0m/now 2.2.19-3ubuntu2.1 all [installed,local]\n",
      "\u001b[32mgnupg\u001b[0m/now 2.2.19-3ubuntu2.1 all [installed,local]\n",
      "\u001b[32mgpg-agent\u001b[0m/now 2.2.19-3ubuntu2.1 amd64 [installed,local]\n",
      "\u001b[32mgpg-wks-client\u001b[0m/now 2.2.19-3ubuntu2.1 amd64 [installed,local]\n",
      "\u001b[32mgpg-wks-server\u001b[0m/now 2.2.19-3ubuntu2.1 amd64 [installed,local]\n",
      "\u001b[32mgpg\u001b[0m/now 2.2.19-3ubuntu2.1 amd64 [installed,local]\n",
      "\u001b[32mgpgconf\u001b[0m/now 2.2.19-3ubuntu2.1 amd64 [installed,local]\n",
      "\u001b[32mgpgsm\u001b[0m/now 2.2.19-3ubuntu2.1 amd64 [installed,local]\n",
      "\u001b[32mgpgv\u001b[0m/now 2.2.19-3ubuntu2.1 amd64 [installed,local]\n",
      "\u001b[32mgrep\u001b[0m/now 3.4-1 amd64 [installed,local]\n",
      "\u001b[32mgzip\u001b[0m/now 1.10-0ubuntu4 amd64 [installed,local]\n",
      "\u001b[32mhostname\u001b[0m/now 3.23 amd64 [installed,local]\n",
      "\u001b[32minit-system-helpers\u001b[0m/now 1.57 all [installed,local]\n",
      "\u001b[32mlibacl1\u001b[0m/now 2.2.53-6 amd64 [installed,local]\n",
      "\u001b[32mlibapt-pkg6.0\u001b[0m/now 2.0.6 amd64 [installed,local]\n",
      "\u001b[32mlibasan5\u001b[0m/now 9.3.0-17ubuntu1~20.04 amd64 [installed,local]\n",
      "\u001b[32mlibasn1-8-heimdal\u001b[0m/now 7.7.0+dfsg-1ubuntu1 amd64 [installed,local]\n",
      "\u001b[32mlibassuan0\u001b[0m/now 2.5.3-7ubuntu2 amd64 [installed,local]\n",
      "\u001b[32mlibatomic1\u001b[0m/now 10.3.0-1ubuntu1~20.04 amd64 [installed,local]\n",
      "\u001b[32mlibattr1\u001b[0m/now 1:2.4.48-5 amd64 [installed,local]\n",
      "\u001b[32mlibaudit-common\u001b[0m/now 1:2.8.5-2ubuntu6 all [installed,local]\n",
      "\u001b[32mlibaudit1\u001b[0m/now 1:2.8.5-2ubuntu6 amd64 [installed,local]\n",
      "\u001b[32mlibbinutils\u001b[0m/now 2.34-6ubuntu1.3 amd64 [installed,local]\n",
      "\u001b[32mlibblkid1\u001b[0m/now 2.34-0.1ubuntu9.1 amd64 [installed,local]\n",
      "\u001b[32mlibbrotli1\u001b[0m/now 1.0.7-6ubuntu0.1 amd64 [installed,local]\n",
      "\u001b[32mlibbsd0\u001b[0m/now 0.10.0-1 amd64 [installed,local]\n",
      "\u001b[32mlibbz2-1.0\u001b[0m/now 1.0.8-2 amd64 [installed,local]\n",
      "\u001b[32mlibc-bin\u001b[0m/now 2.31-0ubuntu9.2 amd64 [installed,local]\n",
      "\u001b[32mlibc-dev-bin\u001b[0m/now 2.31-0ubuntu9.2 amd64 [installed,local]\n",
      "\u001b[32mlibc6-dev\u001b[0m/now 2.31-0ubuntu9.2 amd64 [installed,local]\n",
      "\u001b[32mlibc6\u001b[0m/now 2.31-0ubuntu9.2 amd64 [installed,local]\n",
      "\u001b[32mlibcap-ng0\u001b[0m/now 0.7.9-2.1build1 amd64 [installed,local]\n",
      "\u001b[32mlibcc1-0\u001b[0m/now 10.3.0-1ubuntu1~20.04 amd64 [installed,local]\n",
      "\u001b[32mlibcom-err2\u001b[0m/now 1.45.5-2ubuntu1 amd64 [installed,local]\n",
      "\u001b[32mlibcrypt-dev\u001b[0m/now 1:4.4.10-10ubuntu4 amd64 [installed,local]\n",
      "\u001b[32mlibcrypt1\u001b[0m/now 1:4.4.10-10ubuntu4 amd64 [installed,local]\n",
      "\u001b[32mlibctf-nobfd0\u001b[0m/now 2.34-6ubuntu1.3 amd64 [installed,local]\n",
      "\u001b[32mlibctf0\u001b[0m/now 2.34-6ubuntu1.3 amd64 [installed,local]\n",
      "\u001b[32mlibcublas-11-2\u001b[0m/now 11.4.1.1043-1 amd64 [installed,local]\n",
      "\u001b[32mlibcudnn8\u001b[0m/now 8.1.1.33-1+cuda11.2 amd64 [installed,local]\n",
      "\u001b[32mlibcufft-11-2\u001b[0m/now 10.4.1.152-1 amd64 [installed,local]\n",
      "\u001b[32mlibcurand-11-2\u001b[0m/now 10.2.3.152-1 amd64 [installed,local]\n",
      "\u001b[32mlibcurl3-gnutls\u001b[0m/now 7.68.0-1ubuntu2.7 amd64 [installed,local]\n",
      "\u001b[32mlibcurl4\u001b[0m/now 7.68.0-1ubuntu2.7 amd64 [installed,local]\n",
      "\u001b[32mlibcusolver-11-2\u001b[0m/now 11.1.0.152-1 amd64 [installed,local]\n",
      "\u001b[32mlibcusparse-11-2\u001b[0m/now 11.4.1.1152-1 amd64 [installed,local]\n",
      "\u001b[32mlibdb5.3\u001b[0m/now 5.3.28+dfsg1-0.6ubuntu2 amd64 [installed,local]\n",
      "\u001b[32mlibdebconfclient0\u001b[0m/now 0.251ubuntu1 amd64 [installed,local]\n",
      "\u001b[32mlibdpkg-perl\u001b[0m/now 1.19.7ubuntu3 all [installed,local]\n",
      "\u001b[32mlibdrm-amdgpu1\u001b[0m/now 2.4.105-3~20.04.2 amd64 [installed,local]\n",
      "\u001b[32mlibdrm-common\u001b[0m/now 2.4.105-3~20.04.2 all [installed,local]\n",
      "\u001b[32mlibdrm-intel1\u001b[0m/now 2.4.105-3~20.04.2 amd64 [installed,local]\n",
      "\u001b[32mlibdrm-nouveau2\u001b[0m/now 2.4.105-3~20.04.2 amd64 [installed,local]\n",
      "\u001b[32mlibdrm-radeon1\u001b[0m/now 2.4.105-3~20.04.2 amd64 [installed,local]\n",
      "\u001b[32mlibdrm2\u001b[0m/now 2.4.105-3~20.04.2 amd64 [installed,local]\n",
      "\u001b[32mlibedit2\u001b[0m/now 3.1-20191231-1 amd64 [installed,local]\n",
      "\u001b[32mlibelf1\u001b[0m/now 0.176-1.1build1 amd64 [installed,local]\n",
      "\u001b[32mliberror-perl\u001b[0m/now 0.17029-1 all [installed,local]\n",
      "\u001b[32mlibexpat1\u001b[0m/now 2.2.9-1build1 amd64 [installed,local]\n",
      "\u001b[32mlibext2fs2\u001b[0m/now 1.45.5-2ubuntu1 amd64 [installed,local]\n",
      "\u001b[32mlibfdisk1\u001b[0m/now 2.34-0.1ubuntu9.1 amd64 [installed,local]\n",
      "\u001b[32mlibffi7\u001b[0m/now 3.3-4 amd64 [installed,local]\n",
      "\u001b[32mlibgcc-9-dev\u001b[0m/now 9.3.0-17ubuntu1~20.04 amd64 [installed,local]\n",
      "\u001b[32mlibgcc-s1\u001b[0m/now 10.3.0-1ubuntu1~20.04 amd64 [installed,local]\n",
      "\u001b[32mlibgcrypt20\u001b[0m/now 1.8.5-5ubuntu1 amd64 [installed,local]\n",
      "\u001b[32mlibgdbm-compat4\u001b[0m/now 1.18.1-5 amd64 [installed,local]\n",
      "\u001b[32mlibgdbm6\u001b[0m/now 1.18.1-5 amd64 [installed,local]\n",
      "\u001b[32mlibgl1-mesa-dri\u001b[0m/now 21.0.3-0ubuntu0.3~20.04.5 amd64 [installed,local]\n",
      "\u001b[32mlibgl1-mesa-glx\u001b[0m/now 21.0.3-0ubuntu0.3~20.04.5 amd64 [installed,local]\n",
      "\u001b[32mlibgl1\u001b[0m/now 1.3.2-1~ubuntu0.20.04.1 amd64 [installed,local]\n",
      "\u001b[32mlibglapi-mesa\u001b[0m/now 21.0.3-0ubuntu0.3~20.04.5 amd64 [installed,local]\n",
      "\u001b[32mlibglvnd0\u001b[0m/now 1.3.2-1~ubuntu0.20.04.1 amd64 [installed,local]\n",
      "\u001b[32mlibglx-mesa0\u001b[0m/now 21.0.3-0ubuntu0.3~20.04.5 amd64 [installed,local]\n",
      "\u001b[32mlibglx0\u001b[0m/now 1.3.2-1~ubuntu0.20.04.1 amd64 [installed,local]\n",
      "\u001b[32mlibgmp10\u001b[0m/now 2:6.2.0+dfsg-4 amd64 [installed,local]\n",
      "\u001b[32mlibgnutls30\u001b[0m/now 3.6.13-2ubuntu1.6 amd64 [installed,local]\n",
      "\u001b[32mlibgomp1\u001b[0m/now 10.3.0-1ubuntu1~20.04 amd64 [installed,local]\n",
      "\u001b[32mlibgpg-error0\u001b[0m/now 1.37-1 amd64 [installed,local]\n",
      "\u001b[32mlibgssapi-krb5-2\u001b[0m/now 1.17-6ubuntu4.1 amd64 [installed,local]\n",
      "\u001b[32mlibgssapi3-heimdal\u001b[0m/now 7.7.0+dfsg-1ubuntu1 amd64 [installed,local]\n",
      "\u001b[32mlibhcrypto4-heimdal\u001b[0m/now 7.7.0+dfsg-1ubuntu1 amd64 [installed,local]\n",
      "\u001b[32mlibheimbase1-heimdal\u001b[0m/now 7.7.0+dfsg-1ubuntu1 amd64 [installed,local]\n",
      "\u001b[32mlibheimntlm0-heimdal\u001b[0m/now 7.7.0+dfsg-1ubuntu1 amd64 [installed,local]\n",
      "\u001b[32mlibhogweed5\u001b[0m/now 3.5.1+really3.5.1-2ubuntu0.2 amd64 [installed,local]\n",
      "\u001b[32mlibhx509-5-heimdal\u001b[0m/now 7.7.0+dfsg-1ubuntu1 amd64 [installed,local]\n",
      "\u001b[32mlibidn2-0\u001b[0m/now 2.2.0-2 amd64 [installed,local]\n",
      "\u001b[32mlibisl22\u001b[0m/now 0.22.1-1 amd64 [installed,local]\n",
      "\u001b[32mlibitm1\u001b[0m/now 10.3.0-1ubuntu1~20.04 amd64 [installed,local]\n",
      "\u001b[32mlibk5crypto3\u001b[0m/now 1.17-6ubuntu4.1 amd64 [installed,local]\n",
      "\u001b[32mlibkeyutils1\u001b[0m/now 1.6-6ubuntu1 amd64 [installed,local]\n",
      "\u001b[32mlibkrb5-26-heimdal\u001b[0m/now 7.7.0+dfsg-1ubuntu1 amd64 [installed,local]\n",
      "\u001b[32mlibkrb5-3\u001b[0m/now 1.17-6ubuntu4.1 amd64 [installed,local]\n",
      "\u001b[32mlibkrb5support0\u001b[0m/now 1.17-6ubuntu4.1 amd64 [installed,local]\n",
      "\u001b[32mlibksba8\u001b[0m/now 1.3.5-2 amd64 [installed,local]\n",
      "\u001b[32mlibldap-2.4-2\u001b[0m/now 2.4.49+dfsg-2ubuntu1.8 amd64 [installed,local]\n",
      "\u001b[32mlibldap-common\u001b[0m/now 2.4.49+dfsg-2ubuntu1.8 all [installed,local]\n",
      "\u001b[32mlibllvm12\u001b[0m/now 1:12.0.0-3ubuntu1~20.04.4 amd64 [installed,local]\n",
      "\u001b[32mliblsan0\u001b[0m/now 10.3.0-1ubuntu1~20.04 amd64 [installed,local]\n",
      "\u001b[32mliblz4-1\u001b[0m/now 1.9.2-2ubuntu0.20.04.1 amd64 [installed,local]\n",
      "\u001b[32mliblzma5\u001b[0m/now 5.2.4-1ubuntu1 amd64 [installed,local]\n",
      "\u001b[32mlibmount1\u001b[0m/now 2.34-0.1ubuntu9.1 amd64 [installed,local]\n",
      "\u001b[32mlibmpc3\u001b[0m/now 1.1.0-1 amd64 [installed,local]\n",
      "\u001b[32mlibmpfr6\u001b[0m/now 4.0.2-1 amd64 [installed,local]\n",
      "\u001b[32mlibnccl2\u001b[0m/now 2.8.4-1+cuda11.2 amd64 [installed,local]\n",
      "\u001b[32mlibncurses6\u001b[0m/now 6.2-0ubuntu2 amd64 [installed,local]\n",
      "\u001b[32mlibncursesw6\u001b[0m/now 6.2-0ubuntu2 amd64 [installed,local]\n",
      "\u001b[32mlibnettle7\u001b[0m/now 3.5.1+really3.5.1-2ubuntu0.2 amd64 [installed,local]\n",
      "\u001b[32mlibnghttp2-14\u001b[0m/now 1.40.0-1build1 amd64 [installed,local]\n",
      "\u001b[32mlibnpth0\u001b[0m/now 1.6-1 amd64 [installed,local]\n",
      "\u001b[32mlibp11-kit0\u001b[0m/now 0.23.20-1ubuntu0.1 amd64 [installed,local]\n",
      "\u001b[32mlibpam-modules-bin\u001b[0m/now 1.3.1-5ubuntu4.2 amd64 [installed,local]\n",
      "\u001b[32mlibpam-modules\u001b[0m/now 1.3.1-5ubuntu4.2 amd64 [installed,local]\n",
      "\u001b[32mlibpam-runtime\u001b[0m/now 1.3.1-5ubuntu4.2 all [installed,local]\n",
      "\u001b[32mlibpam0g\u001b[0m/now 1.3.1-5ubuntu4.2 amd64 [installed,local]\n",
      "\u001b[32mlibpciaccess0\u001b[0m/now 0.16-0ubuntu1 amd64 [installed,local]\n",
      "\u001b[32mlibpcre2-8-0\u001b[0m/now 10.34-7 amd64 [installed,local]\n",
      "\u001b[32mlibpcre3\u001b[0m/now 2:8.39-12build1 amd64 [installed,local]\n",
      "\u001b[32mlibperl5.30\u001b[0m/now 5.30.0-9ubuntu0.2 amd64 [installed,local]\n",
      "\u001b[32mlibpopt0\u001b[0m/now 1.16-14 amd64 [installed,local]\n",
      "\u001b[32mlibprocps8\u001b[0m/now 2:3.3.16-1ubuntu2.2 amd64 [installed,local]\n",
      "\u001b[32mlibpsl5\u001b[0m/now 0.21.0-1ubuntu1 amd64 [installed,local]\n",
      "\u001b[32mlibquadmath0\u001b[0m/now 10.3.0-1ubuntu1~20.04 amd64 [installed,local]\n",
      "\u001b[32mlibreadline8\u001b[0m/now 8.0-4 amd64 [installed,local]\n",
      "\u001b[32mlibroken18-heimdal\u001b[0m/now 7.7.0+dfsg-1ubuntu1 amd64 [installed,local]\n",
      "\u001b[32mlibrtmp1\u001b[0m/now 2.4+20151223.gitfa8646d.1-2build1 amd64 [installed,local]\n",
      "\u001b[32mlibsasl2-2\u001b[0m/now 2.1.27+dfsg-2 amd64 [installed,local]\n",
      "\u001b[32mlibsasl2-modules-db\u001b[0m/now 2.1.27+dfsg-2 amd64 [installed,local]\n",
      "\u001b[32mlibseccomp2\u001b[0m/now 2.5.1-1ubuntu1~20.04.1 amd64 [installed,local]\n",
      "\u001b[32mlibselinux1\u001b[0m/now 3.0-1build2 amd64 [installed,local]\n",
      "\u001b[32mlibsemanage-common\u001b[0m/now 3.0-1build2 all [installed,local]\n",
      "\u001b[32mlibsemanage1\u001b[0m/now 3.0-1build2 amd64 [installed,local]\n",
      "\u001b[32mlibsensors-config\u001b[0m/now 1:3.6.0-2ubuntu1 all [installed,local]\n",
      "\u001b[32mlibsensors5\u001b[0m/now 1:3.6.0-2ubuntu1 amd64 [installed,local]\n",
      "\u001b[32mlibsepol1\u001b[0m/now 3.0-1 amd64 [installed,local]\n",
      "\u001b[32mlibsmartcols1\u001b[0m/now 2.34-0.1ubuntu9.1 amd64 [installed,local]\n",
      "\u001b[32mlibsqlite3-0\u001b[0m/now 3.31.1-4ubuntu0.2 amd64 [installed,local]\n",
      "\u001b[32mlibss2\u001b[0m/now 1.45.5-2ubuntu1 amd64 [installed,local]\n",
      "\u001b[32mlibssh-4\u001b[0m/now 0.9.3-2ubuntu2.2 amd64 [installed,local]\n",
      "\u001b[32mlibssl1.1\u001b[0m/now 1.1.1f-1ubuntu2.8 amd64 [installed,local]\n",
      "\u001b[32mlibstdc++-9-dev\u001b[0m/now 9.3.0-17ubuntu1~20.04 amd64 [installed,local]\n",
      "\u001b[32mlibstdc++6\u001b[0m/now 10.3.0-1ubuntu1~20.04 amd64 [installed,local]\n",
      "\u001b[32mlibsystemd0\u001b[0m/now 245.4-4ubuntu3.11 amd64 [installed,local]\n",
      "\u001b[32mlibtasn1-6\u001b[0m/now 4.16.0-2 amd64 [installed,local]\n",
      "\u001b[32mlibtinfo6\u001b[0m/now 6.2-0ubuntu2 amd64 [installed,local]\n",
      "\u001b[32mlibtsan0\u001b[0m/now 10.3.0-1ubuntu1~20.04 amd64 [installed,local]\n",
      "\u001b[32mlibubsan1\u001b[0m/now 10.3.0-1ubuntu1~20.04 amd64 [installed,local]\n",
      "\u001b[32mlibudev1\u001b[0m/now 245.4-4ubuntu3.11 amd64 [installed,local]\n",
      "\u001b[32mlibunistring2\u001b[0m/now 0.9.10-2 amd64 [installed,local]\n",
      "\u001b[32mlibuuid1\u001b[0m/now 2.34-0.1ubuntu9.1 amd64 [installed,local]\n",
      "\u001b[32mlibvulkan1\u001b[0m/now 1.2.131.2-1 amd64 [installed,local]\n",
      "\u001b[32mlibwind0-heimdal\u001b[0m/now 7.7.0+dfsg-1ubuntu1 amd64 [installed,local]\n",
      "\u001b[32mlibx11-6\u001b[0m/now 2:1.6.9-2ubuntu1.2 amd64 [installed,local]\n",
      "\u001b[32mlibx11-data\u001b[0m/now 2:1.6.9-2ubuntu1.2 all [installed,local]\n",
      "\u001b[32mlibx11-xcb1\u001b[0m/now 2:1.6.9-2ubuntu1.2 amd64 [installed,local]\n",
      "\u001b[32mlibxau6\u001b[0m/now 1:1.0.9-0ubuntu1 amd64 [installed,local]\n",
      "\u001b[32mlibxcb-dri2-0\u001b[0m/now 1.14-2 amd64 [installed,local]\n",
      "\u001b[32mlibxcb-dri3-0\u001b[0m/now 1.14-2 amd64 [installed,local]\n",
      "\u001b[32mlibxcb-glx0\u001b[0m/now 1.14-2 amd64 [installed,local]\n",
      "\u001b[32mlibxcb-present0\u001b[0m/now 1.14-2 amd64 [installed,local]\n",
      "\u001b[32mlibxcb-shm0\u001b[0m/now 1.14-2 amd64 [installed,local]\n",
      "\u001b[32mlibxcb-sync1\u001b[0m/now 1.14-2 amd64 [installed,local]\n",
      "\u001b[32mlibxcb-xfixes0\u001b[0m/now 1.14-2 amd64 [installed,local]\n",
      "\u001b[32mlibxcb1\u001b[0m/now 1.14-2 amd64 [installed,local]\n",
      "\u001b[32mlibxdmcp6\u001b[0m/now 1:1.1.3-0ubuntu1 amd64 [installed,local]\n",
      "\u001b[32mlibxext6\u001b[0m/now 2:1.3.4-0ubuntu1 amd64 [installed,local]\n",
      "\u001b[32mlibxfixes3\u001b[0m/now 1:5.0.3-2 amd64 [installed,local]\n",
      "\u001b[32mlibxshmfence1\u001b[0m/now 1.3-1 amd64 [installed,local]\n",
      "\u001b[32mlibxxf86vm1\u001b[0m/now 1:1.1.4-1build1 amd64 [installed,local]\n",
      "\u001b[32mlibzstd1\u001b[0m/now 1.4.4+dfsg-3ubuntu0.1 amd64 [installed,local]\n",
      "\u001b[32mlinux-libc-dev\u001b[0m/now 5.4.0-91.102 amd64 [installed,local]\n",
      "\u001b[32mlogin\u001b[0m/now 1:4.8.1-1ubuntu5.20.04.1 amd64 [installed,local]\n",
      "\u001b[32mlogsave\u001b[0m/now 1.45.5-2ubuntu1 amd64 [installed,local]\n",
      "\u001b[32mlsb-base\u001b[0m/now 11.1.0ubuntu2 all [installed,local]\n",
      "\u001b[32mmake\u001b[0m/now 4.2.1-1.2 amd64 [installed,local]\n",
      "\u001b[32mmawk\u001b[0m/now 1.3.4.20200120-2 amd64 [installed,local]\n",
      "\u001b[32mmount\u001b[0m/now 2.34-0.1ubuntu9.1 amd64 [installed,local]\n",
      "\u001b[32mnano\u001b[0m/now 4.8-1ubuntu1 amd64 [installed,local]\n",
      "\u001b[32mncurses-base\u001b[0m/now 6.2-0ubuntu2 all [installed,local]\n",
      "\u001b[32mncurses-bin\u001b[0m/now 6.2-0ubuntu2 amd64 [installed,local]\n",
      "\u001b[32mopenssl\u001b[0m/now 1.1.1f-1ubuntu2.8 amd64 [installed,local]\n",
      "\u001b[32mpasswd\u001b[0m/now 1:4.8.1-1ubuntu5.20.04.1 amd64 [installed,local]\n",
      "\u001b[32mpatch\u001b[0m/now 2.7.6-6 amd64 [installed,local]\n",
      "\u001b[32mperl-base\u001b[0m/now 5.30.0-9ubuntu0.2 amd64 [installed,local]\n",
      "\u001b[32mperl-modules-5.30\u001b[0m/now 5.30.0-9ubuntu0.2 all [installed,local]\n",
      "\u001b[32mperl\u001b[0m/now 5.30.0-9ubuntu0.2 amd64 [installed,local]\n",
      "\u001b[32mpinentry-curses\u001b[0m/now 1.1.0-3build1 amd64 [installed,local]\n",
      "\u001b[32mprocps\u001b[0m/now 2:3.3.16-1ubuntu2.2 amd64 [installed,local]\n",
      "\u001b[32mreadline-common\u001b[0m/now 8.0-4 all [installed,local]\n",
      "\u001b[32mrsync\u001b[0m/now 3.1.3-8ubuntu0.1 amd64 [installed,local]\n",
      "\u001b[32msed\u001b[0m/now 4.7-1 amd64 [installed,local]\n",
      "\u001b[32msensible-utils\u001b[0m/now 0.0.12+nmu1 all [installed,local]\n",
      "\u001b[32msysvinit-utils\u001b[0m/now 2.96-2.1ubuntu1 amd64 [installed,local]\n",
      "\u001b[32mtar\u001b[0m/now 1.30+dfsg-7ubuntu0.20.04.1 amd64 [installed,local]\n",
      "\u001b[32mubuntu-keyring\u001b[0m/now 2020.02.11.4 all [installed,local]\n",
      "\u001b[32munzip\u001b[0m/now 6.0-25ubuntu1 amd64 [installed,local]\n",
      "\u001b[32mutil-linux\u001b[0m/now 2.34-0.1ubuntu9.1 amd64 [installed,local]\n",
      "\u001b[32mwget\u001b[0m/now 1.20.3-1ubuntu2 amd64 [installed,local]\n",
      "\u001b[32mxz-utils\u001b[0m/now 5.2.4-1ubuntu1 amd64 [installed,local]\n",
      "\u001b[32mzlib1g\u001b[0m/now 1:1.2.11.dfsg-2ubuntu1.2 amd64 [installed,local]\n"
     ]
    }
   ],
   "source": [
    "!apt list"
   ]
  }
 ],
 "metadata": {
  "kernelspec": {
   "display_name": "default:Python",
   "language": "python",
   "name": "conda-env-default-py"
  },
  "language_info": {
   "codemirror_mode": {
    "name": "ipython",
    "version": 3
   },
   "file_extension": ".py",
   "mimetype": "text/x-python",
   "name": "python",
   "nbconvert_exporter": "python",
   "pygments_lexer": "ipython3",
   "version": "3.9.7"
  }
 },
 "nbformat": 4,
 "nbformat_minor": 5
}
