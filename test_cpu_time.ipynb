{
 "cells": [
  {
   "cell_type": "code",
   "execution_count": 1,
   "id": "54c429d3-9ecd-494d-a8bd-484312bd0d34",
   "metadata": {},
   "outputs": [
    {
     "name": "stdout",
     "output_type": "stream",
     "text": [
      "2022-02-25 08:36:21\n"
     ]
    }
   ],
   "source": [
    "import time\n",
    "print (time.strftime(\"%Y-%m-%d %H:%M:%S\", time.localtime()))"
   ]
  },
  {
   "cell_type": "code",
   "execution_count": 2,
   "id": "2454285f-77fc-41ee-b651-97dffe658083",
   "metadata": {},
   "outputs": [
    {
     "name": "stderr",
     "output_type": "stream",
     "text": [
      "2022-02-25 08:41:19.013226: W tensorflow/stream_executor/platform/default/dso_loader.cc:64] Could not load dynamic library 'libcudart.so.11.0'; dlerror: libcudart.so.11.0: cannot open shared object file: No such file or directory\n",
      "2022-02-25 08:41:19.013258: I tensorflow/stream_executor/cuda/cudart_stub.cc:29] Ignore above cudart dlerror if you do not have a GPU set up on your machine.\n"
     ]
    },
    {
     "name": "stdout",
     "output_type": "stream",
     "text": [
      "Downloading data from https://storage.googleapis.com/tensorflow/tf-keras-datasets/mnist.npz\n",
      "11493376/11490434 [==============================] - 0s 0us/step\n",
      "11501568/11490434 [==============================] - 0s 0us/step\n"
     ]
    },
    {
     "name": "stderr",
     "output_type": "stream",
     "text": [
      "2022-02-25 08:41:23.944083: W tensorflow/stream_executor/platform/default/dso_loader.cc:64] Could not load dynamic library 'libcuda.so.1'; dlerror: libcuda.so.1: cannot open shared object file: No such file or directory\n",
      "2022-02-25 08:41:23.944117: W tensorflow/stream_executor/cuda/cuda_driver.cc:269] failed call to cuInit: UNKNOWN ERROR (303)\n",
      "2022-02-25 08:41:23.944141: I tensorflow/stream_executor/cuda/cuda_diagnostics.cc:156] kernel driver does not appear to be running on this host (default): /proc/driver/nvidia/version does not exist\n",
      "2022-02-25 08:41:23.945956: I tensorflow/core/platform/cpu_feature_guard.cc:151] This TensorFlow binary is optimized with oneAPI Deep Neural Network Library (oneDNN) to use the following CPU instructions in performance-critical operations:  AVX2 AVX512F FMA\n",
      "To enable them in other operations, rebuild TensorFlow with the appropriate compiler flags.\n"
     ]
    },
    {
     "name": "stdout",
     "output_type": "stream",
     "text": [
      "2022-02-25 08:41:24\n",
      "Epoch 1/20\n",
      "1875/1875 [==============================] - 28s 15ms/step - loss: 0.1492 - accuracy: 0.9543\n",
      "Epoch 2/20\n",
      "1875/1875 [==============================] - 27s 14ms/step - loss: 0.0526 - accuracy: 0.9840\n",
      "Epoch 3/20\n",
      "1875/1875 [==============================] - 27s 14ms/step - loss: 0.0366 - accuracy: 0.9887\n",
      "Epoch 4/20\n",
      "1875/1875 [==============================] - 27s 14ms/step - loss: 0.0282 - accuracy: 0.9913\n",
      "Epoch 5/20\n",
      "1875/1875 [==============================] - 27s 14ms/step - loss: 0.0215 - accuracy: 0.9934\n",
      "Epoch 6/20\n",
      "1875/1875 [==============================] - 27s 14ms/step - loss: 0.0185 - accuracy: 0.9938\n",
      "Epoch 7/20\n",
      "1875/1875 [==============================] - 26s 14ms/step - loss: 0.0140 - accuracy: 0.9952\n",
      "Epoch 8/20\n",
      "1875/1875 [==============================] - 26s 14ms/step - loss: 0.0129 - accuracy: 0.9954\n",
      "Epoch 9/20\n",
      "1875/1875 [==============================] - 26s 14ms/step - loss: 0.0106 - accuracy: 0.9967\n",
      "Epoch 10/20\n",
      "1875/1875 [==============================] - 26s 14ms/step - loss: 0.0108 - accuracy: 0.9965\n",
      "Epoch 11/20\n",
      "1875/1875 [==============================] - 26s 14ms/step - loss: 0.0085 - accuracy: 0.9971\n",
      "Epoch 12/20\n",
      "1875/1875 [==============================] - 26s 14ms/step - loss: 0.0075 - accuracy: 0.9974\n",
      "Epoch 13/20\n",
      "1875/1875 [==============================] - 26s 14ms/step - loss: 0.0075 - accuracy: 0.9976\n",
      "Epoch 14/20\n",
      "1875/1875 [==============================] - 26s 14ms/step - loss: 0.0055 - accuracy: 0.9982\n",
      "Epoch 15/20\n",
      "1875/1875 [==============================] - 26s 14ms/step - loss: 0.0076 - accuracy: 0.9973\n",
      "Epoch 16/20\n",
      "1875/1875 [==============================] - 26s 14ms/step - loss: 0.0064 - accuracy: 0.9978\n",
      "Epoch 17/20\n",
      "1875/1875 [==============================] - 26s 14ms/step - loss: 0.0065 - accuracy: 0.9977\n",
      "Epoch 18/20\n",
      "1875/1875 [==============================] - 27s 14ms/step - loss: 0.0054 - accuracy: 0.9980\n",
      "Epoch 19/20\n",
      "1875/1875 [==============================] - 26s 14ms/step - loss: 0.0061 - accuracy: 0.9979\n",
      "Epoch 20/20\n",
      "1875/1875 [==============================] - 27s 14ms/step - loss: 0.0055 - accuracy: 0.9983\n",
      "2022-02-25 08:50:15\n",
      "313/313 - 1s - loss: 0.0467 - accuracy: 0.9915 - 1s/epoch - 5ms/step\n",
      "531.645708322525\n"
     ]
    }
   ],
   "source": [
    "import tensorflow as tf\n",
    "(tri, trl), (tsi, tsl) = tf.keras.datasets.mnist.load_data()\n",
    "tri, tsi = tri / 255.0, tsi / 255.0\n",
    "tri = tri.reshape(tri.shape[0], 28, 28, 1)\n",
    "tsi = tsi.reshape(tsi.shape[0], 28, 28, 1)\n",
    "cnn = tf.keras.models.Sequential()\n",
    "cnn.add(tf.keras.layers.Conv2D(32, (3, 3), activation='relu', input_shape=(28, 28, 1)))\n",
    "cnn.add(tf.keras.layers.MaxPooling2D((2, 2)))\n",
    "cnn.add(tf.keras.layers.Conv2D(64, (3, 3), activation='relu'))\n",
    "cnn.add(tf.keras.layers.MaxPooling2D((2, 2)))\n",
    "cnn.add(tf.keras.layers.Flatten())\n",
    "cnn.add(tf.keras.layers.Dense(128, activation='relu'))\n",
    "cnn.add(tf.keras.layers.Dropout(0.2))\n",
    "cnn.add(tf.keras.layers.Dense(10, activation='softmax'))\n",
    "cnn.compile(optimizer='adam', loss='sparse_categorical_crossentropy', metrics=['accuracy'])\n",
    "print (time.strftime(\"%Y-%m-%d %H:%M:%S\", time.localtime()))\n",
    "start = time.time()\n",
    "cnn.fit(tri, trl, epochs=20)\n",
    "end = time.time()\n",
    "print (time.strftime(\"%Y-%m-%d %H:%M:%S\", time.localtime()))\n",
    "cnn.evaluate(tsi, tsl, verbose=2)\n",
    "print(end-start)"
   ]
  },
  {
   "cell_type": "code",
   "execution_count": null,
   "id": "4193170d-3122-46f9-a8d5-cd963d8de55f",
   "metadata": {},
   "outputs": [],
   "source": []
  }
 ],
 "metadata": {
  "kernelspec": {
   "display_name": "default:Python",
   "language": "python",
   "name": "conda-env-default-py"
  },
  "language_info": {
   "codemirror_mode": {
    "name": "ipython",
    "version": 3
   },
   "file_extension": ".py",
   "mimetype": "text/x-python",
   "name": "python",
   "nbconvert_exporter": "python",
   "pygments_lexer": "ipython3",
   "version": "3.9.7"
  }
 },
 "nbformat": 4,
 "nbformat_minor": 5
}
