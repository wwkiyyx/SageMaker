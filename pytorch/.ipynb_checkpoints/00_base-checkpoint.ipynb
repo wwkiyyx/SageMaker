{
 "cells": [
  {
   "cell_type": "code",
   "execution_count": 2,
   "id": "26707fb3-3708-44d7-9cca-b27e7e3331eb",
   "metadata": {},
   "outputs": [
    {
     "name": "stdout",
     "output_type": "stream",
     "text": [
      "1.11.0+cu102\n"
     ]
    }
   ],
   "source": [
    "import torch\n",
    "print(torch.__version__)"
   ]
  },
  {
   "cell_type": "code",
   "execution_count": null,
   "id": "e60bee32-0d7a-4bd7-9fb8-861587916cc8",
   "metadata": {},
   "outputs": [],
   "source": [
    "!pip install --upgrade torch"
   ]
  },
  {
   "cell_type": "code",
   "execution_count": null,
   "id": "0fc9ad6e-eeaf-4aa6-8b90-629d9cfa578f",
   "metadata": {},
   "outputs": [],
   "source": [
    "!pip install --upgrade torchvision"
   ]
  },
  {
   "cell_type": "code",
   "execution_count": null,
   "id": "36fd6a45-97ed-4c7f-8ab9-2c10c1edc89c",
   "metadata": {},
   "outputs": [],
   "source": [
    "!pip install --upgrade pillow"
   ]
  },
  {
   "cell_type": "code",
   "execution_count": 16,
   "id": "1cf62940-145a-4371-869d-e304ed294529",
   "metadata": {},
   "outputs": [
    {
     "data": {
      "image/png": "[encoded data removed]",
      "text/plain": [
       "<PIL.BmpImagePlugin.BmpImageFile image mode=L size=28x28>"
      ]
     },
     "metadata": {},
     "output_type": "display_data"
    }
   ],
   "source": [
    "import PIL.Image\n",
    "im = PIL.Image.open('/home/studio-lab-user/sagemaker-studiolab-notebooks/mnist/3_three/10031.bmp')\n",
    "im.show()"
   ]
  },
  {
   "cell_type": "code",
   "execution_count": 4,
   "id": "ce5b450b-8d57-420b-8d01-c6271c301ba1",
   "metadata": {},
   "outputs": [
    {
     "data": {
      "image/png": "[encoded data removed]",
      "text/plain": [
       "<PIL.BmpImagePlugin.BmpImageFile image mode=L size=28x28>"
      ]
     },
     "metadata": {},
     "output_type": "display_data"
    }
   ],
   "source": [
    "display(im)"
   ]
  },
  {
   "cell_type": "code",
   "execution_count": 6,
   "id": "388c62b5-80cb-400f-863a-8aba6b62db96",
   "metadata": {},
   "outputs": [
    {
     "data": {
      "text/plain": [
       "(28, 28)"
      ]
     },
     "execution_count": 6,
     "metadata": {},
     "output_type": "execute_result"
    }
   ],
   "source": [
    "import numpy\n",
    "mat = numpy.asarray(im)\n",
    "mat.shape"
   ]
  },
  {
   "cell_type": "code",
   "execution_count": 8,
   "id": "613e50be-2d01-4e6b-b9c6-06472860117a",
   "metadata": {},
   "outputs": [
    {
     "data": {
      "image/png": "[encoded data removed]",
      "text/plain": [
       "<PIL.Image.Image image mode=L size=28x28>"
      ]
     },
     "metadata": {},
     "output_type": "display_data"
    }
   ],
   "source": [
    "mat_to_im = PIL.Image.fromarray(mat)\n",
    "mat_to_im.show()"
   ]
  },
  {
   "cell_type": "code",
   "execution_count": 9,
   "id": "02251970-f15e-4064-8e17-2c5548c244da",
   "metadata": {},
   "outputs": [
    {
     "data": {
      "image/png": "[encoded data removed]",
      "text/plain": [
       "<PIL.Image.Image image mode=L size=28x28>"
      ]
     },
     "metadata": {},
     "output_type": "display_data"
    }
   ],
   "source": [
    "display(im.copy())"
   ]
  },
  {
   "cell_type": "code",
   "execution_count": 36,
   "id": "b90b1f76-d2b3-4630-8387-2eeb40ff4df0",
   "metadata": {},
   "outputs": [
    {
     "data": {
      "image/png": "[encoded data removed]",
      "text/plain": [
       "<PIL.Image.Image image mode=L size=100x100>"
      ]
     },
     "metadata": {},
     "output_type": "display_data"
    }
   ],
   "source": [
    "im_resize = im.resize((100,100))\n",
    "im_resize.show()"
   ]
  },
  {
   "cell_type": "code",
   "execution_count": 17,
   "id": "f025d672-26e8-4d99-9bd7-26c4d7d7dcb3",
   "metadata": {},
   "outputs": [
    {
     "data": {
      "image/png": "[encoded data removed]",
      "text/plain": [
       "<PIL.Image.Image image mode=L size=28x28>"
      ]
     },
     "metadata": {},
     "output_type": "display_data"
    }
   ],
   "source": [
    "im_rotate = im.rotate(45)\n",
    "im_rotate.show()"
   ]
  },
  {
   "cell_type": "code",
   "execution_count": 13,
   "id": "fb69ed05-ef96-4b14-a7c2-4346126a6296",
   "metadata": {},
   "outputs": [],
   "source": [
    "im.save('3.bmp')"
   ]
  },
  {
   "cell_type": "code",
   "execution_count": 18,
   "id": "dd24d461-78af-41a6-9e1c-4325f1203134",
   "metadata": {},
   "outputs": [
    {
     "data": {
      "text/plain": [
       "'/home/studio-lab-user/sagemaker-studiolab-notebooks/mnist/3_three/10031.bmp'"
      ]
     },
     "execution_count": 18,
     "metadata": {},
     "output_type": "execute_result"
    }
   ],
   "source": [
    "im.filename"
   ]
  },
  {
   "cell_type": "code",
   "execution_count": 19,
   "id": "c7ec0f96-6290-4118-9317-b5b196cf8000",
   "metadata": {},
   "outputs": [
    {
     "data": {
      "text/plain": [
       "(28, 28)"
      ]
     },
     "execution_count": 19,
     "metadata": {},
     "output_type": "execute_result"
    }
   ],
   "source": [
    "im.size"
   ]
  },
  {
   "cell_type": "code",
   "execution_count": 20,
   "id": "8d083b2c-2af9-43ba-bd60-c881ce9ba2c4",
   "metadata": {},
   "outputs": [
    {
     "data": {
      "text/plain": [
       "28"
      ]
     },
     "execution_count": 20,
     "metadata": {},
     "output_type": "execute_result"
    }
   ],
   "source": [
    "im.width"
   ]
  },
  {
   "cell_type": "code",
   "execution_count": 21,
   "id": "6c2f1965-4a6d-4ed4-b806-7d9b219e1cbe",
   "metadata": {},
   "outputs": [
    {
     "data": {
      "text/plain": [
       "28"
      ]
     },
     "execution_count": 21,
     "metadata": {},
     "output_type": "execute_result"
    }
   ],
   "source": [
    "im.height"
   ]
  },
  {
   "cell_type": "code",
   "execution_count": 22,
   "id": "f9d62de7-e022-4158-a5ac-fd4cb81b87ee",
   "metadata": {},
   "outputs": [
    {
     "data": {
      "text/plain": [
       "'BMP'"
      ]
     },
     "execution_count": 22,
     "metadata": {},
     "output_type": "execute_result"
    }
   ],
   "source": [
    "im.format"
   ]
  },
  {
   "cell_type": "code",
   "execution_count": 23,
   "id": "dcce8b9d-895c-44dd-8208-2acc46cfbb21",
   "metadata": {},
   "outputs": [
    {
     "data": {
      "text/plain": [
       "'L'"
      ]
     },
     "execution_count": 23,
     "metadata": {},
     "output_type": "execute_result"
    }
   ],
   "source": [
    "im.mode"
   ]
  },
  {
   "cell_type": "code",
   "execution_count": 14,
   "id": "55ce119b-5b2e-45c5-9244-61df487006d2",
   "metadata": {},
   "outputs": [],
   "source": [
    "im.close()"
   ]
  },
  {
   "cell_type": "code",
   "execution_count": 37,
   "id": "4ee4d386-dc00-46e6-a9d3-2717face2647",
   "metadata": {},
   "outputs": [],
   "source": [
    "import PIL.ImageDraw\n",
    "draw = PIL.ImageDraw.Draw(im_resize)"
   ]
  },
  {
   "cell_type": "code",
   "execution_count": 38,
   "id": "2497bfd7-6735-494e-8832-10d9ea8e4047",
   "metadata": {},
   "outputs": [
    {
     "data": {
      "image/png": "[encoded data removed]",
      "text/plain": [
       "<PIL.Image.Image image mode=L size=100x100>"
      ]
     },
     "execution_count": 38,
     "metadata": {},
     "output_type": "execute_result"
    }
   ],
   "source": [
    "draw.rectangle([0,0,50,50],outline=255,width=5)\n",
    "im_resize"
   ]
  },
  {
   "cell_type": "code",
   "execution_count": 39,
   "id": "00cd9fc4-8a6a-4421-9427-c4ac1bc76121",
   "metadata": {},
   "outputs": [
    {
     "data": {
      "image/png": "[encoded data removed]",
      "text/plain": [
       "<PIL.Image.Image image mode=L size=100x100>"
      ]
     },
     "execution_count": 39,
     "metadata": {},
     "output_type": "execute_result"
    }
   ],
   "source": [
    "draw.text((10,10),'3',fill=255)\n",
    "im_resize"
   ]
  },
  {
   "cell_type": "code",
   "execution_count": 42,
   "id": "76f27f01-6722-4dd4-8806-b4c54a82950f",
   "metadata": {},
   "outputs": [
    {
     "data": {
      "text/plain": [
       "torch.Size([28, 28])"
      ]
     },
     "execution_count": 42,
     "metadata": {},
     "output_type": "execute_result"
    }
   ],
   "source": [
    "pytorch_tensor = torch.Tensor(mat)\n",
    "pytorch_tensor.shape"
   ]
  },
  {
   "cell_type": "code",
   "execution_count": 44,
   "id": "7c980cb1-575c-4e32-a653-65de35c1c094",
   "metadata": {},
   "outputs": [
    {
     "data": {
      "text/plain": [
       "torch.Size([28, 28])"
      ]
     },
     "execution_count": 44,
     "metadata": {},
     "output_type": "execute_result"
    }
   ],
   "source": [
    "tensor = torch.from_numpy(mat)\n",
    "tensor.shape"
   ]
  },
  {
   "cell_type": "code",
   "execution_count": null,
   "id": "9348f03a-48cc-47a2-a58b-d7d0f67d6b72",
   "metadata": {},
   "outputs": [],
   "source": []
  }
 ],
 "metadata": {
  "kernelspec": {
   "display_name": "default:Python",
   "language": "python",
   "name": "conda-env-default-py"
  },
  "language_info": {
   "codemirror_mode": {
    "name": "ipython",
    "version": 3
   },
   "file_extension": ".py",
   "mimetype": "text/x-python",
   "name": "python",
   "nbconvert_exporter": "python",
   "pygments_lexer": "ipython3",
   "version": "3.9.7"
  }
 },
 "nbformat": 4,
 "nbformat_minor": 5
}
