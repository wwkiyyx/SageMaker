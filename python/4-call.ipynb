{
 "cells": [
  {
   "cell_type": "code",
   "execution_count": 11,
   "id": "4f8c737c-ee67-4032-9c00-9e16cb8dbf33",
   "metadata": {},
   "outputs": [
    {
     "name": "stdout",
     "output_type": "stream",
     "text": [
      "Hello, Jack!\n"
     ]
    },
    {
     "data": {
      "text/plain": [
       "'JACK'"
      ]
     },
     "execution_count": 11,
     "metadata": {},
     "output_type": "execute_result"
    }
   ],
   "source": [
    "def hello(name):\n",
    "    print(f\"Hello, {name}!\")\n",
    "    return name.upper()\n",
    "\n",
    "name = hello(\"Jack\")\n",
    "name"
   ]
  },
  {
   "cell_type": "code",
   "execution_count": 6,
   "id": "56394445-8de4-4c43-ab17-bf7565478708",
   "metadata": {},
   "outputs": [
    {
     "name": "stdout",
     "output_type": "stream",
     "text": [
      "Hello, Lucy!\n"
     ]
    }
   ],
   "source": [
    "hello(name=\"Lucy\")"
   ]
  },
  {
   "cell_type": "code",
   "execution_count": 13,
   "id": "193cdc04-bf3e-46be-961e-ed870e099ce6",
   "metadata": {},
   "outputs": [
    {
     "name": "stdout",
     "output_type": "stream",
     "text": [
      "('Jack', 'Lucy', 'Tom')\n",
      "Hello, Jack!\n",
      "Hello, Lucy!\n",
      "Hello, Tom!\n"
     ]
    }
   ],
   "source": [
    "def hellos(*name):\n",
    "    print(name)\n",
    "    for n in name:\n",
    "        print(f\"Hello, {n}!\")\n",
    "\n",
    "hellos(\"Jack\", \"Lucy\", \"Tom\")"
   ]
  },
  {
   "cell_type": "code",
   "execution_count": 16,
   "id": "a0b8d881-a80b-4968-9a80-89293da44d09",
   "metadata": {},
   "outputs": [
    {
     "name": "stdout",
     "output_type": "stream",
     "text": [
      "{'a': 'Jack', 'b': 'Lucy', 'c': 'Tom'}\n",
      "Hello, Jack!\n",
      "Hello, Lucy!\n",
      "Hello, Tom!\n"
     ]
    }
   ],
   "source": [
    "def hellodv(**name):\n",
    "    print(name)\n",
    "    for n in name:\n",
    "        print(f\"Hello, {name[n]}!\")\n",
    "\n",
    "hellodv(a=\"Jack\", b=\"Lucy\", c=\"Tom\")"
   ]
  },
  {
   "cell_type": "code",
   "execution_count": null,
   "id": "c4c618f1-f608-437c-bc54-5999125a1502",
   "metadata": {},
   "outputs": [],
   "source": []
  }
 ],
 "metadata": {
  "kernelspec": {
   "display_name": "default:Python",
   "language": "python",
   "name": "conda-env-default-py"
  },
  "language_info": {
   "codemirror_mode": {
    "name": "ipython",
    "version": 3
   },
   "file_extension": ".py",
   "mimetype": "text/x-python",
   "name": "python",
   "nbconvert_exporter": "python",
   "pygments_lexer": "ipython3",
   "version": "3.9.7"
  }
 },
 "nbformat": 4,
 "nbformat_minor": 5
}
