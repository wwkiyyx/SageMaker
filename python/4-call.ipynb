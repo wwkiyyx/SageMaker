{
 "cells": [
  {
   "cell_type": "code",
   "execution_count": 11,
   "id": "4f8c737c-ee67-4032-9c00-9e16cb8dbf33",
   "metadata": {},
   "outputs": [
    {
     "name": "stdout",
     "output_type": "stream",
     "text": [
      "Hello, Jack!\n"
     ]
    },
    {
     "data": {
      "text/plain": [
       "'JACK'"
      ]
     },
     "execution_count": 11,
     "metadata": {},
     "output_type": "execute_result"
    }
   ],
   "source": [
    "def hello(name):\n",
    "    print(f\"Hello, {name}!\")\n",
    "    return name.upper()\n",
    "\n",
    "name = hello(\"Jack\")\n",
    "name"
   ]
  },
  {
   "cell_type": "code",
   "execution_count": 6,
   "id": "56394445-8de4-4c43-ab17-bf7565478708",
   "metadata": {},
   "outputs": [
    {
     "name": "stdout",
     "output_type": "stream",
     "text": [
      "Hello, Lucy!\n"
     ]
    }
   ],
   "source": [
    "hello(name=\"Lucy\")"
   ]
  },
  {
   "cell_type": "code",
   "execution_count": 13,
   "id": "193cdc04-bf3e-46be-961e-ed870e099ce6",
   "metadata": {},
   "outputs": [
    {
     "name": "stdout",
     "output_type": "stream",
     "text": [
      "('Jack', 'Lucy', 'Tom')\n",
      "Hello, Jack!\n",
      "Hello, Lucy!\n",
      "Hello, Tom!\n"
     ]
    }
   ],
   "source": [
    "def hellos(*name):\n",
    "    print(name)\n",
    "    for n in name:\n",
    "        print(f\"Hello, {n}!\")\n",
    "\n",
    "hellos(\"Jack\", \"Lucy\", \"Tom\")"
   ]
  },
  {
   "cell_type": "code",
   "execution_count": 16,
   "id": "a0b8d881-a80b-4968-9a80-89293da44d09",
   "metadata": {},
   "outputs": [
    {
     "name": "stdout",
     "output_type": "stream",
     "text": [
      "{'a': 'Jack', 'b': 'Lucy', 'c': 'Tom'}\n",
      "Hello, Jack!\n",
      "Hello, Lucy!\n",
      "Hello, Tom!\n"
     ]
    }
   ],
   "source": [
    "def hellodv(**name):\n",
    "    print(name)\n",
    "    for n in name:\n",
    "        print(f\"Hello, {name[n]}!\")\n",
    "\n",
    "hellodv(a=\"Jack\", b=\"Lucy\", c=\"Tom\")"
   ]
  },
  {
   "cell_type": "code",
   "execution_count": 31,
   "id": "1ef4a89a-8643-41b1-a746-99dee336fd99",
   "metadata": {},
   "outputs": [
    {
     "name": "stdout",
     "output_type": "stream",
     "text": [
      "from flask import Flask\n",
      "app = Flask(__name__)\n",
      "\n",
      "@app.route('/')\n",
      "def hello_world():\n",
      "   return 'Hello World'\n",
      "\n",
      "if __name__ == '__main__':\n",
      "   app.run()\n",
      "\n"
     ]
    }
   ],
   "source": [
    "!cat /home/studio-lab-user/sagemaker-studiolab-notebooks/app.py"
   ]
  },
  {
   "cell_type": "code",
   "execution_count": 16,
   "id": "c4c618f1-f608-437c-bc54-5999125a1502",
   "metadata": {},
   "outputs": [
    {
     "name": "stdout",
     "output_type": "stream",
     "text": [
      "from flask import Flask\n",
      "app = Flask(__name__)\n",
      "\n",
      "@app.route('/')\n",
      "def hello_world():\n",
      "   return 'Hello World'\n",
      "\n",
      "if __name__ == '__main__':\n",
      "   app.run()\n",
      "\n",
      "\n"
     ]
    }
   ],
   "source": [
    "fr = open(\"/home/studio-lab-user/sagemaker-studiolab-notebooks/app.py\",\"r\")\n",
    "s = fr.read()\n",
    "print(s)\n",
    "fr.close()"
   ]
  },
  {
   "cell_type": "code",
   "execution_count": 33,
   "id": "2bf2000a-572a-45a2-992d-ffb85c0c5e16",
   "metadata": {},
   "outputs": [],
   "source": [
    "fw = open(\"/home/studio-lab-user/sagemaker-studiolab-notebooks/app1.py\",\"w\")\n",
    "fw.write(s)\n",
    "fw.close()"
   ]
  },
  {
   "cell_type": "code",
   "execution_count": 34,
   "id": "29bc2067-4228-4314-9d4b-0493de6340fa",
   "metadata": {},
   "outputs": [],
   "source": [
    "fa = open(\"/home/studio-lab-user/sagemaker-studiolab-notebooks/app1.py\",\"a\")\n",
    "fa.write(\"# flask app\")\n",
    "fa.close()"
   ]
  },
  {
   "cell_type": "code",
   "execution_count": 36,
   "id": "cf6c1ef2-ab61-4e6f-835a-2d7b706e86be",
   "metadata": {},
   "outputs": [],
   "source": [
    "import pickle\n",
    "l = [1,2,3,4,5]\n",
    "f = open(\"/home/studio-lab-user/sagemaker-studiolab-notebooks/list.data\",\"wb\")\n",
    "pickle.dump(l,f)\n",
    "f.close()"
   ]
  },
  {
   "cell_type": "code",
   "execution_count": 37,
   "id": "25c60858-7d4e-462d-bbd6-e728ad2aa00e",
   "metadata": {},
   "outputs": [
    {
     "name": "stdout",
     "output_type": "stream",
     "text": [
      "[1, 2, 3, 4, 5]\n"
     ]
    }
   ],
   "source": [
    "f = open(\"/home/studio-lab-user/sagemaker-studiolab-notebooks/list.data\",\"rb\")\n",
    "data = pickle.load(f)\n",
    "print(data)\n",
    "f.close()"
   ]
  },
  {
   "cell_type": "code",
   "execution_count": 2,
   "id": "b0440cf9-57e2-4be9-8646-bb51cc7fd3d2",
   "metadata": {},
   "outputs": [
    {
     "name": "stdout",
     "output_type": "stream",
     "text": [
      "CLD_CONTINUED, CLD_DUMPED, CLD_EXITED, CLD_KILLED, CLD_STOPPED, CLD_TRAPPED, DirEntry, EX_CANTCREAT, EX_CONFIG, EX_DATAERR, EX_IOERR, EX_NOHOST, EX_NOINPUT, EX_NOPERM, EX_NOUSER, EX_OK, EX_OSERR, EX_OSFILE, EX_PROTOCOL, EX_SOFTWARE, EX_TEMPFAIL, EX_UNAVAILABLE, EX_USAGE, F_LOCK, F_OK, F_TEST, F_TLOCK, F_ULOCK, GenericAlias, Mapping, MutableMapping, NGROUPS_MAX, O_ACCMODE, O_APPEND, O_ASYNC, O_CLOEXEC, O_CREAT, O_DIRECT, O_DIRECTORY, O_DSYNC, O_EXCL, O_LARGEFILE, O_NDELAY, O_NOATIME, O_NOCTTY, O_NOFOLLOW, O_NONBLOCK, O_RDONLY, O_RDWR, O_RSYNC, O_SYNC, O_TRUNC, O_WRONLY, POSIX_FADV_DONTNEED, POSIX_FADV_NOREUSE, POSIX_FADV_NORMAL, POSIX_FADV_RANDOM, POSIX_FADV_SEQUENTIAL, POSIX_FADV_WILLNEED, POSIX_SPAWN_CLOSE, POSIX_SPAWN_DUP2, POSIX_SPAWN_OPEN, PRIO_PGRP, PRIO_PROCESS, PRIO_USER, P_ALL, P_NOWAIT, P_NOWAITO, P_PGID, P_PID, P_WAIT, PathLike, RTLD_DEEPBIND, RTLD_GLOBAL, RTLD_LAZY, RTLD_LOCAL, RTLD_NODELETE, RTLD_NOLOAD, RTLD_NOW, R_OK, SCHED_BATCH, SCHED_FIFO, SCHED_IDLE, SCHED_OTHER, SCHED_RESET_ON_FORK, SCHED_RR, SEEK_CUR, SEEK_END, SEEK_SET, ST_APPEND, ST_MANDLOCK, ST_NOATIME, ST_NODEV, ST_NODIRATIME, ST_NOEXEC, ST_NOSUID, ST_RDONLY, ST_RELATIME, ST_SYNCHRONOUS, ST_WRITE, TMP_MAX, WCONTINUED, WCOREDUMP, WEXITED, WEXITSTATUS, WIFCONTINUED, WIFEXITED, WIFSIGNALED, WIFSTOPPED, WNOHANG, WNOWAIT, WSTOPPED, WSTOPSIG, WTERMSIG, WUNTRACED, W_OK, XATTR_CREATE, XATTR_REPLACE, XATTR_SIZE_MAX, X_OK, _Environ, __all__, __builtins__, __cached__, __doc__, __file__, __loader__, __name__, __package__, __spec__, _check_methods, _execvpe, _exists, _exit, _fspath, _fwalk, _get_exports_list, _spawnvef, _walk, _wrap_close, abc, abort, access, altsep, chdir, chmod, chown, chroot, close, closerange, confstr, confstr_names, cpu_count, ctermid, curdir, defpath, device_encoding, devnull, dup, dup2, environ, environb, error, execl, execle, execlp, execlpe, execv, execve, execvp, execvpe, extsep, fchdir, fchmod, fchown, fdatasync, fdopen, fork, forkpty, fpathconf, fsdecode, fsencode, fspath, fstat, fstatvfs, fsync, ftruncate, fwalk, get_blocking, get_exec_path, get_inheritable, get_terminal_size, getcwd, getcwdb, getegid, getenv, getenvb, geteuid, getgid, getgrouplist, getgroups, getloadavg, getlogin, getpgid, getpgrp, getpid, getppid, getpriority, getresgid, getresuid, getsid, getuid, getxattr, initgroups, isatty, kill, killpg, lchown, linesep, link, listdir, listxattr, lockf, lseek, lstat, major, makedev, makedirs, minor, mkdir, mkfifo, mknod, name, nice, open, openpty, pardir, path, pathconf, pathconf_names, pathsep, pipe, pipe2, popen, posix_fadvise, posix_fallocate, posix_spawn, posix_spawnp, pread, preadv, putenv, pwrite, pwritev, read, readlink, readv, register_at_fork, remove, removedirs, removexattr, rename, renames, replace, rmdir, scandir, sched_get_priority_max, sched_get_priority_min, sched_getaffinity, sched_getparam, sched_getscheduler, sched_param, sched_rr_get_interval, sched_setaffinity, sched_setparam, sched_setscheduler, sched_yield, sendfile, sep, set_blocking, set_inheritable, setegid, seteuid, setgid, setgroups, setpgid, setpgrp, setpriority, setregid, setresgid, setresuid, setreuid, setsid, setuid, setxattr, spawnl, spawnle, spawnlp, spawnlpe, spawnv, spawnve, spawnvp, spawnvpe, st, stat, stat_result, statvfs, statvfs_result, strerror, supports_bytes_environ, supports_dir_fd, supports_effective_ids, supports_fd, supports_follow_symlinks, symlink, sync, sys, sysconf, sysconf_names, system, tcgetpgrp, tcsetpgrp, terminal_size, times, times_result, truncate, ttyname, umask, uname, uname_result, unlink, unsetenv, urandom, utime, wait, wait3, wait4, waitid, waitid_result, waitpid, waitstatus_to_exitcode, walk, write, writev, "
     ]
    }
   ],
   "source": [
    "import os\n",
    "l = dir(os)\n",
    "for x in l:\n",
    "    print(x, end=', ')"
   ]
  },
  {
   "cell_type": "code",
   "execution_count": 3,
   "id": "5f15a777-e132-442a-b293-dfa5f51df658",
   "metadata": {},
   "outputs": [
    {
     "data": {
      "text/plain": [
       "True"
      ]
     },
     "execution_count": 3,
     "metadata": {},
     "output_type": "execute_result"
    }
   ],
   "source": [
    "os.access(\"/home/studio-lab-user/sagemaker-studiolab-notebooks/app1.py\",os.F_OK)"
   ]
  },
  {
   "cell_type": "code",
   "execution_count": 4,
   "id": "88db810e-8447-4f58-9a5d-b8eb1a7bfd84",
   "metadata": {},
   "outputs": [
    {
     "data": {
      "text/plain": [
       "True"
      ]
     },
     "execution_count": 4,
     "metadata": {},
     "output_type": "execute_result"
    }
   ],
   "source": [
    "os.access(\"/home/studio-lab-user/sagemaker-studiolab-notebooks/app1.py\",os.R_OK)"
   ]
  },
  {
   "cell_type": "code",
   "execution_count": 5,
   "id": "d1f90efb-3b18-4ff1-95ab-8f993e2239f3",
   "metadata": {},
   "outputs": [
    {
     "data": {
      "text/plain": [
       "True"
      ]
     },
     "execution_count": 5,
     "metadata": {},
     "output_type": "execute_result"
    }
   ],
   "source": [
    "os.access(\"/home/studio-lab-user/sagemaker-studiolab-notebooks/app1.py\",os.W_OK)"
   ]
  },
  {
   "cell_type": "code",
   "execution_count": 6,
   "id": "30a4e579-f7a3-49b2-81cb-0b1e6aa521d2",
   "metadata": {},
   "outputs": [
    {
     "data": {
      "text/plain": [
       "False"
      ]
     },
     "execution_count": 6,
     "metadata": {},
     "output_type": "execute_result"
    }
   ],
   "source": [
    "os.access(\"/home/studio-lab-user/sagemaker-studiolab-notebooks/app1.py\",os.X_OK)"
   ]
  },
  {
   "cell_type": "code",
   "execution_count": 7,
   "id": "e10ef700-0d64-4866-9451-6852c41763a6",
   "metadata": {},
   "outputs": [
    {
     "data": {
      "text/plain": [
       "'/home/studio-lab-user/sagemaker-studiolab-notebooks/SageMaker/python'"
      ]
     },
     "execution_count": 7,
     "metadata": {},
     "output_type": "execute_result"
    }
   ],
   "source": [
    "os.getcwd()"
   ]
  },
  {
   "cell_type": "code",
   "execution_count": 9,
   "id": "0e6810cf-ace3-425c-aa6a-01186bf76020",
   "metadata": {},
   "outputs": [
    {
     "data": {
      "text/plain": [
       "'/home/studio-lab-user/sagemaker-studiolab-notebooks'"
      ]
     },
     "execution_count": 9,
     "metadata": {},
     "output_type": "execute_result"
    }
   ],
   "source": [
    "os.chdir(\"/home/studio-lab-user/sagemaker-studiolab-notebooks\")\n",
    "os.getcwd()"
   ]
  },
  {
   "cell_type": "code",
   "execution_count": 11,
   "id": "75bbcca2-ebce-4717-9aad-d5950d63cdb7",
   "metadata": {},
   "outputs": [],
   "source": [
    "import stat\n",
    "os.chmod(\"/home/studio-lab-user/sagemaker-studiolab-notebooks/list.data\",stat.S_IRWXO)"
   ]
  },
  {
   "cell_type": "code",
   "execution_count": 17,
   "id": "fcfbbc58-8b65-4e21-8b09-db41a794f491",
   "metadata": {},
   "outputs": [],
   "source": [
    "fw = os.open(\"/home/studio-lab-user/sagemaker-studiolab-notebooks/app1.py\",os.O_RDWR|os.O_CREAT)\n",
    "os.write(fw,s.encode(\"utf-8\"))\n",
    "os.close(fw)"
   ]
  },
  {
   "cell_type": "code",
   "execution_count": 18,
   "id": "02ff9818-fe90-48c1-a268-bed29d54a94f",
   "metadata": {},
   "outputs": [
    {
     "data": {
      "text/plain": [
       "['Getting Started.ipynb',\n",
       " 'images',\n",
       " '.ipynb_checkpoints',\n",
       " 'SageMaker',\n",
       " 'github.txt',\n",
       " 'ngrok-stable-linux-amd64.tgz',\n",
       " 'ngrok',\n",
       " 'app.py',\n",
       " 'list.data',\n",
       " 'app1.py']"
      ]
     },
     "execution_count": 18,
     "metadata": {},
     "output_type": "execute_result"
    }
   ],
   "source": [
    "os.listdir(\"/home/studio-lab-user/sagemaker-studiolab-notebooks\")"
   ]
  },
  {
   "cell_type": "code",
   "execution_count": 19,
   "id": "4e6c287f-70ed-47ec-986b-42476b170e3a",
   "metadata": {},
   "outputs": [],
   "source": [
    "os.mkdir(\"/home/studio-lab-user/sagemaker-studiolab-notebooks/DIR\",0o777)"
   ]
  },
  {
   "cell_type": "code",
   "execution_count": 21,
   "id": "24b9e8a9-3f64-4b47-b00d-1a985eaa5788",
   "metadata": {},
   "outputs": [],
   "source": [
    "os.makedirs(\"/home/studio-lab-user/sagemaker-studiolab-notebooks/DIR/1/2/3/4/5\",0o777)"
   ]
  },
  {
   "cell_type": "code",
   "execution_count": 23,
   "id": "35119dd4-2ccf-43cc-bb21-fb1fcbdde499",
   "metadata": {},
   "outputs": [
    {
     "name": "stdout",
     "output_type": "stream",
     "text": [
      "b'from flask'\n"
     ]
    }
   ],
   "source": [
    "fw = os.open(\"/home/studio-lab-user/sagemaker-studiolab-notebooks/app1.py\",os.O_RDWR|os.O_CREAT)\n",
    "print(os.read(fw,10))\n",
    "os.close(fw)"
   ]
  },
  {
   "cell_type": "code",
   "execution_count": 24,
   "id": "0243b9eb-a6a7-4d2a-9be5-282d8931bd94",
   "metadata": {},
   "outputs": [],
   "source": [
    "os.rename(\"/home/studio-lab-user/sagemaker-studiolab-notebooks/DIR\",\"/home/studio-lab-user/sagemaker-studiolab-notebooks/dir\")"
   ]
  },
  {
   "cell_type": "code",
   "execution_count": 25,
   "id": "42433828-7530-4e9b-89f0-475782490fc0",
   "metadata": {},
   "outputs": [],
   "source": [
    "os.remove(\"/home/studio-lab-user/sagemaker-studiolab-notebooks/app1.py\")"
   ]
  },
  {
   "cell_type": "code",
   "execution_count": 27,
   "id": "8a633b21-3f57-4347-b280-ef40372b9955",
   "metadata": {},
   "outputs": [],
   "source": [
    "os.renames(\"/home/studio-lab-user/sagemaker-studiolab-notebooks/dir/1/2/3/4/5\",\"/home/studio-lab-user/sagemaker-studiolab-notebooks/dir/11/22/33/44/55\")"
   ]
  },
  {
   "cell_type": "code",
   "execution_count": 28,
   "id": "045468af-8f56-4236-a21a-f92cc8c79293",
   "metadata": {},
   "outputs": [],
   "source": [
    "os.rmdir(\"/home/studio-lab-user/sagemaker-studiolab-notebooks/dir/11/22/33/44/55\")"
   ]
  },
  {
   "cell_type": "code",
   "execution_count": 31,
   "id": "4e85d6a9-b3c2-4d4e-9f19-4479caf47377",
   "metadata": {},
   "outputs": [],
   "source": [
    "os.removedirs(\"/home/studio-lab-user/sagemaker-studiolab-notebooks/dir/11/22/33/44\")"
   ]
  },
  {
   "cell_type": "code",
   "execution_count": 32,
   "id": "1f2f6252-7534-4db1-9c72-6fe7eb1db226",
   "metadata": {},
   "outputs": [
    {
     "data": {
      "text/plain": [
       "os.stat_result(st_mode=33188, st_ino=50340226, st_dev=66307, st_nlink=1, st_uid=1000, st_gid=100, st_size=148, st_atime=1655370153, st_mtime=1655370153, st_ctime=1655370153)"
      ]
     },
     "execution_count": 32,
     "metadata": {},
     "output_type": "execute_result"
    }
   ],
   "source": [
    "os.stat(\"/home/studio-lab-user/sagemaker-studiolab-notebooks/app.py\")"
   ]
  },
  {
   "cell_type": "code",
   "execution_count": 33,
   "id": "5cfea833-bb0a-4119-9166-602509443688",
   "metadata": {},
   "outputs": [
    {
     "data": {
      "text/plain": [
       "os.statvfs_result(f_bsize=4096, f_frsize=4096, f_blocks=6550400, f_bfree=4589140, f_bavail=4589140, f_files=13107200, f_ffree=12991680, f_favail=12991680, f_flag=4096, f_namemax=255)"
      ]
     },
     "execution_count": 33,
     "metadata": {},
     "output_type": "execute_result"
    }
   ],
   "source": [
    "os.statvfs(\"/home/studio-lab-user/sagemaker-studiolab-notebooks\")"
   ]
  },
  {
   "cell_type": "code",
   "execution_count": 35,
   "id": "a5d7105d-53a0-4f99-9344-b0285ddffc28",
   "metadata": {},
   "outputs": [
    {
     "data": {
      "text/plain": [
       "'..'"
      ]
     },
     "execution_count": 35,
     "metadata": {},
     "output_type": "execute_result"
    }
   ],
   "source": [
    "os.pardir"
   ]
  },
  {
   "cell_type": "code",
   "execution_count": 39,
   "id": "8e67dd7d-3c38-4ce9-af1c-f09a3ff269d1",
   "metadata": {},
   "outputs": [
    {
     "name": "stdout",
     "output_type": "stream",
     "text": [
      "/home/studio-lab-user/sagemaker-studiolab-notebooks/images\n",
      "create_environment.png\n",
      "/home/studio-lab-user/sagemaker-studiolab-notebooks/images/create_environment.png\n",
      "launcher_button.png\n",
      "/home/studio-lab-user/sagemaker-studiolab-notebooks/images/launcher_button.png\n",
      "launcher_cards.png\n",
      "/home/studio-lab-user/sagemaker-studiolab-notebooks/images/launcher_cards.png\n",
      ".ipynb_checkpoints\n",
      "/home/studio-lab-user/sagemaker-studiolab-notebooks/images/.ipynb_checkpoints\n",
      "**********************\n",
      "/home/studio-lab-user/sagemaker-studiolab-notebooks/images/.ipynb_checkpoints\n",
      "create_environment-checkpoint.png\n",
      "/home/studio-lab-user/sagemaker-studiolab-notebooks/images/.ipynb_checkpoints/create_environment-checkpoint.png\n",
      "launcher_button-checkpoint.png\n",
      "/home/studio-lab-user/sagemaker-studiolab-notebooks/images/.ipynb_checkpoints/launcher_button-checkpoint.png\n",
      "launcher_cards-checkpoint.png\n",
      "/home/studio-lab-user/sagemaker-studiolab-notebooks/images/.ipynb_checkpoints/launcher_cards-checkpoint.png\n",
      "**********************\n"
     ]
    }
   ],
   "source": [
    "for root, dirs, files in os.walk(\"/home/studio-lab-user/sagemaker-studiolab-notebooks/images\"):\n",
    "    print(root)\n",
    "    for name in files:\n",
    "        print(name)\n",
    "        print(os.path.join(root, name))\n",
    "    for name in dirs:\n",
    "        print(name)\n",
    "        print(os.path.join(root, name))\n",
    "    print(\"**********************\")"
   ]
  },
  {
   "cell_type": "code",
   "execution_count": 40,
   "id": "18af0444-f605-4a95-9465-ecc2dc180b63",
   "metadata": {},
   "outputs": [
    {
     "name": "stdout",
     "output_type": "stream",
     "text": [
      "error\n"
     ]
    }
   ],
   "source": [
    "try:\n",
    "    a = 5 / 0\n",
    "except:\n",
    "    print(\"error\")"
   ]
  },
  {
   "cell_type": "code",
   "execution_count": 42,
   "id": "db5729bd-8695-4449-8581-4aa9ca7ed0a5",
   "metadata": {},
   "outputs": [
    {
     "name": "stdout",
     "output_type": "stream",
     "text": [
      "division by zero\n"
     ]
    }
   ],
   "source": [
    "try:\n",
    "    a = 5 / 0\n",
    "except Exception as ex:\n",
    "    print(ex)"
   ]
  },
  {
   "cell_type": "code",
   "execution_count": 47,
   "id": "bce12819-093b-426d-8b2e-a8ea19a0ff22",
   "metadata": {},
   "outputs": [
    {
     "data": {
      "text/plain": [
       "'abcABC'"
      ]
     },
     "execution_count": 47,
     "metadata": {},
     "output_type": "execute_result"
    }
   ],
   "source": [
    "class ABC:\n",
    "    name = \"abc\"\n",
    "    def __init__(self):\n",
    "        self.name += \"ABC\"\n",
    "    def getname(self):\n",
    "        return self.name\n",
    "\n",
    "a = ABC()\n",
    "a.getname()"
   ]
  },
  {
   "cell_type": "code",
   "execution_count": 48,
   "id": "6cd0d6e5-53aa-44a1-b962-f8b18bbfa32c",
   "metadata": {},
   "outputs": [
    {
     "data": {
      "text/plain": [
       "'abcABC'"
      ]
     },
     "execution_count": 48,
     "metadata": {},
     "output_type": "execute_result"
    }
   ],
   "source": [
    "a.name"
   ]
  },
  {
   "cell_type": "code",
   "execution_count": 52,
   "id": "a355a02d-b4f5-4de2-ac33-192048d8c488",
   "metadata": {},
   "outputs": [
    {
     "data": {
      "text/plain": [
       "7"
      ]
     },
     "execution_count": 52,
     "metadata": {},
     "output_type": "execute_result"
    }
   ],
   "source": [
    "class EFG(ABC):\n",
    "    __l = 6\n",
    "    def __init__(self):\n",
    "        self.name += \"EFG\"\n",
    "        self.__addl()\n",
    "    def __addl(self):\n",
    "        self.__l += 1\n",
    "    def getl(self):\n",
    "        return self.__l\n",
    "\n",
    "g = EFG()\n",
    "g.getl()"
   ]
  },
  {
   "cell_type": "code",
   "execution_count": 55,
   "id": "981c556a-881c-4829-9662-c8a070b8ec29",
   "metadata": {},
   "outputs": [
    {
     "data": {
      "text/plain": [
       "'/home/studio-lab-user/sagemaker-studiolab-notebooks/app1.py'"
      ]
     },
     "execution_count": 55,
     "metadata": {},
     "output_type": "execute_result"
    }
   ],
   "source": [
    "import shutil\n",
    "shutil.copy(\"/home/studio-lab-user/sagemaker-studiolab-notebooks/app.py\",\"/home/studio-lab-user/sagemaker-studiolab-notebooks/app1.py\")"
   ]
  },
  {
   "cell_type": "code",
   "execution_count": 56,
   "id": "aec9fb16-35e9-4067-a5c6-33e4938a6037",
   "metadata": {},
   "outputs": [
    {
     "data": {
      "text/plain": [
       "'/home/studio-lab-user/sagemaker-studiolab-notebooks/images/app1.py'"
      ]
     },
     "execution_count": 56,
     "metadata": {},
     "output_type": "execute_result"
    }
   ],
   "source": [
    "shutil.move(\"/home/studio-lab-user/sagemaker-studiolab-notebooks/app1.py\",\"/home/studio-lab-user/sagemaker-studiolab-notebooks/images\")"
   ]
  },
  {
   "cell_type": "code",
   "execution_count": 58,
   "id": "7c1821e5-3e0f-4f2e-b380-14f3ea437424",
   "metadata": {},
   "outputs": [
    {
     "data": {
      "text/plain": [
       "['/home/studio-lab-user/sagemaker-studiolab-notebooks/images/create_environment.png',\n",
       " '/home/studio-lab-user/sagemaker-studiolab-notebooks/images/launcher_button.png',\n",
       " '/home/studio-lab-user/sagemaker-studiolab-notebooks/images/launcher_cards.png']"
      ]
     },
     "execution_count": 58,
     "metadata": {},
     "output_type": "execute_result"
    }
   ],
   "source": [
    "import glob\n",
    "glob.glob(\"/home/studio-lab-user/sagemaker-studiolab-notebooks/images/*.png\")"
   ]
  },
  {
   "cell_type": "code",
   "execution_count": null,
   "id": "85f372cf-c5e9-4fbc-9ac9-f43de272a844",
   "metadata": {},
   "outputs": [],
   "source": []
  }
 ],
 "metadata": {
  "kernelspec": {
   "display_name": "default:Python",
   "language": "python",
   "name": "conda-env-default-py"
  },
  "language_info": {
   "codemirror_mode": {
    "name": "ipython",
    "version": 3
   },
   "file_extension": ".py",
   "mimetype": "text/x-python",
   "name": "python",
   "nbconvert_exporter": "python",
   "pygments_lexer": "ipython3",
   "version": "3.9.7"
  }
 },
 "nbformat": 4,
 "nbformat_minor": 5
}
