{
 "cells": [
  {
   "cell_type": "code",
   "execution_count": 1,
   "id": "2ee9a080-7ade-4e1a-b7c4-d29aa3e8bc1b",
   "metadata": {},
   "outputs": [
    {
     "name": "stdout",
     "output_type": "stream",
     "text": [
      "Python 3.9.7\n"
     ]
    }
   ],
   "source": [
    "!python -V"
   ]
  },
  {
   "cell_type": "code",
   "execution_count": 2,
   "id": "74955ba5-bacd-4be1-a9ac-7dd7b5e011f1",
   "metadata": {},
   "outputs": [
    {
     "name": "stdout",
     "output_type": "stream",
     "text": [
      "Python 3.9.7\n"
     ]
    }
   ],
   "source": [
    "!python --version"
   ]
  },
  {
   "cell_type": "code",
   "execution_count": 3,
   "id": "81220320-ff1e-411a-a0b0-c3d8c4b2afe8",
   "metadata": {},
   "outputs": [
    {
     "name": "stdout",
     "output_type": "stream",
     "text": [
      "Hello, World!\n"
     ]
    }
   ],
   "source": [
    "print(\"Hello, World!\")"
   ]
  },
  {
   "cell_type": "code",
   "execution_count": 4,
   "id": "7f54d7d0-890f-4f56-ac8a-4ab268fc9bbd",
   "metadata": {},
   "outputs": [],
   "source": [
    "# 注释"
   ]
  },
  {
   "cell_type": "code",
   "execution_count": 5,
   "id": "cb62de51-78b5-40b6-8e04-ad95425236ca",
   "metadata": {},
   "outputs": [
    {
     "data": {
      "text/plain": [
       "'Hello, World!'"
      ]
     },
     "execution_count": 5,
     "metadata": {},
     "output_type": "execute_result"
    }
   ],
   "source": [
    "hello = \"Hello, World!\"\n",
    "hello"
   ]
  },
  {
   "cell_type": "code",
   "execution_count": 6,
   "id": "46d6c512-f228-44d1-8d2a-b47ae2cbfcaa",
   "metadata": {},
   "outputs": [
    {
     "data": {
      "text/plain": [
       "'Hello, World!'"
      ]
     },
     "execution_count": 6,
     "metadata": {},
     "output_type": "execute_result"
    }
   ],
   "source": [
    "hello = 'Hello, World!'\n",
    "hello"
   ]
  },
  {
   "cell_type": "code",
   "execution_count": 7,
   "id": "0f9d9cc3-43b6-4758-848c-41519427ee2f",
   "metadata": {},
   "outputs": [
    {
     "name": "stdout",
     "output_type": "stream",
     "text": [
      "Hello, World!\n"
     ]
    }
   ],
   "source": [
    "print(hello)"
   ]
  },
  {
   "cell_type": "code",
   "execution_count": 8,
   "id": "7bafd782-bd54-4de8-aca5-c22d756cede7",
   "metadata": {},
   "outputs": [
    {
     "name": "stdout",
     "output_type": "stream",
     "text": [
      "Hello\n"
     ]
    }
   ],
   "source": [
    "print(hello[0:5])"
   ]
  },
  {
   "cell_type": "code",
   "execution_count": 9,
   "id": "cce4cbd0-abb5-4260-8128-ae02e1e76e86",
   "metadata": {},
   "outputs": [
    {
     "name": "stdout",
     "output_type": "stream",
     "text": [
      "Hello, World\n"
     ]
    }
   ],
   "source": [
    "print(hello[0:-1])"
   ]
  },
  {
   "cell_type": "code",
   "execution_count": 10,
   "id": "84464a80-0502-4c47-b1d6-1f672b07d872",
   "metadata": {},
   "outputs": [
    {
     "name": "stdout",
     "output_type": "stream",
     "text": [
      "World\n"
     ]
    }
   ],
   "source": [
    "print(hello[7:12])"
   ]
  },
  {
   "cell_type": "code",
   "execution_count": 11,
   "id": "b5ecc20d-9f6b-4add-b370-42ab9e3a9824",
   "metadata": {},
   "outputs": [
    {
     "name": "stdout",
     "output_type": "stream",
     "text": [
      "World!\n"
     ]
    }
   ],
   "source": [
    "print(hello[7:])"
   ]
  },
  {
   "cell_type": "code",
   "execution_count": 12,
   "id": "4a1e4e48-bdec-4b30-a901-6b9b6b009b0a",
   "metadata": {},
   "outputs": [
    {
     "name": "stdout",
     "output_type": "stream",
     "text": [
      "el,Wr\n"
     ]
    }
   ],
   "source": [
    "print(hello[1:10:2])"
   ]
  },
  {
   "cell_type": "code",
   "execution_count": 13,
   "id": "ce9700c2-a487-4504-a559-7b2038f5f349",
   "metadata": {},
   "outputs": [
    {
     "name": "stdout",
     "output_type": "stream",
     "text": [
      "Hello, World! wwk\n"
     ]
    }
   ],
   "source": [
    "print(hello+\" wwk\")"
   ]
  },
  {
   "cell_type": "code",
   "execution_count": 14,
   "id": "074f2bd2-a8c6-456f-98b4-d7ab4fb36b1c",
   "metadata": {},
   "outputs": [
    {
     "name": "stdout",
     "output_type": "stream",
     "text": [
      "Hello, World!Hello, World!Hello, World!\n"
     ]
    }
   ],
   "source": [
    "print(hello*3)"
   ]
  },
  {
   "cell_type": "code",
   "execution_count": 15,
   "id": "5ffa2fe1-6968-4853-a391-c459d430a833",
   "metadata": {},
   "outputs": [
    {
     "name": "stdout",
     "output_type": "stream",
     "text": [
      "1\n",
      "2\n"
     ]
    }
   ],
   "source": [
    "print(\"1\\n2\")"
   ]
  },
  {
   "cell_type": "code",
   "execution_count": 16,
   "id": "caa2ab2c-bcb3-460e-98a3-9943dfb1bdba",
   "metadata": {},
   "outputs": [
    {
     "name": "stdout",
     "output_type": "stream",
     "text": [
      "1\\n2\n"
     ]
    }
   ],
   "source": [
    "print(r\"1\\n2\")"
   ]
  },
  {
   "cell_type": "code",
   "execution_count": 17,
   "id": "3ff3c025-7887-45b3-8382-72be4beaf268",
   "metadata": {},
   "outputs": [
    {
     "name": "stdout",
     "output_type": "stream",
     "text": [
      "\\ ' \"  \u0000 \n",
      " \u000b",
      " \t ! !\n"
     ]
    }
   ],
   "source": [
    "print(\"\\\\ \\' \\\"  \\b \\000 \\n \\v \\t \\41 \\x21\")"
   ]
  },
  {
   "cell_type": "code",
   "execution_count": 18,
   "id": "047958b3-7d6f-4056-833b-e25e673a16de",
   "metadata": {},
   "outputs": [
    {
     "data": {
      "text/plain": [
       "True"
      ]
     },
     "execution_count": 18,
     "metadata": {},
     "output_type": "execute_result"
    }
   ],
   "source": [
    "'H' in hello"
   ]
  },
  {
   "cell_type": "code",
   "execution_count": 19,
   "id": "c1dfdf1d-a2a4-48e2-9615-cf0fa67ee49f",
   "metadata": {},
   "outputs": [
    {
     "data": {
      "text/plain": [
       "True"
      ]
     },
     "execution_count": 19,
     "metadata": {},
     "output_type": "execute_result"
    }
   ],
   "source": [
    "'h' not in hello"
   ]
  },
  {
   "cell_type": "code",
   "execution_count": 20,
   "id": "7459fb77-9ac3-482a-b377-f053746cdeea",
   "metadata": {},
   "outputs": [
    {
     "name": "stdout",
     "output_type": "stream",
     "text": [
      "this is Hello, World!\n"
     ]
    }
   ],
   "source": [
    "print(\"this is %s\" % hello)"
   ]
  },
  {
   "cell_type": "code",
   "execution_count": 21,
   "id": "4e9b0e6a-5359-4312-9ca5-2851ae5e7988",
   "metadata": {},
   "outputs": [
    {
     "name": "stdout",
     "output_type": "stream",
     "text": [
      "this is % 123\n"
     ]
    }
   ],
   "source": [
    "print(\"this is %% %d\" % 123)"
   ]
  },
  {
   "cell_type": "code",
   "execution_count": 22,
   "id": "358e987d-ce57-41bf-b20d-4c8c7d15d748",
   "metadata": {},
   "outputs": [
    {
     "name": "stdout",
     "output_type": "stream",
     "text": [
      "this\n",
      "is\n",
      "a\n",
      "string\n",
      "\n"
     ]
    }
   ],
   "source": [
    "s = \"\"\"this\n",
    "is\n",
    "a\n",
    "string\n",
    "\"\"\"\n",
    "print(s)"
   ]
  },
  {
   "cell_type": "code",
   "execution_count": 23,
   "id": "a0d6a434-07a0-4e1a-9c33-fd983d85eb02",
   "metadata": {},
   "outputs": [
    {
     "name": "stdout",
     "output_type": "stream",
     "text": [
      "this is Hello, World!\n"
     ]
    }
   ],
   "source": [
    "print(f\"this is {hello}\")"
   ]
  },
  {
   "cell_type": "code",
   "execution_count": 24,
   "id": "5a241156-252a-455d-a0f9-e0e1a78de8a9",
   "metadata": {},
   "outputs": [
    {
     "name": "stdout",
     "output_type": "stream",
     "text": [
      "this is 2\n"
     ]
    }
   ],
   "source": [
    "print(f\"this is {1+1}\")"
   ]
  },
  {
   "cell_type": "code",
   "execution_count": 88,
   "id": "f95870d3-23c8-470b-a7c1-0e5b95eb60e5",
   "metadata": {},
   "outputs": [
    {
     "name": "stdout",
     "output_type": "stream",
     "text": [
      "this is string 123.1        555\n"
     ]
    }
   ],
   "source": [
    "print(\"this is {0} {1:.1f} {2:10d}\".format(\"string\", 123.123, 555))"
   ]
  },
  {
   "cell_type": "code",
   "execution_count": 25,
   "id": "2410dcbf-88a2-4ef7-a1e5-0f741ae1ec73",
   "metadata": {},
   "outputs": [
    {
     "name": "stdout",
     "output_type": "stream",
     "text": [
      "Hello\n"
     ]
    }
   ],
   "source": [
    "print(str.capitalize(\"hello\"))"
   ]
  },
  {
   "cell_type": "code",
   "execution_count": 26,
   "id": "3dfc0931-33bf-468c-9083-15f1c20e65e7",
   "metadata": {},
   "outputs": [
    {
     "data": {
      "text/plain": [
       "'*************Hello, World!**************'"
      ]
     },
     "execution_count": 26,
     "metadata": {},
     "output_type": "execute_result"
    }
   ],
   "source": [
    "hello.center(40, '*')"
   ]
  },
  {
   "cell_type": "code",
   "execution_count": 27,
   "id": "27f0cdcd-a352-4900-81aa-c0c33e00a05d",
   "metadata": {},
   "outputs": [
    {
     "data": {
      "text/plain": [
       "3"
      ]
     },
     "execution_count": 27,
     "metadata": {},
     "output_type": "execute_result"
    }
   ],
   "source": [
    "hello.count('l')"
   ]
  },
  {
   "cell_type": "code",
   "execution_count": 28,
   "id": "fd10e4fb-d880-42fc-af30-c99dfea2367a",
   "metadata": {},
   "outputs": [
    {
     "data": {
      "text/plain": [
       "'Hello, World!'"
      ]
     },
     "execution_count": 28,
     "metadata": {},
     "output_type": "execute_result"
    }
   ],
   "source": [
    "hello.encode(\"utf-8\").decode(\"utf-8\")"
   ]
  },
  {
   "cell_type": "code",
   "execution_count": 29,
   "id": "d72326f7-f459-4ae6-a56c-6932af44a25f",
   "metadata": {},
   "outputs": [
    {
     "data": {
      "text/plain": [
       "True"
      ]
     },
     "execution_count": 29,
     "metadata": {},
     "output_type": "execute_result"
    }
   ],
   "source": [
    "hello.endswith('!')"
   ]
  },
  {
   "cell_type": "code",
   "execution_count": 30,
   "id": "16ba9c7f-ea68-4d56-988c-060ba555f337",
   "metadata": {},
   "outputs": [
    {
     "data": {
      "text/plain": [
       "12"
      ]
     },
     "execution_count": 30,
     "metadata": {},
     "output_type": "execute_result"
    }
   ],
   "source": [
    "hello.find('!')"
   ]
  },
  {
   "cell_type": "code",
   "execution_count": 31,
   "id": "1be1a4ce-22a5-4d8b-aff5-8fc05bb4c9cd",
   "metadata": {},
   "outputs": [
    {
     "data": {
      "text/plain": [
       "-1"
      ]
     },
     "execution_count": 31,
     "metadata": {},
     "output_type": "execute_result"
    }
   ],
   "source": [
    "hello.find('?')"
   ]
  },
  {
   "cell_type": "code",
   "execution_count": 32,
   "id": "689e7a87-e540-4ff8-8829-c246eadc454f",
   "metadata": {},
   "outputs": [
    {
     "data": {
      "text/plain": [
       "12"
      ]
     },
     "execution_count": 32,
     "metadata": {},
     "output_type": "execute_result"
    }
   ],
   "source": [
    "hello.index('!')"
   ]
  },
  {
   "cell_type": "code",
   "execution_count": 34,
   "id": "c492f666-80e9-4259-8244-38aae882239d",
   "metadata": {},
   "outputs": [
    {
     "data": {
      "text/plain": [
       "True"
      ]
     },
     "execution_count": 34,
     "metadata": {},
     "output_type": "execute_result"
    }
   ],
   "source": [
    "\"123\".isalnum()"
   ]
  },
  {
   "cell_type": "code",
   "execution_count": 35,
   "id": "73946971-30e1-4476-bf99-8442afc2e443",
   "metadata": {},
   "outputs": [
    {
     "data": {
      "text/plain": [
       "True"
      ]
     },
     "execution_count": 35,
     "metadata": {},
     "output_type": "execute_result"
    }
   ],
   "source": [
    "\"abc\".isalnum()"
   ]
  },
  {
   "cell_type": "code",
   "execution_count": 36,
   "id": "b383753e-41f7-4549-b64b-95298c3e8591",
   "metadata": {},
   "outputs": [
    {
     "data": {
      "text/plain": [
       "False"
      ]
     },
     "execution_count": 36,
     "metadata": {},
     "output_type": "execute_result"
    }
   ],
   "source": [
    "\"12.ab\".isalnum()"
   ]
  },
  {
   "cell_type": "code",
   "execution_count": 37,
   "id": "9ba48335-9e6a-47d8-a7e4-2d138436df1a",
   "metadata": {},
   "outputs": [
    {
     "data": {
      "text/plain": [
       "True"
      ]
     },
     "execution_count": 37,
     "metadata": {},
     "output_type": "execute_result"
    }
   ],
   "source": [
    "\"你好abc\".isalpha()"
   ]
  },
  {
   "cell_type": "code",
   "execution_count": 38,
   "id": "65e2d32c-7df4-48d3-a755-97e1b3f895db",
   "metadata": {},
   "outputs": [
    {
     "data": {
      "text/plain": [
       "True"
      ]
     },
     "execution_count": 38,
     "metadata": {},
     "output_type": "execute_result"
    }
   ],
   "source": [
    "\"123\".isdigit()"
   ]
  },
  {
   "cell_type": "code",
   "execution_count": 39,
   "id": "a60aaf34-f27e-4bf3-b6bb-d83399139061",
   "metadata": {},
   "outputs": [
    {
     "data": {
      "text/plain": [
       "True"
      ]
     },
     "execution_count": 39,
     "metadata": {},
     "output_type": "execute_result"
    }
   ],
   "source": [
    "\"abc\".islower()"
   ]
  },
  {
   "cell_type": "code",
   "execution_count": 40,
   "id": "0e6517ac-1c17-41b2-94ce-879f6ace825e",
   "metadata": {},
   "outputs": [
    {
     "data": {
      "text/plain": [
       "True"
      ]
     },
     "execution_count": 40,
     "metadata": {},
     "output_type": "execute_result"
    }
   ],
   "source": [
    "\"123\".isnumeric()"
   ]
  },
  {
   "cell_type": "code",
   "execution_count": 41,
   "id": "5dba5e24-5e97-40ce-80db-ca8922e93f27",
   "metadata": {},
   "outputs": [
    {
     "data": {
      "text/plain": [
       "True"
      ]
     },
     "execution_count": 41,
     "metadata": {},
     "output_type": "execute_result"
    }
   ],
   "source": [
    "\" \".isspace()"
   ]
  },
  {
   "cell_type": "code",
   "execution_count": 42,
   "id": "38a073d4-e3e9-4aff-92ab-4b8c6d3246b1",
   "metadata": {},
   "outputs": [
    {
     "data": {
      "text/plain": [
       "True"
      ]
     },
     "execution_count": 42,
     "metadata": {},
     "output_type": "execute_result"
    }
   ],
   "source": [
    "\"This Is Title\".istitle()"
   ]
  },
  {
   "cell_type": "code",
   "execution_count": 43,
   "id": "c9e8d53e-47b0-4d73-b3d9-c70155c60747",
   "metadata": {},
   "outputs": [
    {
     "data": {
      "text/plain": [
       "True"
      ]
     },
     "execution_count": 43,
     "metadata": {},
     "output_type": "execute_result"
    }
   ],
   "source": [
    "\"ABC\".isupper()"
   ]
  },
  {
   "cell_type": "code",
   "execution_count": 44,
   "id": "627cb1a2-0ee0-4453-a33c-bc9f5adee274",
   "metadata": {},
   "outputs": [
    {
     "data": {
      "text/plain": [
       "'H_e_l_l_o_,_ _W_o_r_l_d_!'"
      ]
     },
     "execution_count": 44,
     "metadata": {},
     "output_type": "execute_result"
    }
   ],
   "source": [
    "\"_\".join(tuple(hello))"
   ]
  },
  {
   "cell_type": "code",
   "execution_count": 45,
   "id": "682c7140-72ff-49e4-ae34-6bada5527f7f",
   "metadata": {},
   "outputs": [
    {
     "data": {
      "text/plain": [
       "13"
      ]
     },
     "execution_count": 45,
     "metadata": {},
     "output_type": "execute_result"
    }
   ],
   "source": [
    "len(hello)"
   ]
  },
  {
   "cell_type": "code",
   "execution_count": 46,
   "id": "5de9dae3-b465-4d8d-9465-b226530d8690",
   "metadata": {},
   "outputs": [
    {
     "data": {
      "text/plain": [
       "'Hello, World!***************************'"
      ]
     },
     "execution_count": 46,
     "metadata": {},
     "output_type": "execute_result"
    }
   ],
   "source": [
    "hello.ljust(40,\"*\")"
   ]
  },
  {
   "cell_type": "code",
   "execution_count": 47,
   "id": "d345cc8f-1c49-4251-9558-e444966d2bf2",
   "metadata": {},
   "outputs": [
    {
     "data": {
      "text/plain": [
       "'hello, world!'"
      ]
     },
     "execution_count": 47,
     "metadata": {},
     "output_type": "execute_result"
    }
   ],
   "source": [
    "hello.lower()"
   ]
  },
  {
   "cell_type": "code",
   "execution_count": 48,
   "id": "dd7f0699-a6de-4e87-91c7-07782e37a1a4",
   "metadata": {},
   "outputs": [
    {
     "data": {
      "text/plain": [
       "'hello'"
      ]
     },
     "execution_count": 48,
     "metadata": {},
     "output_type": "execute_result"
    }
   ],
   "source": [
    "\"      hello\".lstrip()"
   ]
  },
  {
   "cell_type": "code",
   "execution_count": 49,
   "id": "1a817071-17bd-44e2-95fe-4f0f6c75c099",
   "metadata": {},
   "outputs": [
    {
     "data": {
      "text/plain": [
       "' '"
      ]
     },
     "execution_count": 49,
     "metadata": {},
     "output_type": "execute_result"
    }
   ],
   "source": [
    "min(hello)"
   ]
  },
  {
   "cell_type": "code",
   "execution_count": 50,
   "id": "3e5fe0b6-cdcb-4419-a666-0d813649e928",
   "metadata": {},
   "outputs": [
    {
     "data": {
      "text/plain": [
       "'r'"
      ]
     },
     "execution_count": 50,
     "metadata": {},
     "output_type": "execute_result"
    }
   ],
   "source": [
    "max(hello)"
   ]
  },
  {
   "cell_type": "code",
   "execution_count": 51,
   "id": "9dd9cb60-4c2e-4f27-9acc-c468ae6dd729",
   "metadata": {},
   "outputs": [
    {
     "data": {
      "text/plain": [
       "'HeLLo, WorLd!'"
      ]
     },
     "execution_count": 51,
     "metadata": {},
     "output_type": "execute_result"
    }
   ],
   "source": [
    "hello.replace('l', \"L\")"
   ]
  },
  {
   "cell_type": "code",
   "execution_count": 52,
   "id": "2ef3bf42-dd39-4c97-a21c-fb43897d6fb6",
   "metadata": {},
   "outputs": [
    {
     "data": {
      "text/plain": [
       "10"
      ]
     },
     "execution_count": 52,
     "metadata": {},
     "output_type": "execute_result"
    }
   ],
   "source": [
    "hello.rfind('l')"
   ]
  },
  {
   "cell_type": "code",
   "execution_count": 59,
   "id": "5b90148f-0031-4577-82b8-8615bf015d31",
   "metadata": {},
   "outputs": [
    {
     "data": {
      "text/plain": [
       "10"
      ]
     },
     "execution_count": 59,
     "metadata": {},
     "output_type": "execute_result"
    }
   ],
   "source": [
    "hello.rindex(\"l\")"
   ]
  },
  {
   "cell_type": "code",
   "execution_count": 60,
   "id": "eefc2dcc-028b-491e-a5e1-ba4006b7cede",
   "metadata": {},
   "outputs": [
    {
     "data": {
      "text/plain": [
       "'***************************Hello, World!'"
      ]
     },
     "execution_count": 60,
     "metadata": {},
     "output_type": "execute_result"
    }
   ],
   "source": [
    "hello.rjust(40, \"*\")"
   ]
  },
  {
   "cell_type": "code",
   "execution_count": 61,
   "id": "2538690b-ecf7-4fd2-b005-e7840f080357",
   "metadata": {},
   "outputs": [
    {
     "data": {
      "text/plain": [
       "'hello'"
      ]
     },
     "execution_count": 61,
     "metadata": {},
     "output_type": "execute_result"
    }
   ],
   "source": [
    "\"hello       \".rstrip()"
   ]
  },
  {
   "cell_type": "code",
   "execution_count": 63,
   "id": "9cc3fe9e-649c-449d-ae66-a4175f43bb05",
   "metadata": {},
   "outputs": [
    {
     "data": {
      "text/plain": [
       "['Hello,', 'World!']"
      ]
     },
     "execution_count": 63,
     "metadata": {},
     "output_type": "execute_result"
    }
   ],
   "source": [
    "hello.split(\" \")"
   ]
  },
  {
   "cell_type": "code",
   "execution_count": 64,
   "id": "6b9daf78-940f-4c06-9054-61de178ca276",
   "metadata": {},
   "outputs": [
    {
     "data": {
      "text/plain": [
       "True"
      ]
     },
     "execution_count": 64,
     "metadata": {},
     "output_type": "execute_result"
    }
   ],
   "source": [
    "hello.startswith(\"H\")"
   ]
  },
  {
   "cell_type": "code",
   "execution_count": 65,
   "id": "098721cf-a30c-4a29-9c47-49ab67c532b0",
   "metadata": {},
   "outputs": [
    {
     "data": {
      "text/plain": [
       "'hello'"
      ]
     },
     "execution_count": 65,
     "metadata": {},
     "output_type": "execute_result"
    }
   ],
   "source": [
    "\"     hello      \".strip()"
   ]
  },
  {
   "cell_type": "code",
   "execution_count": 66,
   "id": "622847a2-67ad-40ee-829c-6b5cf60805a1",
   "metadata": {},
   "outputs": [
    {
     "data": {
      "text/plain": [
       "'hELLO, wORLD!'"
      ]
     },
     "execution_count": 66,
     "metadata": {},
     "output_type": "execute_result"
    }
   ],
   "source": [
    "hello.swapcase()"
   ]
  },
  {
   "cell_type": "code",
   "execution_count": 67,
   "id": "15965c1a-4347-4618-bfa7-ce647dd0e1e6",
   "metadata": {},
   "outputs": [
    {
     "data": {
      "text/plain": [
       "'This Is Title'"
      ]
     },
     "execution_count": 67,
     "metadata": {},
     "output_type": "execute_result"
    }
   ],
   "source": [
    "\"this is title\".title()"
   ]
  },
  {
   "cell_type": "code",
   "execution_count": 68,
   "id": "f56168a2-fdb2-4417-b377-a3a0460bee97",
   "metadata": {},
   "outputs": [
    {
     "data": {
      "text/plain": [
       "'HELLO, WORLD!'"
      ]
     },
     "execution_count": 68,
     "metadata": {},
     "output_type": "execute_result"
    }
   ],
   "source": [
    "hello.upper()"
   ]
  },
  {
   "cell_type": "code",
   "execution_count": 69,
   "id": "b8da7f4b-4af0-41b7-bfa2-aa289d252aa5",
   "metadata": {},
   "outputs": [
    {
     "data": {
      "text/plain": [
       "'000000000000000000000000000Hello, World!'"
      ]
     },
     "execution_count": 69,
     "metadata": {},
     "output_type": "execute_result"
    }
   ],
   "source": [
    "hello.zfill(40)"
   ]
  },
  {
   "cell_type": "code",
   "execution_count": 70,
   "id": "d4794aec-cf32-43b8-9a0a-f68e1cbe6510",
   "metadata": {},
   "outputs": [
    {
     "data": {
      "text/plain": [
       "True"
      ]
     },
     "execution_count": 70,
     "metadata": {},
     "output_type": "execute_result"
    }
   ],
   "source": [
    "\"123\".isdecimal()"
   ]
  },
  {
   "cell_type": "code",
   "execution_count": 53,
   "id": "ff337363-0ae8-4540-8ba9-d96af2e43910",
   "metadata": {},
   "outputs": [
    {
     "name": "stdin",
     "output_type": "stream",
     "text": [
      "输入 1\n"
     ]
    }
   ],
   "source": [
    "a = input(\"输入\")"
   ]
  },
  {
   "cell_type": "code",
   "execution_count": 54,
   "id": "830d6378-535f-486f-a1f8-33d9ffd8f145",
   "metadata": {},
   "outputs": [
    {
     "data": {
      "text/plain": [
       "'1'"
      ]
     },
     "execution_count": 54,
     "metadata": {},
     "output_type": "execute_result"
    }
   ],
   "source": [
    "a"
   ]
  },
  {
   "cell_type": "code",
   "execution_count": 55,
   "id": "dc616cd4-a7aa-4061-81fd-227b91868a31",
   "metadata": {},
   "outputs": [
    {
     "name": "stdout",
     "output_type": "stream",
     "text": [
      "a b c "
     ]
    }
   ],
   "source": [
    "print('a', end=' '); print('b', end=' '); print('c', end=' ')"
   ]
  },
  {
   "cell_type": "code",
   "execution_count": 56,
   "id": "fcdb4da0-cb36-4596-b28c-2bd14c0a34e0",
   "metadata": {},
   "outputs": [
    {
     "name": "stdout",
     "output_type": "stream",
     "text": [
      "['/home/studio-lab-user/.conda/envs/default/lib/python3.9/site-packages/ipykernel_launcher.py', '-f', '/home/studio-lab-user/.local/share/jupyter/runtime/kernel-908104d2-907a-42c5-8ed4-0009b3cb9eb9.json']\n",
      "['/home/studio-lab-user/sagemaker-studiolab-notebooks/SageMaker/python', '/home/studio-lab-user/.conda/envs/default/lib/python39.zip', '/home/studio-lab-user/.conda/envs/default/lib/python3.9', '/home/studio-lab-user/.conda/envs/default/lib/python3.9/lib-dynload', '', '/home/studio-lab-user/.conda/envs/default/lib/python3.9/site-packages', '/home/studio-lab-user/.conda/envs/default/lib/python3.9/site-packages/IPython/extensions', '/home/studio-lab-user/.ipython']\n"
     ]
    }
   ],
   "source": [
    "import sys\n",
    "print(sys.argv)\n",
    "print(sys.path)"
   ]
  },
  {
   "cell_type": "code",
   "execution_count": 57,
   "id": "4a1315c0-ba8b-457b-b410-97a60b81d551",
   "metadata": {},
   "outputs": [
    {
     "name": "stdout",
     "output_type": "stream",
     "text": [
      "['/home/studio-lab-user/.conda/envs/default/lib/python3.9/site-packages/ipykernel_launcher.py', '-f', '/home/studio-lab-user/.local/share/jupyter/runtime/kernel-908104d2-907a-42c5-8ed4-0009b3cb9eb9.json']\n",
      "['/home/studio-lab-user/sagemaker-studiolab-notebooks/SageMaker/python', '/home/studio-lab-user/.conda/envs/default/lib/python39.zip', '/home/studio-lab-user/.conda/envs/default/lib/python3.9', '/home/studio-lab-user/.conda/envs/default/lib/python3.9/lib-dynload', '', '/home/studio-lab-user/.conda/envs/default/lib/python3.9/site-packages', '/home/studio-lab-user/.conda/envs/default/lib/python3.9/site-packages/IPython/extensions', '/home/studio-lab-user/.ipython']\n"
     ]
    }
   ],
   "source": [
    "from sys import argv,path\n",
    "print(argv)\n",
    "print(path)"
   ]
  },
  {
   "cell_type": "code",
   "execution_count": 83,
   "id": "bb426af3-fee2-4cbf-805b-a7a588cf890a",
   "metadata": {},
   "outputs": [
    {
     "data": {
      "text/plain": [
       "['__breakpointhook__',\n",
       " '__displayhook__',\n",
       " '__doc__',\n",
       " '__excepthook__',\n",
       " '__interactivehook__',\n",
       " '__loader__',\n",
       " '__name__',\n",
       " '__package__',\n",
       " '__spec__',\n",
       " '__stderr__',\n",
       " '__stdin__',\n",
       " '__stdout__',\n",
       " '__unraisablehook__',\n",
       " '_base_executable',\n",
       " '_clear_type_cache',\n",
       " '_current_frames',\n",
       " '_debugmallocstats',\n",
       " '_framework',\n",
       " '_getframe',\n",
       " '_git',\n",
       " '_home',\n",
       " '_xoptions',\n",
       " 'abiflags',\n",
       " 'addaudithook',\n",
       " 'api_version',\n",
       " 'argv',\n",
       " 'audit',\n",
       " 'base_exec_prefix',\n",
       " 'base_prefix',\n",
       " 'breakpointhook',\n",
       " 'builtin_module_names',\n",
       " 'byteorder',\n",
       " 'call_tracing',\n",
       " 'copyright',\n",
       " 'displayhook',\n",
       " 'dont_write_bytecode',\n",
       " 'exc_info',\n",
       " 'excepthook',\n",
       " 'exec_prefix',\n",
       " 'executable',\n",
       " 'exit',\n",
       " 'flags',\n",
       " 'float_info',\n",
       " 'float_repr_style',\n",
       " 'get_asyncgen_hooks',\n",
       " 'get_coroutine_origin_tracking_depth',\n",
       " 'getallocatedblocks',\n",
       " 'getdefaultencoding',\n",
       " 'getdlopenflags',\n",
       " 'getfilesystemencodeerrors',\n",
       " 'getfilesystemencoding',\n",
       " 'getprofile',\n",
       " 'getrecursionlimit',\n",
       " 'getrefcount',\n",
       " 'getsizeof',\n",
       " 'getswitchinterval',\n",
       " 'gettrace',\n",
       " 'hash_info',\n",
       " 'hexversion',\n",
       " 'implementation',\n",
       " 'int_info',\n",
       " 'intern',\n",
       " 'is_finalizing',\n",
       " 'last_traceback',\n",
       " 'last_type',\n",
       " 'last_value',\n",
       " 'maxsize',\n",
       " 'maxunicode',\n",
       " 'meta_path',\n",
       " 'modules',\n",
       " 'path',\n",
       " 'path_hooks',\n",
       " 'path_importer_cache',\n",
       " 'platform',\n",
       " 'platlibdir',\n",
       " 'prefix',\n",
       " 'ps1',\n",
       " 'ps2',\n",
       " 'ps3',\n",
       " 'pycache_prefix',\n",
       " 'set_asyncgen_hooks',\n",
       " 'set_coroutine_origin_tracking_depth',\n",
       " 'setdlopenflags',\n",
       " 'setprofile',\n",
       " 'setrecursionlimit',\n",
       " 'setswitchinterval',\n",
       " 'settrace',\n",
       " 'stderr',\n",
       " 'stdin',\n",
       " 'stdout',\n",
       " 'thread_info',\n",
       " 'unraisablehook',\n",
       " 'version',\n",
       " 'version_info',\n",
       " 'warnoptions']"
      ]
     },
     "execution_count": 83,
     "metadata": {},
     "output_type": "execute_result"
    }
   ],
   "source": [
    "dir(sys)"
   ]
  },
  {
   "cell_type": "code",
   "execution_count": 58,
   "id": "b7b72d79-ef3e-44bd-bcdb-a4107a264b83",
   "metadata": {},
   "outputs": [
    {
     "name": "stdout",
     "output_type": "stream",
     "text": [
      "usage: python [option] ... [-c cmd | -m mod | file | -] [arg] ...\n",
      "Options and arguments (and corresponding environment variables):\n",
      "-b     : issue warnings about str(bytes_instance), str(bytearray_instance)\n",
      "         and comparing bytes/bytearray with str. (-bb: issue errors)\n",
      "-B     : don't write .pyc files on import; also PYTHONDONTWRITEBYTECODE=x\n",
      "-c cmd : program passed in as string (terminates option list)\n",
      "-d     : turn on parser debugging output (for experts only, only works on\n",
      "         debug builds); also PYTHONDEBUG=x\n",
      "-E     : ignore PYTHON* environment variables (such as PYTHONPATH)\n",
      "-h     : print this help message and exit (also --help)\n",
      "-i     : inspect interactively after running script; forces a prompt even\n",
      "         if stdin does not appear to be a terminal; also PYTHONINSPECT=x\n",
      "-I     : isolate Python from the user's environment (implies -E and -s)\n",
      "-m mod : run library module as a script (terminates option list)\n",
      "-O     : remove assert and __debug__-dependent statements; add .opt-1 before\n",
      "         .pyc extension; also PYTHONOPTIMIZE=x\n",
      "-OO    : do -O changes and also discard docstrings; add .opt-2 before\n",
      "         .pyc extension\n",
      "-q     : don't print version and copyright messages on interactive startup\n",
      "-s     : don't add user site directory to sys.path; also PYTHONNOUSERSITE\n",
      "-S     : don't imply 'import site' on initialization\n",
      "-u     : force the stdout and stderr streams to be unbuffered;\n",
      "         this option has no effect on stdin; also PYTHONUNBUFFERED=x\n",
      "-v     : verbose (trace import statements); also PYTHONVERBOSE=x\n",
      "         can be supplied multiple times to increase verbosity\n",
      "-V     : print the Python version number and exit (also --version)\n",
      "         when given twice, print more information about the build\n",
      "-W arg : warning control; arg is action:message:category:module:lineno\n",
      "         also PYTHONWARNINGS=arg\n",
      "-x     : skip first line of source, allowing use of non-Unix forms of #!cmd\n",
      "-X opt : set implementation-specific option. The following options are available:\n",
      "\n",
      "         -X faulthandler: enable faulthandler\n",
      "         -X oldparser: enable the traditional LL(1) parser; also PYTHONOLDPARSER\n",
      "         -X showrefcount: output the total reference count and number of used\n",
      "             memory blocks when the program finishes or after each statement in the\n",
      "             interactive interpreter. This only works on debug builds\n",
      "         -X tracemalloc: start tracing Python memory allocations using the\n",
      "             tracemalloc module. By default, only the most recent frame is stored in a\n",
      "             traceback of a trace. Use -X tracemalloc=NFRAME to start tracing with a\n",
      "             traceback limit of NFRAME frames\n",
      "         -X importtime: show how long each import takes. It shows module name,\n",
      "             cumulative time (including nested imports) and self time (excluding\n",
      "             nested imports). Note that its output may be broken in multi-threaded\n",
      "             application. Typical usage is python3 -X importtime -c 'import asyncio'\n",
      "         -X dev: enable CPython's \"development mode\", introducing additional runtime\n",
      "             checks which are too expensive to be enabled by default. Effect of the\n",
      "             developer mode:\n",
      "                * Add default warning filter, as -W default\n",
      "                * Install debug hooks on memory allocators: see the PyMem_SetupDebugHooks() C function\n",
      "                * Enable the faulthandler module to dump the Python traceback on a crash\n",
      "                * Enable asyncio debug mode\n",
      "                * Set the dev_mode attribute of sys.flags to True\n",
      "                * io.IOBase destructor logs close() exceptions\n",
      "         -X utf8: enable UTF-8 mode for operating system interfaces, overriding the default\n",
      "             locale-aware mode. -X utf8=0 explicitly disables UTF-8 mode (even when it would\n",
      "             otherwise activate automatically)\n",
      "         -X pycache_prefix=PATH: enable writing .pyc files to a parallel tree rooted at the\n",
      "             given directory instead of to the code tree\n",
      "\n",
      "--check-hash-based-pycs always|default|never:\n",
      "    control how Python invalidates hash-based .pyc files\n",
      "file   : program read from script file\n",
      "-      : program read from stdin (default; interactive mode if a tty)\n",
      "arg ...: arguments passed to program in sys.argv[1:]\n",
      "\n",
      "Other environment variables:\n",
      "PYTHONSTARTUP: file executed on interactive startup (no default)\n",
      "PYTHONPATH   : ':'-separated list of directories prefixed to the\n",
      "               default module search path.  The result is sys.path.\n",
      "PYTHONHOME   : alternate <prefix> directory (or <prefix>:<exec_prefix>).\n",
      "               The default module search path uses <prefix>/lib/pythonX.X.\n",
      "PYTHONPLATLIBDIR : override sys.platlibdir.\n",
      "PYTHONCASEOK : ignore case in 'import' statements (Windows).\n",
      "PYTHONUTF8: if set to 1, enable the UTF-8 mode.\n",
      "PYTHONIOENCODING: Encoding[:errors] used for stdin/stdout/stderr.\n",
      "PYTHONFAULTHANDLER: dump the Python traceback on fatal errors.\n",
      "PYTHONHASHSEED: if this variable is set to 'random', a random value is used\n",
      "   to seed the hashes of str and bytes objects.  It can also be set to an\n",
      "   integer in the range [0,4294967295] to get hash values with a\n",
      "   predictable seed.\n",
      "PYTHONMALLOC: set the Python memory allocators and/or install debug hooks\n",
      "   on Python memory allocators. Use PYTHONMALLOC=debug to install debug\n",
      "   hooks.\n",
      "PYTHONCOERCECLOCALE: if this variable is set to 0, it disables the locale\n",
      "   coercion behavior. Use PYTHONCOERCECLOCALE=warn to request display of\n",
      "   locale coercion and locale compatibility warnings on stderr.\n",
      "PYTHONBREAKPOINT: if this variable is set to 0, it disables the default\n",
      "   debugger. It can be set to the callable of your debugger of choice.\n",
      "PYTHONDEVMODE: enable the development mode.\n",
      "PYTHONPYCACHEPREFIX: root directory for bytecode cache (pyc) files.\n"
     ]
    }
   ],
   "source": [
    "!python -h"
   ]
  },
  {
   "cell_type": "code",
   "execution_count": 81,
   "id": "19757eaa-a17a-4833-a4ae-9a60961a649a",
   "metadata": {},
   "outputs": [
    {
     "name": "stdout",
     "output_type": "stream",
     "text": [
      ">0\n"
     ]
    }
   ],
   "source": [
    "a = 1\n",
    "if a > 0:\n",
    "    print(\">0\")\n",
    "elif a < 0:\n",
    "    print(\"<0\")\n",
    "else:\n",
    "    print(\"=0\")"
   ]
  },
  {
   "cell_type": "code",
   "execution_count": 82,
   "id": "8592b001-e8a5-4b49-be4d-5a9c53ebe714",
   "metadata": {},
   "outputs": [
    {
     "name": "stdout",
     "output_type": "stream",
     "text": [
      "1\n",
      "2\n",
      "3\n",
      "4\n",
      "6\n",
      "7\n"
     ]
    }
   ],
   "source": [
    "while a < 10:\n",
    "    if a == 5:\n",
    "        a+=1\n",
    "        continue\n",
    "    if a == 8:\n",
    "        break\n",
    "    print(a)\n",
    "    a+=1\n",
    "else:\n",
    "    print(\"end\")"
   ]
  },
  {
   "cell_type": "code",
   "execution_count": 77,
   "id": "45a765ba-6346-403d-8120-c6c81faafc51",
   "metadata": {},
   "outputs": [
    {
     "name": "stdout",
     "output_type": "stream",
     "text": [
      "0\n",
      "1\n",
      "2\n",
      "3\n",
      "4\n",
      "5\n",
      "6\n",
      "7\n",
      "8\n",
      "9\n",
      "end\n"
     ]
    }
   ],
   "source": [
    "for i in range(10):\n",
    "    print(i)\n",
    "else:\n",
    "    print(\"end\")"
   ]
  },
  {
   "cell_type": "code",
   "execution_count": null,
   "id": "324b7644-7b7b-4d8e-8ef6-cc6cf53ac1bc",
   "metadata": {},
   "outputs": [],
   "source": []
  }
 ],
 "metadata": {
  "kernelspec": {
   "display_name": "default:Python",
   "language": "python",
   "name": "conda-env-default-py"
  },
  "language_info": {
   "codemirror_mode": {
    "name": "ipython",
    "version": 3
   },
   "file_extension": ".py",
   "mimetype": "text/x-python",
   "name": "python",
   "nbconvert_exporter": "python",
   "pygments_lexer": "ipython3",
   "version": "3.9.7"
  }
 },
 "nbformat": 4,
 "nbformat_minor": 5
}
