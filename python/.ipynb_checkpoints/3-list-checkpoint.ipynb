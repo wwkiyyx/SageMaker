{
 "cells": [
  {
   "cell_type": "code",
   "execution_count": 30,
   "id": "5f8888b6-a19a-47c7-907c-fc606787c550",
   "metadata": {},
   "outputs": [
    {
     "data": {
      "text/plain": [
       "['red', 'green', 'blue', 'yellow', 'white', 'black']"
      ]
     },
     "execution_count": 30,
     "metadata": {},
     "output_type": "execute_result"
    }
   ],
   "source": [
    "list4 = ['red', 'green', 'blue', 'yellow', 'white', 'black']\n",
    "list4"
   ]
  },
  {
   "cell_type": "code",
   "execution_count": 2,
   "id": "4e0c19cc-f413-4a61-b7d8-683204dea608",
   "metadata": {},
   "outputs": [
    {
     "name": "stdout",
     "output_type": "stream",
     "text": [
      "yellow\n"
     ]
    }
   ],
   "source": [
    "print(list4[3])"
   ]
  },
  {
   "cell_type": "code",
   "execution_count": 3,
   "id": "44fa1731-ff40-4610-b943-48c01b9912ff",
   "metadata": {},
   "outputs": [
    {
     "name": "stdout",
     "output_type": "stream",
     "text": [
      "yellow\n"
     ]
    }
   ],
   "source": [
    "print(list4[-3])"
   ]
  },
  {
   "cell_type": "code",
   "execution_count": 4,
   "id": "88e46ba8-2538-42be-ae5d-a69e976f7458",
   "metadata": {},
   "outputs": [
    {
     "name": "stdout",
     "output_type": "stream",
     "text": [
      "['green', 'blue', 'yellow']\n"
     ]
    }
   ],
   "source": [
    "print(list4[1:4])"
   ]
  },
  {
   "cell_type": "code",
   "execution_count": 5,
   "id": "e30ed306-f5d2-44b4-b851-f7f3c72e32b2",
   "metadata": {},
   "outputs": [
    {
     "name": "stdout",
     "output_type": "stream",
     "text": [
      "['green', 'blue', 'yellow']\n"
     ]
    }
   ],
   "source": [
    "print(list4[1:-2])"
   ]
  },
  {
   "cell_type": "code",
   "execution_count": 7,
   "id": "8790b906-7253-4afd-b303-613a0b3ec3ff",
   "metadata": {},
   "outputs": [
    {
     "data": {
      "text/plain": [
       "'YELLOW'"
      ]
     },
     "execution_count": 7,
     "metadata": {},
     "output_type": "execute_result"
    }
   ],
   "source": [
    "list4[3] = \"YELLOW\"\n",
    "list4[3]"
   ]
  },
  {
   "cell_type": "code",
   "execution_count": 8,
   "id": "c6c0a0b0-cf64-472d-ba50-bc15148bdf1e",
   "metadata": {},
   "outputs": [
    {
     "data": {
      "text/plain": [
       "['red', 'green', 'blue', 'YELLOW', 'white', 'black', 'pink']"
      ]
     },
     "execution_count": 8,
     "metadata": {},
     "output_type": "execute_result"
    }
   ],
   "source": [
    "list4.append(\"pink\")\n",
    "list4"
   ]
  },
  {
   "cell_type": "code",
   "execution_count": 9,
   "id": "d55f18a7-e39c-4250-ab89-cef48571b526",
   "metadata": {},
   "outputs": [
    {
     "data": {
      "text/plain": [
       "['red', 'green', 'blue', 'white', 'black', 'pink']"
      ]
     },
     "execution_count": 9,
     "metadata": {},
     "output_type": "execute_result"
    }
   ],
   "source": [
    "del list4[3]\n",
    "list4"
   ]
  },
  {
   "cell_type": "code",
   "execution_count": 10,
   "id": "142a852b-8de8-4233-9a9e-c8013b5cc6d2",
   "metadata": {},
   "outputs": [
    {
     "data": {
      "text/plain": [
       "6"
      ]
     },
     "execution_count": 10,
     "metadata": {},
     "output_type": "execute_result"
    }
   ],
   "source": [
    "len(list4)"
   ]
  },
  {
   "cell_type": "code",
   "execution_count": 11,
   "id": "4c30203c-3ea3-4506-a549-d38e86be94af",
   "metadata": {},
   "outputs": [
    {
     "data": {
      "text/plain": [
       "['red',\n",
       " 'green',\n",
       " 'blue',\n",
       " 'white',\n",
       " 'black',\n",
       " 'pink',\n",
       " 'red',\n",
       " 'green',\n",
       " 'blue',\n",
       " 'white',\n",
       " 'black',\n",
       " 'pink']"
      ]
     },
     "execution_count": 11,
     "metadata": {},
     "output_type": "execute_result"
    }
   ],
   "source": [
    "list4 + list4"
   ]
  },
  {
   "cell_type": "code",
   "execution_count": 12,
   "id": "af209f5f-358c-4f43-8cbb-bb3421985933",
   "metadata": {},
   "outputs": [
    {
     "data": {
      "text/plain": [
       "['red',\n",
       " 'green',\n",
       " 'blue',\n",
       " 'white',\n",
       " 'black',\n",
       " 'pink',\n",
       " 'red',\n",
       " 'green',\n",
       " 'blue',\n",
       " 'white',\n",
       " 'black',\n",
       " 'pink']"
      ]
     },
     "execution_count": 12,
     "metadata": {},
     "output_type": "execute_result"
    }
   ],
   "source": [
    "list4 * 2"
   ]
  },
  {
   "cell_type": "code",
   "execution_count": 13,
   "id": "58dabb84-e014-441e-bf23-57791a59a107",
   "metadata": {},
   "outputs": [
    {
     "data": {
      "text/plain": [
       "True"
      ]
     },
     "execution_count": 13,
     "metadata": {},
     "output_type": "execute_result"
    }
   ],
   "source": [
    "'red' in list4"
   ]
  },
  {
   "cell_type": "code",
   "execution_count": 14,
   "id": "bb25b3da-64da-4480-b4e2-0d026c68ae9c",
   "metadata": {},
   "outputs": [
    {
     "name": "stdout",
     "output_type": "stream",
     "text": [
      "red\n",
      "green\n",
      "blue\n",
      "white\n",
      "black\n",
      "pink\n"
     ]
    }
   ],
   "source": [
    "for x in list4:\n",
    "    print(x)"
   ]
  },
  {
   "cell_type": "code",
   "execution_count": 15,
   "id": "cf3df367-bcef-4818-9eec-cd2e1b784a2a",
   "metadata": {},
   "outputs": [
    {
     "data": {
      "text/plain": [
       "[['red', 'green', 'blue', 'white', 'black', 'pink'],\n",
       " ['red', 'green', 'blue', 'white', 'black', 'pink'],\n",
       " ['red', 'green', 'blue', 'white', 'black', 'pink']]"
      ]
     },
     "execution_count": 15,
     "metadata": {},
     "output_type": "execute_result"
    }
   ],
   "source": [
    "l = [list4, list4, list4]\n",
    "l"
   ]
  },
  {
   "cell_type": "code",
   "execution_count": 16,
   "id": "10a45736-061e-44b3-93f5-f28ddb560117",
   "metadata": {},
   "outputs": [
    {
     "data": {
      "text/plain": [
       "'white'"
      ]
     },
     "execution_count": 16,
     "metadata": {},
     "output_type": "execute_result"
    }
   ],
   "source": [
    "l[1][3]"
   ]
  },
  {
   "cell_type": "code",
   "execution_count": 17,
   "id": "e8db65de-f527-4914-adc1-e201dd9c5a42",
   "metadata": {},
   "outputs": [
    {
     "data": {
      "text/plain": [
       "['red', 'green', 'blue', 'white', 'black', 'pink']"
      ]
     },
     "execution_count": 17,
     "metadata": {},
     "output_type": "execute_result"
    }
   ],
   "source": [
    "l[1]"
   ]
  },
  {
   "cell_type": "code",
   "execution_count": 18,
   "id": "2aca1942-a616-402c-908a-d50cac56b366",
   "metadata": {},
   "outputs": [
    {
     "data": {
      "text/plain": [
       "True"
      ]
     },
     "execution_count": 18,
     "metadata": {},
     "output_type": "execute_result"
    }
   ],
   "source": [
    "import operator\n",
    "operator.eq(l[1],l[2])"
   ]
  },
  {
   "cell_type": "code",
   "execution_count": 19,
   "id": "c9ccbd06-d154-4a68-ba02-bceb278e1cb8",
   "metadata": {},
   "outputs": [
    {
     "data": {
      "text/plain": [
       "6"
      ]
     },
     "execution_count": 19,
     "metadata": {},
     "output_type": "execute_result"
    }
   ],
   "source": [
    "len(list4)"
   ]
  },
  {
   "cell_type": "code",
   "execution_count": 20,
   "id": "6913c7e4-afc2-42f7-b5c3-f97894911049",
   "metadata": {},
   "outputs": [
    {
     "data": {
      "text/plain": [
       "[1, 2, 3]"
      ]
     },
     "execution_count": 20,
     "metadata": {},
     "output_type": "execute_result"
    }
   ],
   "source": [
    "list((1,2,3))"
   ]
  },
  {
   "cell_type": "code",
   "execution_count": 21,
   "id": "48fb9527-b49e-4a1d-9ac1-7c73c7c157c9",
   "metadata": {},
   "outputs": [
    {
     "data": {
      "text/plain": [
       "'white'"
      ]
     },
     "execution_count": 21,
     "metadata": {},
     "output_type": "execute_result"
    }
   ],
   "source": [
    "max(list4)"
   ]
  },
  {
   "cell_type": "code",
   "execution_count": 22,
   "id": "3794c6ac-b040-4896-8741-a22bba17efbb",
   "metadata": {},
   "outputs": [
    {
     "data": {
      "text/plain": [
       "'black'"
      ]
     },
     "execution_count": 22,
     "metadata": {},
     "output_type": "execute_result"
    }
   ],
   "source": [
    "min(list4)"
   ]
  },
  {
   "cell_type": "code",
   "execution_count": 26,
   "id": "1fd52844-1d37-4af1-b98a-6bd339d8d586",
   "metadata": {},
   "outputs": [
    {
     "data": {
      "text/plain": [
       "['red', 'green', 'blue', 'yellow', 'white', 'black', 'red']"
      ]
     },
     "execution_count": 26,
     "metadata": {},
     "output_type": "execute_result"
    }
   ],
   "source": [
    "list4.append('red')\n",
    "list4"
   ]
  },
  {
   "cell_type": "code",
   "execution_count": 27,
   "id": "0be0f559-8c9c-4926-bb6f-1daa48025afd",
   "metadata": {},
   "outputs": [
    {
     "data": {
      "text/plain": [
       "2"
      ]
     },
     "execution_count": 27,
     "metadata": {},
     "output_type": "execute_result"
    }
   ],
   "source": [
    "list4.count('red')"
   ]
  },
  {
   "cell_type": "code",
   "execution_count": 31,
   "id": "a85a0bd7-2590-4e60-983c-ceda61e95b42",
   "metadata": {},
   "outputs": [
    {
     "data": {
      "text/plain": [
       "['red',\n",
       " 'green',\n",
       " 'blue',\n",
       " 'yellow',\n",
       " 'white',\n",
       " 'black',\n",
       " 'red',\n",
       " 'green',\n",
       " 'blue',\n",
       " 'yellow',\n",
       " 'white',\n",
       " 'black']"
      ]
     },
     "execution_count": 31,
     "metadata": {},
     "output_type": "execute_result"
    }
   ],
   "source": [
    "list4.extend(list4)\n",
    "list4"
   ]
  },
  {
   "cell_type": "code",
   "execution_count": 32,
   "id": "2c235540-2dd0-4698-8723-0195f621cdc0",
   "metadata": {},
   "outputs": [
    {
     "data": {
      "text/plain": [
       "2"
      ]
     },
     "execution_count": 32,
     "metadata": {},
     "output_type": "execute_result"
    }
   ],
   "source": [
    "list4.index('blue')"
   ]
  },
  {
   "cell_type": "code",
   "execution_count": 33,
   "id": "c1ede21f-0638-4bfd-9836-163050de01f1",
   "metadata": {},
   "outputs": [
    {
     "data": {
      "text/plain": [
       "['red',\n",
       " 'green',\n",
       " 'pink',\n",
       " 'blue',\n",
       " 'yellow',\n",
       " 'white',\n",
       " 'black',\n",
       " 'red',\n",
       " 'green',\n",
       " 'blue',\n",
       " 'yellow',\n",
       " 'white',\n",
       " 'black']"
      ]
     },
     "execution_count": 33,
     "metadata": {},
     "output_type": "execute_result"
    }
   ],
   "source": [
    "list4.insert(2,\"pink\")\n",
    "list4"
   ]
  },
  {
   "cell_type": "code",
   "execution_count": 34,
   "id": "fdab5e29-3882-4a32-8746-10a4ecc3d341",
   "metadata": {},
   "outputs": [
    {
     "data": {
      "text/plain": [
       "'black'"
      ]
     },
     "execution_count": 34,
     "metadata": {},
     "output_type": "execute_result"
    }
   ],
   "source": [
    "list4.pop()"
   ]
  },
  {
   "cell_type": "code",
   "execution_count": 35,
   "id": "0f378308-630b-4e2f-a5b0-daedb32053de",
   "metadata": {},
   "outputs": [
    {
     "data": {
      "text/plain": [
       "'pink'"
      ]
     },
     "execution_count": 35,
     "metadata": {},
     "output_type": "execute_result"
    }
   ],
   "source": [
    "list4.pop(2)"
   ]
  },
  {
   "cell_type": "code",
   "execution_count": 36,
   "id": "2da03d31-7240-44ef-a860-9c2a0d2f8e1b",
   "metadata": {},
   "outputs": [
    {
     "data": {
      "text/plain": [
       "['red',\n",
       " 'green',\n",
       " 'blue',\n",
       " 'yellow',\n",
       " 'white',\n",
       " 'black',\n",
       " 'red',\n",
       " 'green',\n",
       " 'blue',\n",
       " 'yellow',\n",
       " 'white']"
      ]
     },
     "execution_count": 36,
     "metadata": {},
     "output_type": "execute_result"
    }
   ],
   "source": [
    "list4"
   ]
  },
  {
   "cell_type": "code",
   "execution_count": 37,
   "id": "1a6e6487-4958-4607-aa91-91e6c9a9f1f5",
   "metadata": {},
   "outputs": [
    {
     "data": {
      "text/plain": [
       "['red',\n",
       " 'green',\n",
       " 'blue',\n",
       " 'yellow',\n",
       " 'black',\n",
       " 'red',\n",
       " 'green',\n",
       " 'blue',\n",
       " 'yellow',\n",
       " 'white']"
      ]
     },
     "execution_count": 37,
     "metadata": {},
     "output_type": "execute_result"
    }
   ],
   "source": [
    "list4.remove('white')\n",
    "list4"
   ]
  },
  {
   "cell_type": "code",
   "execution_count": 38,
   "id": "689a02d7-3b38-46b7-94f1-0bb64e67c7fc",
   "metadata": {},
   "outputs": [
    {
     "data": {
      "text/plain": [
       "['white',\n",
       " 'yellow',\n",
       " 'blue',\n",
       " 'green',\n",
       " 'red',\n",
       " 'black',\n",
       " 'yellow',\n",
       " 'blue',\n",
       " 'green',\n",
       " 'red']"
      ]
     },
     "execution_count": 38,
     "metadata": {},
     "output_type": "execute_result"
    }
   ],
   "source": [
    "list4.reverse()\n",
    "list4"
   ]
  },
  {
   "cell_type": "code",
   "execution_count": 39,
   "id": "9b1797cf-7e24-4713-b776-a1a1eb4cedaf",
   "metadata": {},
   "outputs": [
    {
     "data": {
      "text/plain": [
       "['black',\n",
       " 'blue',\n",
       " 'blue',\n",
       " 'green',\n",
       " 'green',\n",
       " 'red',\n",
       " 'red',\n",
       " 'white',\n",
       " 'yellow',\n",
       " 'yellow']"
      ]
     },
     "execution_count": 39,
     "metadata": {},
     "output_type": "execute_result"
    }
   ],
   "source": [
    "list4.sort()\n",
    "list4"
   ]
  },
  {
   "cell_type": "code",
   "execution_count": 40,
   "id": "3fdf09bd-0f76-459a-b41a-c1ea8f871154",
   "metadata": {},
   "outputs": [
    {
     "data": {
      "text/plain": [
       "['black',\n",
       " 'blue',\n",
       " 'blue',\n",
       " 'green',\n",
       " 'green',\n",
       " 'red',\n",
       " 'red',\n",
       " 'white',\n",
       " 'yellow',\n",
       " 'yellow']"
      ]
     },
     "execution_count": 40,
     "metadata": {},
     "output_type": "execute_result"
    }
   ],
   "source": [
    "l = list4.copy()\n",
    "l"
   ]
  },
  {
   "cell_type": "code",
   "execution_count": 41,
   "id": "194d1636-9dde-440c-8ec7-2dcc6083eb8d",
   "metadata": {},
   "outputs": [
    {
     "data": {
      "text/plain": [
       "[]"
      ]
     },
     "execution_count": 41,
     "metadata": {},
     "output_type": "execute_result"
    }
   ],
   "source": [
    "l.clear()\n",
    "l"
   ]
  },
  {
   "cell_type": "code",
   "execution_count": 43,
   "id": "7d65d40b-28de-4061-b2b0-69dea0637b22",
   "metadata": {},
   "outputs": [
    {
     "data": {
      "text/plain": [
       "'black'"
      ]
     },
     "execution_count": 43,
     "metadata": {},
     "output_type": "execute_result"
    }
   ],
   "source": [
    "it = iter(list4)\n",
    "next(it)"
   ]
  },
  {
   "cell_type": "code",
   "execution_count": 44,
   "id": "3afbfd2d-e5c5-4003-aa55-c32cc0efc370",
   "metadata": {},
   "outputs": [
    {
     "data": {
      "text/plain": [
       "'blue'"
      ]
     },
     "execution_count": 44,
     "metadata": {},
     "output_type": "execute_result"
    }
   ],
   "source": [
    "next(it)"
   ]
  },
  {
   "cell_type": "code",
   "execution_count": 45,
   "id": "ec8a2bf5-f0aa-4660-a764-ea2e8d0c5cbf",
   "metadata": {},
   "outputs": [
    {
     "name": "stdout",
     "output_type": "stream",
     "text": [
      "blue\n",
      "green\n",
      "green\n",
      "red\n",
      "red\n",
      "white\n",
      "yellow\n",
      "yellow\n"
     ]
    }
   ],
   "source": [
    "for i in it:\n",
    "    print(i)"
   ]
  },
  {
   "cell_type": "code",
   "execution_count": null,
   "id": "d72bf217-857c-4a32-a27a-20fa4a876bc9",
   "metadata": {},
   "outputs": [],
   "source": []
  }
 ],
 "metadata": {
  "kernelspec": {
   "display_name": "default:Python",
   "language": "python",
   "name": "conda-env-default-py"
  },
  "language_info": {
   "codemirror_mode": {
    "name": "ipython",
    "version": 3
   },
   "file_extension": ".py",
   "mimetype": "text/x-python",
   "name": "python",
   "nbconvert_exporter": "python",
   "pygments_lexer": "ipython3",
   "version": "3.9.7"
  }
 },
 "nbformat": 4,
 "nbformat_minor": 5
}
