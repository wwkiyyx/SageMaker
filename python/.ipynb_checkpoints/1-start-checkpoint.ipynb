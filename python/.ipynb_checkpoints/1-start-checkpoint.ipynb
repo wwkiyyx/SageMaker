{
 "cells": [
  {
   "cell_type": "code",
   "execution_count": 1,
   "id": "2ee9a080-7ade-4e1a-b7c4-d29aa3e8bc1b",
   "metadata": {},
   "outputs": [
    {
     "name": "stdout",
     "output_type": "stream",
     "text": [
      "Python 3.9.7\n"
     ]
    }
   ],
   "source": [
    "!python -V"
   ]
  },
  {
   "cell_type": "code",
   "execution_count": 2,
   "id": "74955ba5-bacd-4be1-a9ac-7dd7b5e011f1",
   "metadata": {},
   "outputs": [
    {
     "name": "stdout",
     "output_type": "stream",
     "text": [
      "Python 3.9.7\n"
     ]
    }
   ],
   "source": [
    "!python --version"
   ]
  },
  {
   "cell_type": "code",
   "execution_count": 3,
   "id": "81220320-ff1e-411a-a0b0-c3d8c4b2afe8",
   "metadata": {},
   "outputs": [
    {
     "name": "stdout",
     "output_type": "stream",
     "text": [
      "Hello, World!\n"
     ]
    }
   ],
   "source": [
    "print(\"Hello, World!\")"
   ]
  },
  {
   "cell_type": "code",
   "execution_count": 5,
   "id": "7f54d7d0-890f-4f56-ac8a-4ab268fc9bbd",
   "metadata": {},
   "outputs": [],
   "source": [
    "# 注释"
   ]
  },
  {
   "cell_type": "code",
   "execution_count": 7,
   "id": "cb62de51-78b5-40b6-8e04-ad95425236ca",
   "metadata": {},
   "outputs": [
    {
     "data": {
      "text/plain": [
       "'Hello, World!'"
      ]
     },
     "execution_count": 7,
     "metadata": {},
     "output_type": "execute_result"
    }
   ],
   "source": [
    "hello = \"Hello, World!\"\n",
    "hello"
   ]
  },
  {
   "cell_type": "code",
   "execution_count": 8,
   "id": "46d6c512-f228-44d1-8d2a-b47ae2cbfcaa",
   "metadata": {},
   "outputs": [
    {
     "data": {
      "text/plain": [
       "'Hello, World!'"
      ]
     },
     "execution_count": 8,
     "metadata": {},
     "output_type": "execute_result"
    }
   ],
   "source": [
    "hello = 'Hello, World!'\n",
    "hello"
   ]
  },
  {
   "cell_type": "code",
   "execution_count": 9,
   "id": "0f9d9cc3-43b6-4758-848c-41519427ee2f",
   "metadata": {},
   "outputs": [
    {
     "name": "stdout",
     "output_type": "stream",
     "text": [
      "Hello, World!\n"
     ]
    }
   ],
   "source": [
    "print(hello)"
   ]
  },
  {
   "cell_type": "code",
   "execution_count": 10,
   "id": "7bafd782-bd54-4de8-aca5-c22d756cede7",
   "metadata": {},
   "outputs": [
    {
     "name": "stdout",
     "output_type": "stream",
     "text": [
      "Hello\n"
     ]
    }
   ],
   "source": [
    "print(hello[0:5])"
   ]
  },
  {
   "cell_type": "code",
   "execution_count": 11,
   "id": "cce4cbd0-abb5-4260-8128-ae02e1e76e86",
   "metadata": {},
   "outputs": [
    {
     "name": "stdout",
     "output_type": "stream",
     "text": [
      "Hello, World\n"
     ]
    }
   ],
   "source": [
    "print(hello[0:-1])"
   ]
  },
  {
   "cell_type": "code",
   "execution_count": 12,
   "id": "84464a80-0502-4c47-b1d6-1f672b07d872",
   "metadata": {},
   "outputs": [
    {
     "name": "stdout",
     "output_type": "stream",
     "text": [
      "World\n"
     ]
    }
   ],
   "source": [
    "print(hello[7:12])"
   ]
  },
  {
   "cell_type": "code",
   "execution_count": 13,
   "id": "b5ecc20d-9f6b-4add-b370-42ab9e3a9824",
   "metadata": {},
   "outputs": [
    {
     "name": "stdout",
     "output_type": "stream",
     "text": [
      "World!\n"
     ]
    }
   ],
   "source": [
    "print(hello[7:])"
   ]
  },
  {
   "cell_type": "code",
   "execution_count": 14,
   "id": "4a1e4e48-bdec-4b30-a901-6b9b6b009b0a",
   "metadata": {},
   "outputs": [
    {
     "name": "stdout",
     "output_type": "stream",
     "text": [
      "el,Wr\n"
     ]
    }
   ],
   "source": [
    "print(hello[1:10:2])"
   ]
  },
  {
   "cell_type": "code",
   "execution_count": 15,
   "id": "ce9700c2-a487-4504-a559-7b2038f5f349",
   "metadata": {},
   "outputs": [
    {
     "name": "stdout",
     "output_type": "stream",
     "text": [
      "Hello, World! wwk\n"
     ]
    }
   ],
   "source": [
    "print(hello+\" wwk\")"
   ]
  },
  {
   "cell_type": "code",
   "execution_count": 16,
   "id": "074f2bd2-a8c6-456f-98b4-d7ab4fb36b1c",
   "metadata": {},
   "outputs": [
    {
     "name": "stdout",
     "output_type": "stream",
     "text": [
      "Hello, World!Hello, World!Hello, World!\n"
     ]
    }
   ],
   "source": [
    "print(hello*3)"
   ]
  },
  {
   "cell_type": "code",
   "execution_count": 17,
   "id": "5ffa2fe1-6968-4853-a391-c459d430a833",
   "metadata": {},
   "outputs": [
    {
     "name": "stdout",
     "output_type": "stream",
     "text": [
      "1\n",
      "2\n"
     ]
    }
   ],
   "source": [
    "print(\"1\\n2\")"
   ]
  },
  {
   "cell_type": "code",
   "execution_count": 18,
   "id": "caa2ab2c-bcb3-460e-98a3-9943dfb1bdba",
   "metadata": {},
   "outputs": [
    {
     "name": "stdout",
     "output_type": "stream",
     "text": [
      "1\\n2\n"
     ]
    }
   ],
   "source": [
    "print(r\"1\\n2\")"
   ]
  },
  {
   "cell_type": "code",
   "execution_count": 21,
   "id": "ff337363-0ae8-4540-8ba9-d96af2e43910",
   "metadata": {},
   "outputs": [
    {
     "name": "stdin",
     "output_type": "stream",
     "text": [
      "输入 1\n"
     ]
    }
   ],
   "source": [
    "a = input(\"输入\")"
   ]
  },
  {
   "cell_type": "code",
   "execution_count": 22,
   "id": "830d6378-535f-486f-a1f8-33d9ffd8f145",
   "metadata": {},
   "outputs": [
    {
     "data": {
      "text/plain": [
       "'1'"
      ]
     },
     "execution_count": 22,
     "metadata": {},
     "output_type": "execute_result"
    }
   ],
   "source": [
    "a"
   ]
  },
  {
   "cell_type": "code",
   "execution_count": 24,
   "id": "dc616cd4-a7aa-4061-81fd-227b91868a31",
   "metadata": {},
   "outputs": [
    {
     "name": "stdout",
     "output_type": "stream",
     "text": [
      "a b c "
     ]
    }
   ],
   "source": [
    "print('a', end=' '); print('b', end=' '); print('c', end=' ')"
   ]
  },
  {
   "cell_type": "code",
   "execution_count": 25,
   "id": "fcdb4da0-cb36-4596-b28c-2bd14c0a34e0",
   "metadata": {},
   "outputs": [
    {
     "name": "stdout",
     "output_type": "stream",
     "text": [
      "['/home/studio-lab-user/.conda/envs/default/lib/python3.9/site-packages/ipykernel_launcher.py', '-f', '/home/studio-lab-user/.local/share/jupyter/runtime/kernel-581566ed-3c61-4998-bb2d-eec99e792351.json']\n",
      "['/home/studio-lab-user/sagemaker-studiolab-notebooks/SageMaker/python', '/home/studio-lab-user/.conda/envs/default/lib/python39.zip', '/home/studio-lab-user/.conda/envs/default/lib/python3.9', '/home/studio-lab-user/.conda/envs/default/lib/python3.9/lib-dynload', '', '/home/studio-lab-user/.conda/envs/default/lib/python3.9/site-packages', '/home/studio-lab-user/.conda/envs/default/lib/python3.9/site-packages/IPython/extensions', '/home/studio-lab-user/.ipython']\n"
     ]
    }
   ],
   "source": [
    "import sys\n",
    "print(sys.argv)\n",
    "print(sys.path)"
   ]
  },
  {
   "cell_type": "code",
   "execution_count": 26,
   "id": "4a1315c0-ba8b-457b-b410-97a60b81d551",
   "metadata": {},
   "outputs": [
    {
     "name": "stdout",
     "output_type": "stream",
     "text": [
      "['/home/studio-lab-user/.conda/envs/default/lib/python3.9/site-packages/ipykernel_launcher.py', '-f', '/home/studio-lab-user/.local/share/jupyter/runtime/kernel-581566ed-3c61-4998-bb2d-eec99e792351.json']\n",
      "['/home/studio-lab-user/sagemaker-studiolab-notebooks/SageMaker/python', '/home/studio-lab-user/.conda/envs/default/lib/python39.zip', '/home/studio-lab-user/.conda/envs/default/lib/python3.9', '/home/studio-lab-user/.conda/envs/default/lib/python3.9/lib-dynload', '', '/home/studio-lab-user/.conda/envs/default/lib/python3.9/site-packages', '/home/studio-lab-user/.conda/envs/default/lib/python3.9/site-packages/IPython/extensions', '/home/studio-lab-user/.ipython']\n"
     ]
    }
   ],
   "source": [
    "from sys import argv,path\n",
    "print(argv)\n",
    "print(path)"
   ]
  },
  {
   "cell_type": "code",
   "execution_count": 27,
   "id": "b7b72d79-ef3e-44bd-bcdb-a4107a264b83",
   "metadata": {},
   "outputs": [
    {
     "name": "stdout",
     "output_type": "stream",
     "text": [
      "usage: python [option] ... [-c cmd | -m mod | file | -] [arg] ...\n",
      "Options and arguments (and corresponding environment variables):\n",
      "-b     : issue warnings about str(bytes_instance), str(bytearray_instance)\n",
      "         and comparing bytes/bytearray with str. (-bb: issue errors)\n",
      "-B     : don't write .pyc files on import; also PYTHONDONTWRITEBYTECODE=x\n",
      "-c cmd : program passed in as string (terminates option list)\n",
      "-d     : turn on parser debugging output (for experts only, only works on\n",
      "         debug builds); also PYTHONDEBUG=x\n",
      "-E     : ignore PYTHON* environment variables (such as PYTHONPATH)\n",
      "-h     : print this help message and exit (also --help)\n",
      "-i     : inspect interactively after running script; forces a prompt even\n",
      "         if stdin does not appear to be a terminal; also PYTHONINSPECT=x\n",
      "-I     : isolate Python from the user's environment (implies -E and -s)\n",
      "-m mod : run library module as a script (terminates option list)\n",
      "-O     : remove assert and __debug__-dependent statements; add .opt-1 before\n",
      "         .pyc extension; also PYTHONOPTIMIZE=x\n",
      "-OO    : do -O changes and also discard docstrings; add .opt-2 before\n",
      "         .pyc extension\n",
      "-q     : don't print version and copyright messages on interactive startup\n",
      "-s     : don't add user site directory to sys.path; also PYTHONNOUSERSITE\n",
      "-S     : don't imply 'import site' on initialization\n",
      "-u     : force the stdout and stderr streams to be unbuffered;\n",
      "         this option has no effect on stdin; also PYTHONUNBUFFERED=x\n",
      "-v     : verbose (trace import statements); also PYTHONVERBOSE=x\n",
      "         can be supplied multiple times to increase verbosity\n",
      "-V     : print the Python version number and exit (also --version)\n",
      "         when given twice, print more information about the build\n",
      "-W arg : warning control; arg is action:message:category:module:lineno\n",
      "         also PYTHONWARNINGS=arg\n",
      "-x     : skip first line of source, allowing use of non-Unix forms of #!cmd\n",
      "-X opt : set implementation-specific option. The following options are available:\n",
      "\n",
      "         -X faulthandler: enable faulthandler\n",
      "         -X oldparser: enable the traditional LL(1) parser; also PYTHONOLDPARSER\n",
      "         -X showrefcount: output the total reference count and number of used\n",
      "             memory blocks when the program finishes or after each statement in the\n",
      "             interactive interpreter. This only works on debug builds\n",
      "         -X tracemalloc: start tracing Python memory allocations using the\n",
      "             tracemalloc module. By default, only the most recent frame is stored in a\n",
      "             traceback of a trace. Use -X tracemalloc=NFRAME to start tracing with a\n",
      "             traceback limit of NFRAME frames\n",
      "         -X importtime: show how long each import takes. It shows module name,\n",
      "             cumulative time (including nested imports) and self time (excluding\n",
      "             nested imports). Note that its output may be broken in multi-threaded\n",
      "             application. Typical usage is python3 -X importtime -c 'import asyncio'\n",
      "         -X dev: enable CPython's \"development mode\", introducing additional runtime\n",
      "             checks which are too expensive to be enabled by default. Effect of the\n",
      "             developer mode:\n",
      "                * Add default warning filter, as -W default\n",
      "                * Install debug hooks on memory allocators: see the PyMem_SetupDebugHooks() C function\n",
      "                * Enable the faulthandler module to dump the Python traceback on a crash\n",
      "                * Enable asyncio debug mode\n",
      "                * Set the dev_mode attribute of sys.flags to True\n",
      "                * io.IOBase destructor logs close() exceptions\n",
      "         -X utf8: enable UTF-8 mode for operating system interfaces, overriding the default\n",
      "             locale-aware mode. -X utf8=0 explicitly disables UTF-8 mode (even when it would\n",
      "             otherwise activate automatically)\n",
      "         -X pycache_prefix=PATH: enable writing .pyc files to a parallel tree rooted at the\n",
      "             given directory instead of to the code tree\n",
      "\n",
      "--check-hash-based-pycs always|default|never:\n",
      "    control how Python invalidates hash-based .pyc files\n",
      "file   : program read from script file\n",
      "-      : program read from stdin (default; interactive mode if a tty)\n",
      "arg ...: arguments passed to program in sys.argv[1:]\n",
      "\n",
      "Other environment variables:\n",
      "PYTHONSTARTUP: file executed on interactive startup (no default)\n",
      "PYTHONPATH   : ':'-separated list of directories prefixed to the\n",
      "               default module search path.  The result is sys.path.\n",
      "PYTHONHOME   : alternate <prefix> directory (or <prefix>:<exec_prefix>).\n",
      "               The default module search path uses <prefix>/lib/pythonX.X.\n",
      "PYTHONPLATLIBDIR : override sys.platlibdir.\n",
      "PYTHONCASEOK : ignore case in 'import' statements (Windows).\n",
      "PYTHONUTF8: if set to 1, enable the UTF-8 mode.\n",
      "PYTHONIOENCODING: Encoding[:errors] used for stdin/stdout/stderr.\n",
      "PYTHONFAULTHANDLER: dump the Python traceback on fatal errors.\n",
      "PYTHONHASHSEED: if this variable is set to 'random', a random value is used\n",
      "   to seed the hashes of str and bytes objects.  It can also be set to an\n",
      "   integer in the range [0,4294967295] to get hash values with a\n",
      "   predictable seed.\n",
      "PYTHONMALLOC: set the Python memory allocators and/or install debug hooks\n",
      "   on Python memory allocators. Use PYTHONMALLOC=debug to install debug\n",
      "   hooks.\n",
      "PYTHONCOERCECLOCALE: if this variable is set to 0, it disables the locale\n",
      "   coercion behavior. Use PYTHONCOERCECLOCALE=warn to request display of\n",
      "   locale coercion and locale compatibility warnings on stderr.\n",
      "PYTHONBREAKPOINT: if this variable is set to 0, it disables the default\n",
      "   debugger. It can be set to the callable of your debugger of choice.\n",
      "PYTHONDEVMODE: enable the development mode.\n",
      "PYTHONPYCACHEPREFIX: root directory for bytecode cache (pyc) files.\n"
     ]
    }
   ],
   "source": [
    "!python -h"
   ]
  },
  {
   "cell_type": "code",
   "execution_count": null,
   "id": "19757eaa-a17a-4833-a4ae-9a60961a649a",
   "metadata": {},
   "outputs": [],
   "source": []
  }
 ],
 "metadata": {
  "kernelspec": {
   "display_name": "default:Python",
   "language": "python",
   "name": "conda-env-default-py"
  },
  "language_info": {
   "codemirror_mode": {
    "name": "ipython",
    "version": 3
   },
   "file_extension": ".py",
   "mimetype": "text/x-python",
   "name": "python",
   "nbconvert_exporter": "python",
   "pygments_lexer": "ipython3",
   "version": "3.9.7"
  }
 },
 "nbformat": 4,
 "nbformat_minor": 5
}
