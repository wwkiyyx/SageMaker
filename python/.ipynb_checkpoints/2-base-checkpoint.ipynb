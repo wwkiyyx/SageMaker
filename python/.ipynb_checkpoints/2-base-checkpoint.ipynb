{
 "cells": [
  {
   "cell_type": "code",
   "execution_count": 1,
   "id": "72fd786e-dc4a-45ce-8504-8b3f8f0ead7b",
   "metadata": {},
   "outputs": [
    {
     "name": "stdout",
     "output_type": "stream",
     "text": [
      "1\n",
      "1.1\n",
      "abc\n"
     ]
    }
   ],
   "source": [
    "a = 1\n",
    "b = 1.1\n",
    "c = 'abc'\n",
    "print(a)\n",
    "print(b)\n",
    "print(c)"
   ]
  },
  {
   "cell_type": "code",
   "execution_count": 2,
   "id": "6b8361e0-053a-4c51-b946-a413167e39cf",
   "metadata": {},
   "outputs": [
    {
     "name": "stdout",
     "output_type": "stream",
     "text": [
      "3\n",
      "3\n"
     ]
    }
   ],
   "source": [
    "m = n = 3\n",
    "print(m)\n",
    "print(n)"
   ]
  },
  {
   "cell_type": "code",
   "execution_count": 3,
   "id": "3df769a9-4e0e-476f-8936-933ec4b53c1f",
   "metadata": {},
   "outputs": [
    {
     "name": "stdout",
     "output_type": "stream",
     "text": [
      "2\n",
      "2.4\n",
      "you\n"
     ]
    }
   ],
   "source": [
    "i, j, k = 2, 2.4, 'you'\n",
    "print(i)\n",
    "print(j)\n",
    "print(k)"
   ]
  },
  {
   "cell_type": "code",
   "execution_count": 4,
   "id": "60fcf5bb-fea3-4ca0-ad8d-63904cece336",
   "metadata": {},
   "outputs": [
    {
     "name": "stdout",
     "output_type": "stream",
     "text": [
      "[1, 2, 3, 4, 5]\n"
     ]
    }
   ],
   "source": [
    "l = [1, 2, 3, 4, 5]\n",
    "print(l)"
   ]
  },
  {
   "cell_type": "code",
   "execution_count": 5,
   "id": "d104bfa8-1272-433e-bfe2-9d18674262bd",
   "metadata": {},
   "outputs": [
    {
     "name": "stdout",
     "output_type": "stream",
     "text": [
      "(1, 2, 3, 4, 5)\n"
     ]
    }
   ],
   "source": [
    "t = (1, 2, 3, 4, 5)\n",
    "print(t)"
   ]
  },
  {
   "cell_type": "code",
   "execution_count": 6,
   "id": "46730fac-3278-4b19-8537-a150b28f9821",
   "metadata": {},
   "outputs": [
    {
     "name": "stdout",
     "output_type": "stream",
     "text": [
      "{1, 2, 3, 4, 5}\n"
     ]
    }
   ],
   "source": [
    "s = {1, 2, 3, 4, 5}\n",
    "print(s)"
   ]
  },
  {
   "cell_type": "code",
   "execution_count": 7,
   "id": "cbb50258-2986-4c86-a70d-d85e5d512b5a",
   "metadata": {},
   "outputs": [
    {
     "name": "stdout",
     "output_type": "stream",
     "text": [
      "{'a': 1, 'b': 2, 'c': 3}\n"
     ]
    }
   ],
   "source": [
    "d = {\"a\":1, \"b\":2, \"c\":3}\n",
    "print(d)"
   ]
  },
  {
   "cell_type": "code",
   "execution_count": 8,
   "id": "890df7c8-aab8-42f2-b0ee-cefa35e2c419",
   "metadata": {},
   "outputs": [
    {
     "data": {
      "text/plain": [
       "int"
      ]
     },
     "execution_count": 8,
     "metadata": {},
     "output_type": "execute_result"
    }
   ],
   "source": [
    "type(a)"
   ]
  },
  {
   "cell_type": "code",
   "execution_count": 9,
   "id": "820dcd24-0b00-4816-8291-2546bd4a9151",
   "metadata": {},
   "outputs": [
    {
     "data": {
      "text/plain": [
       "float"
      ]
     },
     "execution_count": 9,
     "metadata": {},
     "output_type": "execute_result"
    }
   ],
   "source": [
    "type(b)"
   ]
  },
  {
   "cell_type": "code",
   "execution_count": 10,
   "id": "eb655cbd-674f-4d74-8548-4f80399f0143",
   "metadata": {},
   "outputs": [
    {
     "data": {
      "text/plain": [
       "str"
      ]
     },
     "execution_count": 10,
     "metadata": {},
     "output_type": "execute_result"
    }
   ],
   "source": [
    "type(c)"
   ]
  },
  {
   "cell_type": "code",
   "execution_count": 11,
   "id": "b9429a5f-5a39-40cf-8c29-fb49d9362ecc",
   "metadata": {},
   "outputs": [
    {
     "data": {
      "text/plain": [
       "list"
      ]
     },
     "execution_count": 11,
     "metadata": {},
     "output_type": "execute_result"
    }
   ],
   "source": [
    "type(l)"
   ]
  },
  {
   "cell_type": "code",
   "execution_count": 12,
   "id": "68e6badf-29eb-44b0-8f61-3244be80a2a8",
   "metadata": {},
   "outputs": [
    {
     "data": {
      "text/plain": [
       "tuple"
      ]
     },
     "execution_count": 12,
     "metadata": {},
     "output_type": "execute_result"
    }
   ],
   "source": [
    "type(t)"
   ]
  },
  {
   "cell_type": "code",
   "execution_count": 13,
   "id": "2d58c1c2-192f-4345-b0cc-21d786f3be0e",
   "metadata": {},
   "outputs": [
    {
     "data": {
      "text/plain": [
       "set"
      ]
     },
     "execution_count": 13,
     "metadata": {},
     "output_type": "execute_result"
    }
   ],
   "source": [
    "type(s)"
   ]
  },
  {
   "cell_type": "code",
   "execution_count": 14,
   "id": "bfb6616c-4f26-46f4-9a22-2fa81fc7fe73",
   "metadata": {},
   "outputs": [
    {
     "data": {
      "text/plain": [
       "dict"
      ]
     },
     "execution_count": 14,
     "metadata": {},
     "output_type": "execute_result"
    }
   ],
   "source": [
    "type(d)"
   ]
  },
  {
   "cell_type": "code",
   "execution_count": 15,
   "id": "53c20419-f6e5-4fd0-ac0a-99e086b72be3",
   "metadata": {},
   "outputs": [
    {
     "data": {
      "text/plain": [
       "True"
      ]
     },
     "execution_count": 15,
     "metadata": {},
     "output_type": "execute_result"
    }
   ],
   "source": [
    "isinstance(a,int)"
   ]
  },
  {
   "cell_type": "code",
   "execution_count": 16,
   "id": "3327486e-7602-441d-aaa4-9fa544472441",
   "metadata": {},
   "outputs": [],
   "source": [
    "del a, b, c"
   ]
  },
  {
   "cell_type": "code",
   "execution_count": 17,
   "id": "d61d7240-9275-480f-a5f5-09510344180a",
   "metadata": {},
   "outputs": [
    {
     "data": {
      "text/plain": [
       "2"
      ]
     },
     "execution_count": 17,
     "metadata": {},
     "output_type": "execute_result"
    }
   ],
   "source": [
    "1 + 1"
   ]
  },
  {
   "cell_type": "code",
   "execution_count": 18,
   "id": "906e977d-cbda-4741-8df5-015ac0b05adc",
   "metadata": {},
   "outputs": [
    {
     "data": {
      "text/plain": [
       "2"
      ]
     },
     "execution_count": 18,
     "metadata": {},
     "output_type": "execute_result"
    }
   ],
   "source": [
    "5 - 3 "
   ]
  },
  {
   "cell_type": "code",
   "execution_count": 19,
   "id": "628946c1-6682-4ad7-9d49-3b2992ee8436",
   "metadata": {},
   "outputs": [
    {
     "data": {
      "text/plain": [
       "6"
      ]
     },
     "execution_count": 19,
     "metadata": {},
     "output_type": "execute_result"
    }
   ],
   "source": [
    "2 * 3"
   ]
  },
  {
   "cell_type": "code",
   "execution_count": 20,
   "id": "c4849730-4c58-44e3-a46c-dd67e445eac3",
   "metadata": {},
   "outputs": [
    {
     "data": {
      "text/plain": [
       "2.0"
      ]
     },
     "execution_count": 20,
     "metadata": {},
     "output_type": "execute_result"
    }
   ],
   "source": [
    "8 / 4"
   ]
  },
  {
   "cell_type": "code",
   "execution_count": 21,
   "id": "f86e69dc-e995-4913-b1a7-0b93ac441494",
   "metadata": {},
   "outputs": [
    {
     "data": {
      "text/plain": [
       "2"
      ]
     },
     "execution_count": 21,
     "metadata": {},
     "output_type": "execute_result"
    }
   ],
   "source": [
    "8 // 4"
   ]
  },
  {
   "cell_type": "code",
   "execution_count": 22,
   "id": "656804a6-eecf-44fe-a64a-0d5788d13390",
   "metadata": {},
   "outputs": [
    {
     "data": {
      "text/plain": [
       "2"
      ]
     },
     "execution_count": 22,
     "metadata": {},
     "output_type": "execute_result"
    }
   ],
   "source": [
    "7 % 5"
   ]
  },
  {
   "cell_type": "code",
   "execution_count": 23,
   "id": "4781e6e2-1569-42a7-b73a-d1994f7fb1bb",
   "metadata": {},
   "outputs": [
    {
     "data": {
      "text/plain": [
       "9"
      ]
     },
     "execution_count": 23,
     "metadata": {},
     "output_type": "execute_result"
    }
   ],
   "source": [
    "3 ** 2"
   ]
  },
  {
   "cell_type": "code",
   "execution_count": 24,
   "id": "04888119-a900-4a52-843f-b617a9dc683f",
   "metadata": {},
   "outputs": [
    {
     "name": "stdout",
     "output_type": "stream",
     "text": [
      "2\n"
     ]
    }
   ],
   "source": [
    "print(l[1])"
   ]
  },
  {
   "cell_type": "code",
   "execution_count": 25,
   "id": "bc14bf31-ae3a-4b9e-993d-afe467b72580",
   "metadata": {},
   "outputs": [
    {
     "name": "stdout",
     "output_type": "stream",
     "text": [
      "[2, 3]\n"
     ]
    }
   ],
   "source": [
    "print(l[1:3])"
   ]
  },
  {
   "cell_type": "code",
   "execution_count": 26,
   "id": "81321b8b-f27b-4ab8-ac7a-886d8ea9a925",
   "metadata": {},
   "outputs": [
    {
     "name": "stdout",
     "output_type": "stream",
     "text": [
      "[3, 4, 5]\n"
     ]
    }
   ],
   "source": [
    "print(l[2:])"
   ]
  },
  {
   "cell_type": "code",
   "execution_count": 27,
   "id": "244e7137-35f7-4b6b-9e49-f15e8a020b69",
   "metadata": {},
   "outputs": [
    {
     "name": "stdout",
     "output_type": "stream",
     "text": [
      "[1, 2, 3, 4, 5, 1, 2, 3, 4, 5]\n"
     ]
    }
   ],
   "source": [
    "print(l*2)"
   ]
  },
  {
   "cell_type": "code",
   "execution_count": 28,
   "id": "06975513-f55c-4514-9c9f-45df90429485",
   "metadata": {},
   "outputs": [
    {
     "name": "stdout",
     "output_type": "stream",
     "text": [
      "[1, 2, 3, 4, 5, 1, 2, 3, 4, 5]\n"
     ]
    }
   ],
   "source": [
    "print(l+l)"
   ]
  },
  {
   "cell_type": "code",
   "execution_count": 29,
   "id": "b565ab56-cfb4-4201-b8e3-935baae933d1",
   "metadata": {},
   "outputs": [
    {
     "name": "stdout",
     "output_type": "stream",
     "text": [
      "[1, 2, 3, 30, 5]\n"
     ]
    }
   ],
   "source": [
    "l[3] = 30\n",
    "print(l)"
   ]
  },
  {
   "cell_type": "code",
   "execution_count": 30,
   "id": "0052c0e6-be1b-4303-a115-40c7b350dcd0",
   "metadata": {},
   "outputs": [
    {
     "name": "stdout",
     "output_type": "stream",
     "text": [
      "1\n"
     ]
    }
   ],
   "source": [
    "print(d['a'])"
   ]
  },
  {
   "cell_type": "code",
   "execution_count": 31,
   "id": "b236c860-199f-4232-9c6d-d6faf455f193",
   "metadata": {},
   "outputs": [
    {
     "name": "stdout",
     "output_type": "stream",
     "text": [
      "dict_keys(['a', 'b', 'c'])\n"
     ]
    }
   ],
   "source": [
    "print(d.keys())"
   ]
  },
  {
   "cell_type": "code",
   "execution_count": 32,
   "id": "5a7d2521-8701-4681-b01c-2a94b02d9807",
   "metadata": {},
   "outputs": [
    {
     "name": "stdout",
     "output_type": "stream",
     "text": [
      "dict_values([1, 2, 3])\n"
     ]
    }
   ],
   "source": [
    "print(d.values())"
   ]
  },
  {
   "cell_type": "code",
   "execution_count": 33,
   "id": "135f3a1a-2d7c-4f14-84e6-39e030b7d383",
   "metadata": {},
   "outputs": [
    {
     "data": {
      "text/plain": [
       "23"
      ]
     },
     "execution_count": 33,
     "metadata": {},
     "output_type": "execute_result"
    }
   ],
   "source": [
    "int('23')"
   ]
  },
  {
   "cell_type": "code",
   "execution_count": 34,
   "id": "e8714c72-3570-42b0-968e-d941cdcabbb7",
   "metadata": {},
   "outputs": [
    {
     "data": {
      "text/plain": [
       "0.23"
      ]
     },
     "execution_count": 34,
     "metadata": {},
     "output_type": "execute_result"
    }
   ],
   "source": [
    "float('0.23')"
   ]
  },
  {
   "cell_type": "code",
   "execution_count": 35,
   "id": "f0b56b23-e831-4064-8fe8-146d75a3315d",
   "metadata": {},
   "outputs": [
    {
     "data": {
      "text/plain": [
       "'1.23'"
      ]
     },
     "execution_count": 35,
     "metadata": {},
     "output_type": "execute_result"
    }
   ],
   "source": [
    "str(1.23)"
   ]
  },
  {
   "cell_type": "code",
   "execution_count": 36,
   "id": "818cd5fb-ced4-4d9c-a91b-388374a132c1",
   "metadata": {},
   "outputs": [
    {
     "data": {
      "text/plain": [
       "6"
      ]
     },
     "execution_count": 36,
     "metadata": {},
     "output_type": "execute_result"
    }
   ],
   "source": [
    "eval(\"m+n\")"
   ]
  },
  {
   "cell_type": "code",
   "execution_count": 37,
   "id": "e2d7fb6c-3a1f-47b9-a5af-9df89589612f",
   "metadata": {},
   "outputs": [
    {
     "data": {
      "text/plain": [
       "(1, 2, 3, 30, 5)"
      ]
     },
     "execution_count": 37,
     "metadata": {},
     "output_type": "execute_result"
    }
   ],
   "source": [
    "tuple(l)"
   ]
  },
  {
   "cell_type": "code",
   "execution_count": 38,
   "id": "d46e5f25-14ea-4d8d-9665-a8084c6d5f9d",
   "metadata": {},
   "outputs": [
    {
     "data": {
      "text/plain": [
       "[1, 2, 3, 4, 5]"
      ]
     },
     "execution_count": 38,
     "metadata": {},
     "output_type": "execute_result"
    }
   ],
   "source": [
    "list(t)"
   ]
  },
  {
   "cell_type": "code",
   "execution_count": 39,
   "id": "0a70c3d3-485f-4e9a-9a25-d6d848131b97",
   "metadata": {},
   "outputs": [
    {
     "data": {
      "text/plain": [
       "{1, 2, 3, 5, 30}"
      ]
     },
     "execution_count": 39,
     "metadata": {},
     "output_type": "execute_result"
    }
   ],
   "source": [
    "set(l)"
   ]
  },
  {
   "cell_type": "code",
   "execution_count": 40,
   "id": "20b387cb-aad3-41f4-8b92-0c58f2ed3e27",
   "metadata": {},
   "outputs": [
    {
     "data": {
      "text/plain": [
       "{'a': 9, 'b': 8}"
      ]
     },
     "execution_count": 40,
     "metadata": {},
     "output_type": "execute_result"
    }
   ],
   "source": [
    "dict([('a',9),('b',8)])"
   ]
  },
  {
   "cell_type": "code",
   "execution_count": 41,
   "id": "20b8ac77-f95a-4f82-b1ed-1760c9bb8155",
   "metadata": {},
   "outputs": [
    {
     "data": {
      "text/plain": [
       "'A'"
      ]
     },
     "execution_count": 41,
     "metadata": {},
     "output_type": "execute_result"
    }
   ],
   "source": [
    "chr(65)"
   ]
  },
  {
   "cell_type": "code",
   "execution_count": 42,
   "id": "caead8b9-33ed-42cb-ab91-480c48376805",
   "metadata": {},
   "outputs": [
    {
     "data": {
      "text/plain": [
       "65"
      ]
     },
     "execution_count": 42,
     "metadata": {},
     "output_type": "execute_result"
    }
   ],
   "source": [
    "ord('A')"
   ]
  },
  {
   "cell_type": "code",
   "execution_count": 43,
   "id": "3487d647-51aa-43a7-abb2-f21099d45a92",
   "metadata": {},
   "outputs": [
    {
     "data": {
      "text/plain": [
       "'0x10'"
      ]
     },
     "execution_count": 43,
     "metadata": {},
     "output_type": "execute_result"
    }
   ],
   "source": [
    "hex(16)"
   ]
  },
  {
   "cell_type": "code",
   "execution_count": 44,
   "id": "73e159c2-3c0b-4391-8a47-87cb91493d14",
   "metadata": {},
   "outputs": [
    {
     "data": {
      "text/plain": [
       "'0o10'"
      ]
     },
     "execution_count": 44,
     "metadata": {},
     "output_type": "execute_result"
    }
   ],
   "source": [
    "oct(8)"
   ]
  },
  {
   "cell_type": "code",
   "execution_count": 45,
   "id": "787ff7bb-de51-4d41-99f2-fd60fd0798e8",
   "metadata": {},
   "outputs": [
    {
     "name": "stdout",
     "output_type": "stream",
     "text": [
      "1\n",
      "2\n",
      "3\n",
      "30\n",
      "5\n"
     ]
    }
   ],
   "source": [
    "for x in l:\n",
    "    print(x)"
   ]
  },
  {
   "cell_type": "code",
   "execution_count": 46,
   "id": "818d52b2-9c35-45fe-9fca-1e21958850b4",
   "metadata": {},
   "outputs": [
    {
     "data": {
      "text/plain": [
       "[2, 3, 4, 31, 6]"
      ]
     },
     "execution_count": 46,
     "metadata": {},
     "output_type": "execute_result"
    }
   ],
   "source": [
    "l1 = [x+1 for x in l]\n",
    "l1"
   ]
  },
  {
   "cell_type": "code",
   "execution_count": 47,
   "id": "599c72f9-a2ac-4906-8a66-f8b611e2ad56",
   "metadata": {},
   "outputs": [
    {
     "data": {
      "text/plain": [
       "['1', '2', '3', '5']"
      ]
     },
     "execution_count": 47,
     "metadata": {},
     "output_type": "execute_result"
    }
   ],
   "source": [
    "l10 = [str(x) for x in l if x < 10]\n",
    "l10"
   ]
  },
  {
   "cell_type": "code",
   "execution_count": 48,
   "id": "755f02f5-a6c5-44e1-838a-2de8da2ce47e",
   "metadata": {},
   "outputs": [
    {
     "data": {
      "text/plain": [
       "{'1+1': 2, '2+1': 3, '3+1': 4, '30+1': 31, '5+1': 6}"
      ]
     },
     "execution_count": 48,
     "metadata": {},
     "output_type": "execute_result"
    }
   ],
   "source": [
    "d1 = {str(x)+\"+1\":x+1 for x in l}\n",
    "d1"
   ]
  },
  {
   "cell_type": "code",
   "execution_count": 49,
   "id": "48aa4214-053c-494e-8bfb-6bc4fea433ec",
   "metadata": {},
   "outputs": [
    {
     "data": {
      "text/plain": [
       "{2, 3, 4, 6, 31}"
      ]
     },
     "execution_count": 49,
     "metadata": {},
     "output_type": "execute_result"
    }
   ],
   "source": [
    "s1 = {x+1 for x in l}\n",
    "s1"
   ]
  },
  {
   "cell_type": "code",
   "execution_count": 50,
   "id": "cf2a42c2-81fd-437e-be3c-53a5424a85a4",
   "metadata": {},
   "outputs": [
    {
     "data": {
      "text/plain": [
       "(2, 3, 4, 31, 6)"
      ]
     },
     "execution_count": 50,
     "metadata": {},
     "output_type": "execute_result"
    }
   ],
   "source": [
    "t1 = tuple((x+1 for x in l))\n",
    "t1"
   ]
  },
  {
   "cell_type": "code",
   "execution_count": 51,
   "id": "e7979d37-427a-4d25-a4c7-ded8fbe96a52",
   "metadata": {},
   "outputs": [
    {
     "data": {
      "text/plain": [
       "True"
      ]
     },
     "execution_count": 51,
     "metadata": {},
     "output_type": "execute_result"
    }
   ],
   "source": [
    "m == 3"
   ]
  },
  {
   "cell_type": "code",
   "execution_count": 52,
   "id": "cc973e9b-37f3-4767-9e2f-76e36446a6a0",
   "metadata": {},
   "outputs": [
    {
     "data": {
      "text/plain": [
       "False"
      ]
     },
     "execution_count": 52,
     "metadata": {},
     "output_type": "execute_result"
    }
   ],
   "source": [
    "m != 3"
   ]
  },
  {
   "cell_type": "code",
   "execution_count": 53,
   "id": "46f5091e-1985-4602-888f-4f2ddc259288",
   "metadata": {},
   "outputs": [
    {
     "data": {
      "text/plain": [
       "True"
      ]
     },
     "execution_count": 53,
     "metadata": {},
     "output_type": "execute_result"
    }
   ],
   "source": [
    "m >= 3"
   ]
  },
  {
   "cell_type": "code",
   "execution_count": 54,
   "id": "32d373b8-0108-4b01-a6e4-cba2098014bb",
   "metadata": {},
   "outputs": [
    {
     "data": {
      "text/plain": [
       "True"
      ]
     },
     "execution_count": 54,
     "metadata": {},
     "output_type": "execute_result"
    }
   ],
   "source": [
    "m <= n"
   ]
  },
  {
   "cell_type": "code",
   "execution_count": 55,
   "id": "fb3e2c64-5161-47e1-9aa5-1e59046b077d",
   "metadata": {},
   "outputs": [
    {
     "data": {
      "text/plain": [
       "6"
      ]
     },
     "execution_count": 55,
     "metadata": {},
     "output_type": "execute_result"
    }
   ],
   "source": [
    "m = m + n\n",
    "m"
   ]
  },
  {
   "cell_type": "code",
   "execution_count": 56,
   "id": "7b693351-ed66-43d9-b4a9-0aaf6d7e5818",
   "metadata": {},
   "outputs": [
    {
     "data": {
      "text/plain": [
       "6"
      ]
     },
     "execution_count": 56,
     "metadata": {},
     "output_type": "execute_result"
    }
   ],
   "source": [
    "n += 3\n",
    "n"
   ]
  },
  {
   "cell_type": "code",
   "execution_count": 57,
   "id": "714dace0-446e-46a7-8a88-6f8787798138",
   "metadata": {},
   "outputs": [
    {
     "data": {
      "text/plain": [
       "3"
      ]
     },
     "execution_count": 57,
     "metadata": {},
     "output_type": "execute_result"
    }
   ],
   "source": [
    "n -= 3\n",
    "n"
   ]
  },
  {
   "cell_type": "code",
   "execution_count": 58,
   "id": "14b63aca-4b7b-40e6-9f9c-b007ff61c66d",
   "metadata": {},
   "outputs": [
    {
     "data": {
      "text/plain": [
       "9"
      ]
     },
     "execution_count": 58,
     "metadata": {},
     "output_type": "execute_result"
    }
   ],
   "source": [
    "n *= 3\n",
    "n"
   ]
  },
  {
   "cell_type": "code",
   "execution_count": 59,
   "id": "e0bdeec3-0662-436f-afbc-7f7ecbaa803e",
   "metadata": {},
   "outputs": [
    {
     "data": {
      "text/plain": [
       "3"
      ]
     },
     "execution_count": 59,
     "metadata": {},
     "output_type": "execute_result"
    }
   ],
   "source": [
    "n //= 3\n",
    "n"
   ]
  },
  {
   "cell_type": "code",
   "execution_count": 60,
   "id": "8784b558-0642-4339-9f86-e192a27756a4",
   "metadata": {},
   "outputs": [
    {
     "data": {
      "text/plain": [
       "1.0"
      ]
     },
     "execution_count": 60,
     "metadata": {},
     "output_type": "execute_result"
    }
   ],
   "source": [
    "n /= 3\n",
    "n"
   ]
  },
  {
   "cell_type": "code",
   "execution_count": 61,
   "id": "003fc450-883f-4af2-9a00-b27143895856",
   "metadata": {},
   "outputs": [
    {
     "data": {
      "text/plain": [
       "0"
      ]
     },
     "execution_count": 61,
     "metadata": {},
     "output_type": "execute_result"
    }
   ],
   "source": [
    "m %= 3\n",
    "m"
   ]
  },
  {
   "cell_type": "code",
   "execution_count": 62,
   "id": "151701bb-6a11-4c9a-bf09-ed85dbe1cf37",
   "metadata": {},
   "outputs": [
    {
     "data": {
      "text/plain": [
       "0"
      ]
     },
     "execution_count": 62,
     "metadata": {},
     "output_type": "execute_result"
    }
   ],
   "source": [
    "m & i"
   ]
  },
  {
   "cell_type": "code",
   "execution_count": 63,
   "id": "e6822b14-e8e1-4335-8fd3-d7fbd17d241f",
   "metadata": {},
   "outputs": [
    {
     "data": {
      "text/plain": [
       "2"
      ]
     },
     "execution_count": 63,
     "metadata": {},
     "output_type": "execute_result"
    }
   ],
   "source": [
    "m | i"
   ]
  },
  {
   "cell_type": "code",
   "execution_count": 64,
   "id": "e0c9aab3-5069-4ab4-bbc9-d9b9584700dd",
   "metadata": {},
   "outputs": [
    {
     "data": {
      "text/plain": [
       "2"
      ]
     },
     "execution_count": 64,
     "metadata": {},
     "output_type": "execute_result"
    }
   ],
   "source": [
    "m ^ i"
   ]
  },
  {
   "cell_type": "code",
   "execution_count": 65,
   "id": "8a0caa86-39c8-4186-958c-f3314a05afa4",
   "metadata": {},
   "outputs": [
    {
     "data": {
      "text/plain": [
       "-3"
      ]
     },
     "execution_count": 65,
     "metadata": {},
     "output_type": "execute_result"
    }
   ],
   "source": [
    "~i"
   ]
  },
  {
   "cell_type": "code",
   "execution_count": 66,
   "id": "21900fb5-59c3-41e4-a1c8-ae396587f251",
   "metadata": {},
   "outputs": [
    {
     "data": {
      "text/plain": [
       "0"
      ]
     },
     "execution_count": 66,
     "metadata": {},
     "output_type": "execute_result"
    }
   ],
   "source": [
    "i>>2"
   ]
  },
  {
   "cell_type": "code",
   "execution_count": 67,
   "id": "824bb13f-545d-4150-bedf-2e101c7a4f5d",
   "metadata": {},
   "outputs": [
    {
     "data": {
      "text/plain": [
       "8"
      ]
     },
     "execution_count": 67,
     "metadata": {},
     "output_type": "execute_result"
    }
   ],
   "source": [
    "i<<2"
   ]
  },
  {
   "cell_type": "code",
   "execution_count": 68,
   "id": "8b1e68fb-8d1c-4d72-b542-9badf24a4d29",
   "metadata": {},
   "outputs": [
    {
     "data": {
      "text/plain": [
       "True"
      ]
     },
     "execution_count": 68,
     "metadata": {},
     "output_type": "execute_result"
    }
   ],
   "source": [
    "i > 0 and i < 8"
   ]
  },
  {
   "cell_type": "code",
   "execution_count": 69,
   "id": "22c0a46c-d653-4461-8261-e1ddfc642185",
   "metadata": {},
   "outputs": [
    {
     "data": {
      "text/plain": [
       "True"
      ]
     },
     "execution_count": 69,
     "metadata": {},
     "output_type": "execute_result"
    }
   ],
   "source": [
    "i > 0 or i < 8"
   ]
  },
  {
   "cell_type": "code",
   "execution_count": 70,
   "id": "68be71eb-75c1-43ba-a789-464963e584b1",
   "metadata": {},
   "outputs": [
    {
     "data": {
      "text/plain": [
       "False"
      ]
     },
     "execution_count": 70,
     "metadata": {},
     "output_type": "execute_result"
    }
   ],
   "source": [
    "not i > 0"
   ]
  },
  {
   "cell_type": "code",
   "execution_count": 71,
   "id": "4e934f2e-1bb2-4fb3-8bf2-2900c9ac2ca0",
   "metadata": {},
   "outputs": [
    {
     "data": {
      "text/plain": [
       "True"
      ]
     },
     "execution_count": 71,
     "metadata": {},
     "output_type": "execute_result"
    }
   ],
   "source": [
    "1 in l"
   ]
  },
  {
   "cell_type": "code",
   "execution_count": 72,
   "id": "762c23da-387e-469b-86b0-f8e65555fc65",
   "metadata": {},
   "outputs": [
    {
     "data": {
      "text/plain": [
       "True"
      ]
     },
     "execution_count": 72,
     "metadata": {},
     "output_type": "execute_result"
    }
   ],
   "source": [
    "11 not in l"
   ]
  },
  {
   "cell_type": "code",
   "execution_count": 73,
   "id": "f3f7f733-53d3-4b9a-ba8c-0d1fb2bb0a96",
   "metadata": {},
   "outputs": [
    {
     "data": {
      "text/plain": [
       "True"
      ]
     },
     "execution_count": 73,
     "metadata": {},
     "output_type": "execute_result"
    }
   ],
   "source": [
    "l is l"
   ]
  },
  {
   "cell_type": "code",
   "execution_count": 74,
   "id": "3c898108-610d-4dff-8c92-3bb51bbce13a",
   "metadata": {},
   "outputs": [
    {
     "data": {
      "text/plain": [
       "False"
      ]
     },
     "execution_count": 74,
     "metadata": {},
     "output_type": "execute_result"
    }
   ],
   "source": [
    "l is t"
   ]
  },
  {
   "cell_type": "code",
   "execution_count": 75,
   "id": "b9fe6f7a-bff0-4d7c-8838-02a974e5b071",
   "metadata": {},
   "outputs": [
    {
     "data": {
      "text/plain": [
       "True"
      ]
     },
     "execution_count": 75,
     "metadata": {},
     "output_type": "execute_result"
    }
   ],
   "source": [
    "l is not t"
   ]
  },
  {
   "cell_type": "code",
   "execution_count": 76,
   "id": "124fc1bf-d0a3-43f8-a24e-1bccde69d440",
   "metadata": {},
   "outputs": [
    {
     "data": {
      "text/plain": [
       "10"
      ]
     },
     "execution_count": 76,
     "metadata": {},
     "output_type": "execute_result"
    }
   ],
   "source": [
    "abs(-10)"
   ]
  },
  {
   "cell_type": "code",
   "execution_count": 77,
   "id": "802c8feb-8f0c-4116-b526-ec74745a3851",
   "metadata": {},
   "outputs": [
    {
     "data": {
      "text/plain": [
       "5"
      ]
     },
     "execution_count": 77,
     "metadata": {},
     "output_type": "execute_result"
    }
   ],
   "source": [
    "import math\n",
    "math.ceil(4.4)"
   ]
  },
  {
   "cell_type": "code",
   "execution_count": 78,
   "id": "3b0a8577-8704-40b8-a77f-0c87adb9e3b1",
   "metadata": {},
   "outputs": [
    {
     "data": {
      "text/plain": [
       "2.718281828459045"
      ]
     },
     "execution_count": 78,
     "metadata": {},
     "output_type": "execute_result"
    }
   ],
   "source": [
    "math.exp(1)"
   ]
  },
  {
   "cell_type": "code",
   "execution_count": 79,
   "id": "71b4e9ef-3587-48eb-a91c-4e3145be1480",
   "metadata": {},
   "outputs": [
    {
     "data": {
      "text/plain": [
       "10.0"
      ]
     },
     "execution_count": 79,
     "metadata": {},
     "output_type": "execute_result"
    }
   ],
   "source": [
    "math.fabs(-10)"
   ]
  },
  {
   "cell_type": "code",
   "execution_count": 80,
   "id": "fb9f12db-71d7-4c2b-a3e7-8467f1da1f82",
   "metadata": {},
   "outputs": [
    {
     "data": {
      "text/plain": [
       "4"
      ]
     },
     "execution_count": 80,
     "metadata": {},
     "output_type": "execute_result"
    }
   ],
   "source": [
    "math.floor(4.4)"
   ]
  },
  {
   "cell_type": "code",
   "execution_count": 81,
   "id": "8aaaeaa5-5d81-4d30-8b8c-9243dd1e1b17",
   "metadata": {},
   "outputs": [
    {
     "data": {
      "text/plain": [
       "1.0"
      ]
     },
     "execution_count": 81,
     "metadata": {},
     "output_type": "execute_result"
    }
   ],
   "source": [
    "math.log(math.e)"
   ]
  },
  {
   "cell_type": "code",
   "execution_count": 82,
   "id": "dce72a3c-7101-41d7-940a-87d72305a440",
   "metadata": {},
   "outputs": [
    {
     "data": {
      "text/plain": [
       "30"
      ]
     },
     "execution_count": 82,
     "metadata": {},
     "output_type": "execute_result"
    }
   ],
   "source": [
    "max(l)"
   ]
  },
  {
   "cell_type": "code",
   "execution_count": 83,
   "id": "a5fa761f-ee6e-4a01-8284-5a57f4a70db4",
   "metadata": {},
   "outputs": [
    {
     "data": {
      "text/plain": [
       "1"
      ]
     },
     "execution_count": 83,
     "metadata": {},
     "output_type": "execute_result"
    }
   ],
   "source": [
    "min(l)"
   ]
  },
  {
   "cell_type": "code",
   "execution_count": 84,
   "id": "7c0eff88-c0ca-4dd3-a39f-77000f9d4d3b",
   "metadata": {},
   "outputs": [
    {
     "data": {
      "text/plain": [
       "9"
      ]
     },
     "execution_count": 84,
     "metadata": {},
     "output_type": "execute_result"
    }
   ],
   "source": [
    "pow(3,2)"
   ]
  },
  {
   "cell_type": "code",
   "execution_count": 85,
   "id": "a74a36fc-c86e-4d89-9566-6faaf877b3eb",
   "metadata": {},
   "outputs": [
    {
     "data": {
      "text/plain": [
       "2"
      ]
     },
     "execution_count": 85,
     "metadata": {},
     "output_type": "execute_result"
    }
   ],
   "source": [
    "round(2.499)"
   ]
  },
  {
   "cell_type": "code",
   "execution_count": 86,
   "id": "44092dab-b70c-47f5-a133-95c9bb495a59",
   "metadata": {},
   "outputs": [
    {
     "data": {
      "text/plain": [
       "2.5"
      ]
     },
     "execution_count": 86,
     "metadata": {},
     "output_type": "execute_result"
    }
   ],
   "source": [
    "round(2.5001, 2)"
   ]
  },
  {
   "cell_type": "code",
   "execution_count": 87,
   "id": "2a04bf6c-7f82-4688-bf4d-ec8d772e38fd",
   "metadata": {},
   "outputs": [
    {
     "data": {
      "text/plain": [
       "3.0"
      ]
     },
     "execution_count": 87,
     "metadata": {},
     "output_type": "execute_result"
    }
   ],
   "source": [
    "math.sqrt(9)"
   ]
  },
  {
   "cell_type": "code",
   "execution_count": 88,
   "id": "9943f3b9-a5e1-451d-b35b-4fe1d6f6f9f0",
   "metadata": {},
   "outputs": [
    {
     "data": {
      "text/plain": [
       "2"
      ]
     },
     "execution_count": 88,
     "metadata": {},
     "output_type": "execute_result"
    }
   ],
   "source": [
    "import random\n",
    "random.choice(l)"
   ]
  },
  {
   "cell_type": "code",
   "execution_count": 89,
   "id": "f6101ea1-e5e0-4a13-8461-f8041bf9bd0a",
   "metadata": {},
   "outputs": [
    {
     "data": {
      "text/plain": [
       "0.35823789323833555"
      ]
     },
     "execution_count": 89,
     "metadata": {},
     "output_type": "execute_result"
    }
   ],
   "source": [
    "random.random()"
   ]
  },
  {
   "cell_type": "code",
   "execution_count": 90,
   "id": "df61b1c2-1fc3-4145-9ca5-8f288ab0dce2",
   "metadata": {},
   "outputs": [
    {
     "data": {
      "text/plain": [
       "[1, 30, 2, 5, 3]"
      ]
     },
     "execution_count": 90,
     "metadata": {},
     "output_type": "execute_result"
    }
   ],
   "source": [
    "random.shuffle(l)\n",
    "l"
   ]
  },
  {
   "cell_type": "code",
   "execution_count": 91,
   "id": "7c3151b1-4d81-4a22-b2e7-f1ff45f3a664",
   "metadata": {},
   "outputs": [
    {
     "data": {
      "text/plain": [
       "0.49999999999999994"
      ]
     },
     "execution_count": 91,
     "metadata": {},
     "output_type": "execute_result"
    }
   ],
   "source": [
    "math.sin(math.radians(30))"
   ]
  },
  {
   "cell_type": "code",
   "execution_count": 92,
   "id": "1cd71127-c34b-440a-a8e9-617e74b398f6",
   "metadata": {},
   "outputs": [
    {
     "data": {
      "text/plain": [
       "0.5000000000000001"
      ]
     },
     "execution_count": 92,
     "metadata": {},
     "output_type": "execute_result"
    }
   ],
   "source": [
    "math.cos(math.radians(60))"
   ]
  },
  {
   "cell_type": "code",
   "execution_count": 93,
   "id": "f73ed0c1-839a-48bb-96d1-85b045bda5bb",
   "metadata": {},
   "outputs": [
    {
     "data": {
      "text/plain": [
       "0.9999999999999999"
      ]
     },
     "execution_count": 93,
     "metadata": {},
     "output_type": "execute_result"
    }
   ],
   "source": [
    "math.tan(math.radians(45))"
   ]
  },
  {
   "cell_type": "code",
   "execution_count": 94,
   "id": "f7184735-d2f8-4b8d-83f1-52d4798e8c12",
   "metadata": {},
   "outputs": [
    {
     "data": {
      "text/plain": [
       "30.000000000000004"
      ]
     },
     "execution_count": 94,
     "metadata": {},
     "output_type": "execute_result"
    }
   ],
   "source": [
    "math.degrees(math.asin(0.5))"
   ]
  },
  {
   "cell_type": "code",
   "execution_count": 95,
   "id": "b1a0b573-0328-45f2-a378-18f3a3055f76",
   "metadata": {},
   "outputs": [
    {
     "data": {
      "text/plain": [
       "60.00000000000001"
      ]
     },
     "execution_count": 95,
     "metadata": {},
     "output_type": "execute_result"
    }
   ],
   "source": [
    "math.degrees(math.acos(0.5))"
   ]
  },
  {
   "cell_type": "code",
   "execution_count": 96,
   "id": "a94e51e7-dd0a-4dd3-a07d-d9488ad26712",
   "metadata": {},
   "outputs": [
    {
     "data": {
      "text/plain": [
       "45.0"
      ]
     },
     "execution_count": 96,
     "metadata": {},
     "output_type": "execute_result"
    }
   ],
   "source": [
    "math.degrees(math.atan(1))"
   ]
  },
  {
   "cell_type": "code",
   "execution_count": 97,
   "id": "7eb2eb79-346e-48f2-a1ea-b8ab8c0593d1",
   "metadata": {},
   "outputs": [
    {
     "data": {
      "text/plain": [
       "3.141592653589793"
      ]
     },
     "execution_count": 97,
     "metadata": {},
     "output_type": "execute_result"
    }
   ],
   "source": [
    "math.pi"
   ]
  },
  {
   "cell_type": "code",
   "execution_count": 98,
   "id": "ce9b8931-7f05-4328-9072-ca93cd05a706",
   "metadata": {},
   "outputs": [
    {
     "data": {
      "text/plain": [
       "180.0"
      ]
     },
     "execution_count": 98,
     "metadata": {},
     "output_type": "execute_result"
    }
   ],
   "source": [
    "math.degrees(math.pi)"
   ]
  },
  {
   "cell_type": "code",
   "execution_count": 99,
   "id": "7f90bb9a-9d6c-4016-a3d9-4007ae428ac4",
   "metadata": {},
   "outputs": [
    {
     "data": {
      "text/plain": [
       "2.718281828459045"
      ]
     },
     "execution_count": 99,
     "metadata": {},
     "output_type": "execute_result"
    }
   ],
   "source": [
    "math.e"
   ]
  },
  {
   "cell_type": "code",
   "execution_count": null,
   "id": "99cd78fa-140a-4f86-8e98-145e5f654861",
   "metadata": {},
   "outputs": [],
   "source": []
  }
 ],
 "metadata": {
  "kernelspec": {
   "display_name": "default:Python",
   "language": "python",
   "name": "conda-env-default-py"
  },
  "language_info": {
   "codemirror_mode": {
    "name": "ipython",
    "version": 3
   },
   "file_extension": ".py",
   "mimetype": "text/x-python",
   "name": "python",
   "nbconvert_exporter": "python",
   "pygments_lexer": "ipython3",
   "version": "3.9.7"
  }
 },
 "nbformat": 4,
 "nbformat_minor": 5
}
