{
 "cells": [
  {
   "cell_type": "code",
   "execution_count": 1,
   "id": "920d4912-fbcc-4aa5-89ec-c48f9d43c32b",
   "metadata": {},
   "outputs": [],
   "source": [
    "from PIL import Image, ImageChops, ImageDraw"
   ]
  },
  {
   "cell_type": "code",
   "execution_count": 2,
   "id": "863be862-81d9-4959-b58f-1c5b4fb739e8",
   "metadata": {},
   "outputs": [
    {
     "data": {
      "image/png": "[encoded data removed]",
      "text/plain": [
       "<PIL.Image.Image image mode=RGB size=100x100>"
      ]
     },
     "metadata": {},
     "output_type": "display_data"
    }
   ],
   "source": [
    "im = Image.new(\"RGB\",(100,100),(128,128,128))\n",
    "im.show()"
   ]
  },
  {
   "cell_type": "code",
   "execution_count": 3,
   "id": "043ae5a0-1595-4ee2-9165-5bd6b37345e2",
   "metadata": {},
   "outputs": [
    {
     "data": {
      "image/png": "[encoded data removed]",
      "text/plain": [
       "<PIL.Image.Image image mode=RGB size=100x100>"
      ]
     },
     "metadata": {},
     "output_type": "display_data"
    }
   ],
   "source": [
    "ImageChops.add(im,im,0.9).show()"
   ]
  },
  {
   "cell_type": "raw",
   "id": "6f2b2322-e587-428c-b305-f71f394b2277",
   "metadata": {},
   "source": [
    "...................."
   ]
  },
  {
   "cell_type": "code",
   "execution_count": 4,
   "id": "808bfbc7-9e0a-4168-8e89-4090242bf218",
   "metadata": {},
   "outputs": [
    {
     "data": {
      "image/png": "[encoded data removed]",
      "text/plain": [
       "<PIL.Image.Image image mode=RGB size=100x100>"
      ]
     },
     "metadata": {},
     "output_type": "display_data"
    }
   ],
   "source": [
    "draw = ImageDraw.Draw(im)\n",
    "draw.line((0, 0) + im.size, fill=255)\n",
    "draw.line((0, im.size[1], im.size[0], 0), fill=255)\n",
    "im.show()"
   ]
  },
  {
   "cell_type": "code",
   "execution_count": 5,
   "id": "ea68486a-d3a7-43ec-a3ee-f8f78c56da18",
   "metadata": {},
   "outputs": [
    {
     "data": {
      "image/png": "[encoded data removed]",
      "text/plain": [
       "<PIL.Image.Image image mode=RGB size=100x100>"
      ]
     },
     "metadata": {},
     "output_type": "display_data"
    }
   ],
   "source": [
    "d = ImageDraw.Draw(im)\n",
    "d.text((10, 10), \"Hello\", fill=(255, 255, 255, 128))\n",
    "d.multiline_text((10, 30), \"Hello\\nWorld\", fill=(0, 0, 0))\n",
    "im.show()"
   ]
  },
  {
   "cell_type": "code",
   "execution_count": 6,
   "id": "68e8a6b0-44ae-4f59-b138-874297c96fc2",
   "metadata": {},
   "outputs": [
    {
     "data": {
      "text/plain": [
       "<PIL.ImageFont.ImageFont at 0x7f6694536850>"
      ]
     },
     "execution_count": 6,
     "metadata": {},
     "output_type": "execute_result"
    }
   ],
   "source": [
    "d.getfont()"
   ]
  },
  {
   "cell_type": "code",
   "execution_count": 7,
   "id": "3afe4d1a-a4e8-4d06-81ff-59fc84135397",
   "metadata": {},
   "outputs": [
    {
     "data": {
      "image/png": "[encoded data removed]",
      "text/plain": [
       "<PIL.Image.Image image mode=RGB size=100x100>"
      ]
     },
     "metadata": {},
     "output_type": "display_data"
    }
   ],
   "source": [
    "d.arc([(30, 30), (60, 60)],0,360,(0, 0, 0),3)\n",
    "im.show()"
   ]
  },
  {
   "cell_type": "code",
   "execution_count": 8,
   "id": "ce790d2c-0fa8-4387-924f-ef8b7db79eea",
   "metadata": {},
   "outputs": [
    {
     "data": {
      "image/png": "[encoded data removed]",
      "text/plain": [
       "<PIL.Image.Image image mode=RGB size=100x100>"
      ]
     },
     "metadata": {},
     "output_type": "display_data"
    }
   ],
   "source": [
    "d.ellipse([(60, 60), (90, 90)],(0, 0, 0),(0, 0, 0),3)\n",
    "im.show()"
   ]
  },
  {
   "cell_type": "code",
   "execution_count": 9,
   "id": "d053a288-87ca-4cd8-8cbb-894d10380862",
   "metadata": {},
   "outputs": [
    {
     "data": {
      "image/png": "[encoded data removed]",
      "text/plain": [
       "<PIL.Image.Image image mode=RGB size=100x100>"
      ]
     },
     "metadata": {},
     "output_type": "display_data"
    }
   ],
   "source": [
    "d.point((50,50),(0,0,0))\n",
    "im.show()"
   ]
  },
  {
   "cell_type": "code",
   "execution_count": 10,
   "id": "2610882c-afc3-4307-86d9-278f28b115f7",
   "metadata": {},
   "outputs": [
    {
     "data": {
      "image/png": "[encoded data removed]",
      "text/plain": [
       "<PIL.Image.Image image mode=RGB size=100x100>"
      ]
     },
     "metadata": {},
     "output_type": "display_data"
    }
   ],
   "source": [
    "d.rectangle([(30, 60), (60, 90)],(0, 0, 0),(0, 0, 0),3)\n",
    "im.show()"
   ]
  },
  {
   "cell_type": "raw",
   "id": "86f79420-d7bc-4b3e-b18e-5e78bd4c6400",
   "metadata": {},
   "source": [
    "......................................"
   ]
  },
  {
   "cell_type": "code",
   "execution_count": 13,
   "id": "8687434a-d7d5-4b74-b156-9435a2ee3f63",
   "metadata": {},
   "outputs": [
    {
     "data": {
      "text/plain": [
       "[103.9491, 100.1241, 100.1241]"
      ]
     },
     "execution_count": 13,
     "metadata": {},
     "output_type": "execute_result"
    }
   ],
   "source": [
    "from PIL import ImageStat\n",
    "s = ImageStat.Stat(im)\n",
    "s.mean"
   ]
  },
  {
   "cell_type": "raw",
   "id": "e0a7711f-1be1-48b6-99ae-c4219d80a13f",
   "metadata": {},
   "source": [
    "..........................."
   ]
  }
 ],
 "metadata": {
  "kernelspec": {
   "display_name": "default:Python",
   "language": "python",
   "name": "conda-env-default-py"
  },
  "language_info": {
   "codemirror_mode": {
    "name": "ipython",
    "version": 3
   },
   "file_extension": ".py",
   "mimetype": "text/x-python",
   "name": "python",
   "nbconvert_exporter": "python",
   "pygments_lexer": "ipython3",
   "version": "3.9.7"
  }
 },
 "nbformat": 4,
 "nbformat_minor": 5
}
