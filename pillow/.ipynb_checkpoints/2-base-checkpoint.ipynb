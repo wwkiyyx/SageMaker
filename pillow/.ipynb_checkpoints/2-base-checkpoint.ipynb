{
 "cells": [
  {
   "cell_type": "code",
   "execution_count": 57,
   "id": "783be958-eba1-474a-b6af-66ce97757af7",
   "metadata": {},
   "outputs": [
    {
     "data": {
      "image/png": "[encoded data removed]",
      "text/plain": [
       "<PIL.PngImagePlugin.PngImageFile image mode=RGBA size=79x32>"
      ]
     },
     "metadata": {},
     "output_type": "display_data"
    }
   ],
   "source": [
    "from PIL import Image\n",
    "im = Image.open(\"/home/studio-lab-user/sagemaker-studiolab-notebooks/images/launcher_button.png\") # RGBA\n",
    "im.show()"
   ]
  },
  {
   "cell_type": "code",
   "execution_count": 6,
   "id": "7d9faba4-b5f4-43d7-ba9e-614b13daefdd",
   "metadata": {},
   "outputs": [
    {
     "data": {
      "image/png": "[encoded data removed]",
      "text/plain": [
       "<PIL.Image.Image image mode=RGBA size=79x32>"
      ]
     },
     "metadata": {},
     "output_type": "display_data"
    }
   ],
   "source": [
    "im.rotate(45).show()"
   ]
  },
  {
   "cell_type": "code",
   "execution_count": 7,
   "id": "db2bac47-58b2-4289-8c07-1e7f317a5f6c",
   "metadata": {},
   "outputs": [
    {
     "data": {
      "image/png": "[encoded data removed]",
      "text/plain": [
       "<PIL.Image.Image image mode=RGBA size=79x32>"
      ]
     },
     "metadata": {},
     "output_type": "display_data"
    }
   ],
   "source": [
    "Image.alpha_composite(im.rotate(45), im.rotate(-45)).show() #RGBA"
   ]
  },
  {
   "cell_type": "code",
   "execution_count": 8,
   "id": "9dd0ae98-a542-4462-aa04-7086767c8d37",
   "metadata": {},
   "outputs": [
    {
     "data": {
      "image/png": "[encoded data removed]",
      "text/plain": [
       "<PIL.Image.Image image mode=RGBA size=79x32>"
      ]
     },
     "metadata": {},
     "output_type": "display_data"
    }
   ],
   "source": [
    "Image.blend(im.rotate(45), im.rotate(-45), 0.5).show()"
   ]
  },
  {
   "cell_type": "code",
   "execution_count": 10,
   "id": "b240bbd7-3680-404c-90b7-e0624c6f91a1",
   "metadata": {},
   "outputs": [],
   "source": [
    "import numpy as np\n",
    "im = Image.fromarray(np.asarray(im))"
   ]
  },
  {
   "cell_type": "code",
   "execution_count": 11,
   "id": "5246260a-9085-4d9a-96cd-e1389bf0643d",
   "metadata": {},
   "outputs": [
    {
     "data": {
      "image/png": "[encoded data removed]",
      "text/plain": [
       "<PIL.Image.Image image mode=L size=79x32>"
      ]
     },
     "metadata": {},
     "output_type": "display_data"
    }
   ],
   "source": [
    "im.convert(\"L\").show()"
   ]
  },
  {
   "cell_type": "code",
   "execution_count": 12,
   "id": "a1ae7461-f8e7-4f38-8116-178c3c63d362",
   "metadata": {},
   "outputs": [
    {
     "data": {
      "image/png": "[encoded data removed]",
      "text/plain": [
       "<PIL.Image.Image image mode=RGBA size=79x32>"
      ]
     },
     "metadata": {},
     "output_type": "display_data"
    }
   ],
   "source": [
    "im.copy().show()"
   ]
  },
  {
   "cell_type": "code",
   "execution_count": 13,
   "id": "16ec32c7-bc17-4c0a-a409-4ec877389dff",
   "metadata": {},
   "outputs": [
    {
     "data": {
      "image/png": "[encoded data removed]",
      "text/plain": [
       "<PIL.Image.Image image mode=RGBA size=20x15>"
      ]
     },
     "metadata": {},
     "output_type": "display_data"
    }
   ],
   "source": [
    "im.crop((30,10,50,25)).show()"
   ]
  },
  {
   "cell_type": "code",
   "execution_count": 14,
   "id": "0f37cdf5-5bd8-4f4a-ae22-a3f237a2b0be",
   "metadata": {},
   "outputs": [
    {
     "data": {
      "text/plain": [
       "2.838554418940559"
      ]
     },
     "execution_count": 14,
     "metadata": {},
     "output_type": "execute_result"
    }
   ],
   "source": [
    "im.entropy()"
   ]
  },
  {
   "cell_type": "code",
   "execution_count": 15,
   "id": "4e923232-6123-4bec-a44f-8cee647604b6",
   "metadata": {},
   "outputs": [
    {
     "data": {
      "image/png": "[encoded data removed]",
      "text/plain": [
       "<PIL.Image.Image image mode=RGBA size=79x32>"
      ]
     },
     "metadata": {},
     "output_type": "display_data"
    }
   ],
   "source": [
    "from PIL import ImageFilter\n",
    "im.filter(filter=ImageFilter.BLUR).show()"
   ]
  },
  {
   "cell_type": "code",
   "execution_count": 17,
   "id": "7e98a8f2-d80c-471a-a4e7-5ab21f2488bf",
   "metadata": {},
   "outputs": [
    {
     "data": {
      "image/png": "[encoded data removed]",
      "text/plain": [
       "<PIL.Image.Image image mode=RGBA size=79x32>"
      ]
     },
     "metadata": {},
     "output_type": "display_data"
    }
   ],
   "source": [
    "im.filter(filter=ImageFilter.SHARPEN).show()"
   ]
  },
  {
   "cell_type": "code",
   "execution_count": 18,
   "id": "219886ce-0855-4ffa-913f-84dfdb1e428e",
   "metadata": {},
   "outputs": [
    {
     "data": {
      "image/png": "[encoded data removed]",
      "text/plain": [
       "<PIL.Image.Image image mode=RGBA size=79x32>"
      ]
     },
     "metadata": {},
     "output_type": "display_data"
    }
   ],
   "source": [
    "im.filter(filter=ImageFilter.CONTOUR).show()"
   ]
  },
  {
   "cell_type": "code",
   "execution_count": 21,
   "id": "01d3b655-cd30-41f7-8463-a4d84886782b",
   "metadata": {},
   "outputs": [
    {
     "data": {
      "image/png": "[encoded data removed]",
      "text/plain": [
       "<PIL.Image.Image image mode=RGBA size=79x32>"
      ]
     },
     "metadata": {},
     "output_type": "display_data"
    }
   ],
   "source": [
    "im.filter(filter=ImageFilter.EMBOSS).show()"
   ]
  },
  {
   "cell_type": "code",
   "execution_count": 23,
   "id": "ee18cf3c-aa7c-4cb7-b78a-8747ecf0cdad",
   "metadata": {},
   "outputs": [
    {
     "data": {
      "image/png": "[encoded data removed]",
      "text/plain": [
       "<PIL.Image.Image image mode=RGBA size=79x32>"
      ]
     },
     "metadata": {},
     "output_type": "display_data"
    }
   ],
   "source": [
    "im.filter(filter=ImageFilter.SMOOTH).show()"
   ]
  },
  {
   "cell_type": "code",
   "execution_count": 24,
   "id": "608bc654-3856-4b19-9d1a-ec5f68bf9b95",
   "metadata": {},
   "outputs": [
    {
     "data": {
      "text/plain": [
       "('R', 'G', 'B', 'A')"
      ]
     },
     "execution_count": 24,
     "metadata": {},
     "output_type": "execute_result"
    }
   ],
   "source": [
    "im.getbands()"
   ]
  },
  {
   "cell_type": "code",
   "execution_count": 26,
   "id": "1d3add57-6161-46a5-987b-8d03aec8bff3",
   "metadata": {},
   "outputs": [
    {
     "data": {
      "image/png": "[encoded data removed]",
      "text/plain": [
       "<PIL.Image.Image image mode=L size=79x32>"
      ]
     },
     "metadata": {},
     "output_type": "display_data"
    }
   ],
   "source": [
    "im.getchannel(\"G\").show()"
   ]
  },
  {
   "cell_type": "code",
   "execution_count": 27,
   "id": "af8f8d7c-a2d1-4875-94e1-21b23cb2eeca",
   "metadata": {},
   "outputs": [
    {
     "data": {
      "text/plain": [
       "[(804, (252, 251, 254, 255)),\n",
       " (4, (237, 227, 245, 255)),\n",
       " (8, (153, 99, 204, 255)),\n",
       " (8, (224, 208, 239, 255)),\n",
       " (24, (200, 172, 227, 255)),\n",
       " (8, (164, 116, 209, 255)),\n",
       " (12, (114, 34, 184, 255)),\n",
       " (1660, (109, 22, 182, 255))]"
      ]
     },
     "execution_count": 27,
     "metadata": {},
     "output_type": "execute_result"
    }
   ],
   "source": [
    "im.getcolors()"
   ]
  },
  {
   "cell_type": "code",
   "execution_count": 31,
   "id": "656ec618-ca87-4852-8e12-8587a67e1b0e",
   "metadata": {},
   "outputs": [],
   "source": [
    "l = list(im.getdata())"
   ]
  },
  {
   "cell_type": "code",
   "execution_count": 33,
   "id": "eabaa398-dc71-46c0-b3fb-81bbb1187fcf",
   "metadata": {},
   "outputs": [
    {
     "data": {
      "text/plain": [
       "((109, 252), (22, 251), (182, 254), (255, 255))"
      ]
     },
     "execution_count": 33,
     "metadata": {},
     "output_type": "execute_result"
    }
   ],
   "source": [
    "im.getextrema()"
   ]
  },
  {
   "cell_type": "code",
   "execution_count": 34,
   "id": "bff3f447-d4a7-4ae2-907d-4b4a37dadc2b",
   "metadata": {},
   "outputs": [
    {
     "data": {
      "text/plain": [
       "(252, 251, 254, 255)"
      ]
     },
     "execution_count": 34,
     "metadata": {},
     "output_type": "execute_result"
    }
   ],
   "source": [
    "im.getpixel((0,0))"
   ]
  },
  {
   "cell_type": "code",
   "execution_count": 36,
   "id": "a5fd23af-66d3-42dc-a722-361286c9b470",
   "metadata": {},
   "outputs": [],
   "source": [
    "h = im.histogram()"
   ]
  },
  {
   "cell_type": "code",
   "execution_count": 38,
   "id": "f0ec0fa6-a049-4839-bc84-a4fc10066c86",
   "metadata": {},
   "outputs": [
    {
     "data": {
      "image/png": "[encoded data removed]",
      "text/plain": [
       "<PIL.Image.Image image mode=RGBA size=79x32>"
      ]
     },
     "metadata": {},
     "output_type": "display_data"
    }
   ],
   "source": [
    "im.paste(im.crop((30,10,50,25)),(0,0,20,15))\n",
    "im.show()"
   ]
  },
  {
   "cell_type": "code",
   "execution_count": 39,
   "id": "c548235c-afcc-478f-81ea-cbc9a6f7d7d5",
   "metadata": {},
   "outputs": [
    {
     "data": {
      "image/png": "[encoded data removed]",
      "text/plain": [
       "<PIL.Image.Image image mode=RGBA size=79x32>"
      ]
     },
     "metadata": {},
     "output_type": "display_data"
    }
   ],
   "source": [
    "im.putpixel((0,0),(0,0,0,0))\n",
    "im.show()"
   ]
  },
  {
   "cell_type": "code",
   "execution_count": 44,
   "id": "acf99d1b-19f0-421d-8e50-a8a4dc6e6f9c",
   "metadata": {},
   "outputs": [
    {
     "data": {
      "image/png": "[encoded data removed]",
      "text/plain": [
       "<PIL.Image.Image image mode=RGBA size=40x16>"
      ]
     },
     "metadata": {},
     "output_type": "display_data"
    }
   ],
   "source": [
    "im.reduce(2).show()"
   ]
  },
  {
   "cell_type": "code",
   "execution_count": 46,
   "id": "03a77587-fd48-4c7c-a388-81ae503a3872",
   "metadata": {},
   "outputs": [
    {
     "data": {
      "image/png": "[encoded data removed]",
      "text/plain": [
       "<PIL.Image.Image image mode=RGBA size=100x100>"
      ]
     },
     "metadata": {},
     "output_type": "display_data"
    }
   ],
   "source": [
    "im.resize((100,100)).show()"
   ]
  },
  {
   "cell_type": "code",
   "execution_count": 49,
   "id": "897cc736-7f70-45cb-b3ff-7f74af47214b",
   "metadata": {},
   "outputs": [
    {
     "data": {
      "image/png": "[encoded data removed]",
      "text/plain": [
       "<PIL.Image.Image image mode=RGBA size=79x32>"
      ]
     },
     "metadata": {},
     "output_type": "display_data"
    }
   ],
   "source": [
    "im.rotate(90).show(\"rotate\")"
   ]
  },
  {
   "cell_type": "code",
   "execution_count": 50,
   "id": "9613168c-9e87-4c74-91b3-5ec2f2d1cd2c",
   "metadata": {},
   "outputs": [
    {
     "data": {
      "image/png": "[encoded data removed]",
      "text/plain": [
       "<PIL.Image.Image image mode=L size=79x32>"
      ]
     },
     "metadata": {},
     "output_type": "display_data"
    }
   ],
   "source": [
    "r,g,b,a = im.split()\n",
    "r.show()"
   ]
  },
  {
   "cell_type": "code",
   "execution_count": 52,
   "id": "c0d02131-afab-4c56-89f1-1ddebd6b2824",
   "metadata": {},
   "outputs": [],
   "source": [
    "im.frombytes(im.tobytes())"
   ]
  },
  {
   "cell_type": "code",
   "execution_count": 55,
   "id": "7d72d41a-617d-432e-b51a-a571229b2111",
   "metadata": {},
   "outputs": [
    {
     "data": {
      "image/png": "[encoded data removed]",
      "text/plain": [
       "<PIL.Image.Image image mode=RGBA size=79x32>"
      ]
     },
     "metadata": {},
     "output_type": "display_data"
    }
   ],
   "source": [
    "im.transpose(Image.Transpose.FLIP_LEFT_RIGHT).show()"
   ]
  },
  {
   "cell_type": "code",
   "execution_count": 58,
   "id": "21c20cb4-a3db-4f16-9ade-e11a8fa32082",
   "metadata": {},
   "outputs": [
    {
     "data": {
      "text/plain": [
       "'/home/studio-lab-user/sagemaker-studiolab-notebooks/images/launcher_button.png'"
      ]
     },
     "execution_count": 58,
     "metadata": {},
     "output_type": "execute_result"
    }
   ],
   "source": [
    "im.filename"
   ]
  },
  {
   "cell_type": "code",
   "execution_count": 59,
   "id": "135f1c1b-ccc5-487e-811d-8d3923ccf753",
   "metadata": {},
   "outputs": [
    {
     "data": {
      "text/plain": [
       "'PNG'"
      ]
     },
     "execution_count": 59,
     "metadata": {},
     "output_type": "execute_result"
    }
   ],
   "source": [
    "im.format"
   ]
  },
  {
   "cell_type": "code",
   "execution_count": 60,
   "id": "ce6c8709-0ff2-4a81-b61e-0fcba1109801",
   "metadata": {},
   "outputs": [
    {
     "data": {
      "text/plain": [
       "'RGBA'"
      ]
     },
     "execution_count": 60,
     "metadata": {},
     "output_type": "execute_result"
    }
   ],
   "source": [
    "im.mode"
   ]
  },
  {
   "cell_type": "code",
   "execution_count": 61,
   "id": "7497449e-ccd3-4198-935b-babdf9b7fc73",
   "metadata": {},
   "outputs": [
    {
     "data": {
      "text/plain": [
       "(79, 32)"
      ]
     },
     "execution_count": 61,
     "metadata": {},
     "output_type": "execute_result"
    }
   ],
   "source": [
    "im.size"
   ]
  },
  {
   "cell_type": "code",
   "execution_count": 62,
   "id": "95fc8cfa-f292-4ae1-850a-17cb103c0589",
   "metadata": {},
   "outputs": [
    {
     "data": {
      "text/plain": [
       "79"
      ]
     },
     "execution_count": 62,
     "metadata": {},
     "output_type": "execute_result"
    }
   ],
   "source": [
    "im.width"
   ]
  },
  {
   "cell_type": "code",
   "execution_count": 63,
   "id": "f157f2e7-e3fb-493d-8774-cf04d12ce7e2",
   "metadata": {},
   "outputs": [
    {
     "data": {
      "text/plain": [
       "32"
      ]
     },
     "execution_count": 63,
     "metadata": {},
     "output_type": "execute_result"
    }
   ],
   "source": [
    "im.height"
   ]
  },
  {
   "cell_type": "code",
   "execution_count": 65,
   "id": "4ba1e30a-cd4f-44d3-87af-d8f00fc58d24",
   "metadata": {},
   "outputs": [
    {
     "data": {
      "text/plain": [
       "{'icc_profile': b'\\x00\\x00\\rDappl\\x02\\x10\\x00\\x00mntrRGB XYZ \\x07\\xe5\\x00\\x0b\\x00\\x0b\\x00\\x08\\x00\\x17\\x00\\x03acspAPPL\\x00\\x00\\x00\\x00APPL\\x00\\x00\\x00\\x00\\x00\\x00\\x00\\x00\\x00\\x00\\x00\\x00\\x00\\x00\\x00\\x00\\x00\\x00\\xf6\\xd6\\x00\\x01\\x00\\x00\\x00\\x00\\xd3-appl\\x00\\x00\\x00\\x00\\x00\\x00\\x00\\x00\\x00\\x00\\x00\\x00\\x00\\x00\\x00\\x00\\x00\\x00\\x00\\x00\\x00\\x00\\x00\\x00\\x00\\x00\\x00\\x00\\x00\\x00\\x00\\x00\\x00\\x00\\x00\\x00\\x00\\x00\\x00\\x00\\x00\\x00\\x00\\x00\\x00\\x00\\x00\\x12desc\\x00\\x00\\x01\\\\\\x00\\x00\\x00bdscm\\x00\\x00\\x01\\xc0\\x00\\x00\\x01\\xe6cprt\\x00\\x00\\x03\\xa8\\x00\\x00\\x00#wtpt\\x00\\x00\\x03\\xcc\\x00\\x00\\x00\\x14rXYZ\\x00\\x00\\x03\\xe0\\x00\\x00\\x00\\x14gXYZ\\x00\\x00\\x03\\xf4\\x00\\x00\\x00\\x14bXYZ\\x00\\x00\\x04\\x08\\x00\\x00\\x00\\x14rTRC\\x00\\x00\\x04\\x1c\\x00\\x00\\x08\\x0caarg\\x00\\x00\\x0c(\\x00\\x00\\x00 vcgt\\x00\\x00\\x0cH\\x00\\x00\\x000ndin\\x00\\x00\\x0cx\\x00\\x00\\x00>chad\\x00\\x00\\x0c\\xb8\\x00\\x00\\x00,mmod\\x00\\x00\\x0c\\xe4\\x00\\x00\\x00(vcgp\\x00\\x00\\r\\x0c\\x00\\x00\\x008bTRC\\x00\\x00\\x04\\x1c\\x00\\x00\\x08\\x0cgTRC\\x00\\x00\\x04\\x1c\\x00\\x00\\x08\\x0caabg\\x00\\x00\\x0c(\\x00\\x00\\x00 aagg\\x00\\x00\\x0c(\\x00\\x00\\x00 desc\\x00\\x00\\x00\\x00\\x00\\x00\\x00\\x08Display\\x00\\x00\\x00\\x00\\x00\\x00\\x00\\x00\\x00\\x00\\x00\\x00\\x00\\x00\\x00\\x00\\x00\\x00\\x00\\x00\\x00\\x00\\x00\\x00\\x00\\x00\\x00\\x00\\x00\\x00\\x00\\x00\\x00\\x00\\x00\\x00\\x00\\x00\\x00\\x00\\x00\\x00\\x00\\x00\\x00\\x00\\x00\\x00\\x00\\x00\\x00\\x00\\x00\\x00\\x00\\x00\\x00\\x00\\x00\\x00\\x00\\x00\\x00\\x00\\x00\\x00\\x00\\x00\\x00\\x00\\x00\\x00\\x00\\x00\\x00\\x00\\x00\\x00\\x00\\x00\\x00mluc\\x00\\x00\\x00\\x00\\x00\\x00\\x00&\\x00\\x00\\x00\\x0chrHR\\x00\\x00\\x00\\x0e\\x00\\x00\\x01\\xd8koKR\\x00\\x00\\x00\\x0e\\x00\\x00\\x01\\xd8nbNO\\x00\\x00\\x00\\x0e\\x00\\x00\\x01\\xd8id\\x00\\x00\\x00\\x00\\x00\\x0e\\x00\\x00\\x01\\xd8huHU\\x00\\x00\\x00\\x0e\\x00\\x00\\x01\\xd8csCZ\\x00\\x00\\x00\\x0e\\x00\\x00\\x01\\xd8daDK\\x00\\x00\\x00\\x0e\\x00\\x00\\x01\\xd8nlNL\\x00\\x00\\x00\\x0e\\x00\\x00\\x01\\xd8fiFI\\x00\\x00\\x00\\x0e\\x00\\x00\\x01\\xd8itIT\\x00\\x00\\x00\\x0e\\x00\\x00\\x01\\xd8esES\\x00\\x00\\x00\\x0e\\x00\\x00\\x01\\xd8roRO\\x00\\x00\\x00\\x0e\\x00\\x00\\x01\\xd8frCA\\x00\\x00\\x00\\x0e\\x00\\x00\\x01\\xd8ar\\x00\\x00\\x00\\x00\\x00\\x0e\\x00\\x00\\x01\\xd8ukUA\\x00\\x00\\x00\\x0e\\x00\\x00\\x01\\xd8heIL\\x00\\x00\\x00\\x0e\\x00\\x00\\x01\\xd8zhTW\\x00\\x00\\x00\\x0e\\x00\\x00\\x01\\xd8viVN\\x00\\x00\\x00\\x0e\\x00\\x00\\x01\\xd8skSK\\x00\\x00\\x00\\x0e\\x00\\x00\\x01\\xd8zhCN\\x00\\x00\\x00\\x0e\\x00\\x00\\x01\\xd8ruRU\\x00\\x00\\x00\\x0e\\x00\\x00\\x01\\xd8enGB\\x00\\x00\\x00\\x0e\\x00\\x00\\x01\\xd8frFR\\x00\\x00\\x00\\x0e\\x00\\x00\\x01\\xd8ms\\x00\\x00\\x00\\x00\\x00\\x0e\\x00\\x00\\x01\\xd8hiIN\\x00\\x00\\x00\\x0e\\x00\\x00\\x01\\xd8thTH\\x00\\x00\\x00\\x0e\\x00\\x00\\x01\\xd8caES\\x00\\x00\\x00\\x0e\\x00\\x00\\x01\\xd8enAU\\x00\\x00\\x00\\x0e\\x00\\x00\\x01\\xd8esXL\\x00\\x00\\x00\\x0e\\x00\\x00\\x01\\xd8deDE\\x00\\x00\\x00\\x0e\\x00\\x00\\x01\\xd8enUS\\x00\\x00\\x00\\x0e\\x00\\x00\\x01\\xd8ptBR\\x00\\x00\\x00\\x0e\\x00\\x00\\x01\\xd8plPL\\x00\\x00\\x00\\x0e\\x00\\x00\\x01\\xd8elGR\\x00\\x00\\x00\\x0e\\x00\\x00\\x01\\xd8svSE\\x00\\x00\\x00\\x0e\\x00\\x00\\x01\\xd8trTR\\x00\\x00\\x00\\x0e\\x00\\x00\\x01\\xd8ptPT\\x00\\x00\\x00\\x0e\\x00\\x00\\x01\\xd8jaJP\\x00\\x00\\x00\\x0e\\x00\\x00\\x01\\xd8\\x00C\\x003\\x004\\x00H\\x008\\x009\\x00x\\x00\\x00text\\x00\\x00\\x00\\x00Copyright Apple Inc., 2021\\x00\\x00XYZ \\x00\\x00\\x00\\x00\\x00\\x00\\xf3\\xd8\\x00\\x01\\x00\\x00\\x00\\x01\\x16\\x08XYZ \\x00\\x00\\x00\\x00\\x00\\x00h\\xde\\x00\\x004\\\\\\x00\\x00\\x01\\x83XYZ \\x00\\x00\\x00\\x00\\x00\\x00i\\x18\\x00\\x00\\xb8.\\x00\\x00\\x14\\x11XYZ \\x00\\x00\\x00\\x00\\x00\\x00$\\xe0\\x00\\x00\\x13v\\x00\\x00\\xbd\\x98curv\\x00\\x00\\x00\\x00\\x00\\x00\\x04\\x00\\x00\\x00\\x00\\x05\\x00\\n\\x00\\x0f\\x00\\x14\\x00\\x19\\x00\\x1e\\x00#\\x00(\\x00-\\x002\\x006\\x00;\\x00@\\x00E\\x00J\\x00O\\x00T\\x00Y\\x00^\\x00c\\x00h\\x00m\\x00r\\x00w\\x00|\\x00\\x81\\x00\\x86\\x00\\x8b\\x00\\x90\\x00\\x95\\x00\\x9a\\x00\\x9f\\x00\\xa3\\x00\\xa8\\x00\\xad\\x00\\xb2\\x00\\xb7\\x00\\xbc\\x00\\xc1\\x00\\xc6\\x00\\xcb\\x00\\xd0\\x00\\xd5\\x00\\xdb\\x00\\xe0\\x00\\xe5\\x00\\xeb\\x00\\xf0\\x00\\xf6\\x00\\xfb\\x01\\x01\\x01\\x07\\x01\\r\\x01\\x13\\x01\\x19\\x01\\x1f\\x01%\\x01+\\x012\\x018\\x01>\\x01E\\x01L\\x01R\\x01Y\\x01`\\x01g\\x01n\\x01u\\x01|\\x01\\x83\\x01\\x8b\\x01\\x92\\x01\\x9a\\x01\\xa1\\x01\\xa9\\x01\\xb1\\x01\\xb9\\x01\\xc1\\x01\\xc9\\x01\\xd1\\x01\\xd9\\x01\\xe1\\x01\\xe9\\x01\\xf2\\x01\\xfa\\x02\\x03\\x02\\x0c\\x02\\x14\\x02\\x1d\\x02&\\x02/\\x028\\x02A\\x02K\\x02T\\x02]\\x02g\\x02q\\x02z\\x02\\x84\\x02\\x8e\\x02\\x98\\x02\\xa2\\x02\\xac\\x02\\xb6\\x02\\xc1\\x02\\xcb\\x02\\xd5\\x02\\xe0\\x02\\xeb\\x02\\xf5\\x03\\x00\\x03\\x0b\\x03\\x16\\x03!\\x03-\\x038\\x03C\\x03O\\x03Z\\x03f\\x03r\\x03~\\x03\\x8a\\x03\\x96\\x03\\xa2\\x03\\xae\\x03\\xba\\x03\\xc7\\x03\\xd3\\x03\\xe0\\x03\\xec\\x03\\xf9\\x04\\x06\\x04\\x13\\x04 \\x04-\\x04;\\x04H\\x04U\\x04c\\x04q\\x04~\\x04\\x8c\\x04\\x9a\\x04\\xa8\\x04\\xb6\\x04\\xc4\\x04\\xd3\\x04\\xe1\\x04\\xf0\\x04\\xfe\\x05\\r\\x05\\x1c\\x05+\\x05:\\x05I\\x05X\\x05g\\x05w\\x05\\x86\\x05\\x96\\x05\\xa6\\x05\\xb5\\x05\\xc5\\x05\\xd5\\x05\\xe5\\x05\\xf6\\x06\\x06\\x06\\x16\\x06\\'\\x067\\x06H\\x06Y\\x06j\\x06{\\x06\\x8c\\x06\\x9d\\x06\\xaf\\x06\\xc0\\x06\\xd1\\x06\\xe3\\x06\\xf5\\x07\\x07\\x07\\x19\\x07+\\x07=\\x07O\\x07a\\x07t\\x07\\x86\\x07\\x99\\x07\\xac\\x07\\xbf\\x07\\xd2\\x07\\xe5\\x07\\xf8\\x08\\x0b\\x08\\x1f\\x082\\x08F\\x08Z\\x08n\\x08\\x82\\x08\\x96\\x08\\xaa\\x08\\xbe\\x08\\xd2\\x08\\xe7\\x08\\xfb\\t\\x10\\t%\\t:\\tO\\td\\ty\\t\\x8f\\t\\xa4\\t\\xba\\t\\xcf\\t\\xe5\\t\\xfb\\n\\x11\\n\\'\\n=\\nT\\nj\\n\\x81\\n\\x98\\n\\xae\\n\\xc5\\n\\xdc\\n\\xf3\\x0b\\x0b\\x0b\"\\x0b9\\x0bQ\\x0bi\\x0b\\x80\\x0b\\x98\\x0b\\xb0\\x0b\\xc8\\x0b\\xe1\\x0b\\xf9\\x0c\\x12\\x0c*\\x0cC\\x0c\\\\\\x0cu\\x0c\\x8e\\x0c\\xa7\\x0c\\xc0\\x0c\\xd9\\x0c\\xf3\\r\\r\\r&\\r@\\rZ\\rt\\r\\x8e\\r\\xa9\\r\\xc3\\r\\xde\\r\\xf8\\x0e\\x13\\x0e.\\x0eI\\x0ed\\x0e\\x7f\\x0e\\x9b\\x0e\\xb6\\x0e\\xd2\\x0e\\xee\\x0f\\t\\x0f%\\x0fA\\x0f^\\x0fz\\x0f\\x96\\x0f\\xb3\\x0f\\xcf\\x0f\\xec\\x10\\t\\x10&\\x10C\\x10a\\x10~\\x10\\x9b\\x10\\xb9\\x10\\xd7\\x10\\xf5\\x11\\x13\\x111\\x11O\\x11m\\x11\\x8c\\x11\\xaa\\x11\\xc9\\x11\\xe8\\x12\\x07\\x12&\\x12E\\x12d\\x12\\x84\\x12\\xa3\\x12\\xc3\\x12\\xe3\\x13\\x03\\x13#\\x13C\\x13c\\x13\\x83\\x13\\xa4\\x13\\xc5\\x13\\xe5\\x14\\x06\\x14\\'\\x14I\\x14j\\x14\\x8b\\x14\\xad\\x14\\xce\\x14\\xf0\\x15\\x12\\x154\\x15V\\x15x\\x15\\x9b\\x15\\xbd\\x15\\xe0\\x16\\x03\\x16&\\x16I\\x16l\\x16\\x8f\\x16\\xb2\\x16\\xd6\\x16\\xfa\\x17\\x1d\\x17A\\x17e\\x17\\x89\\x17\\xae\\x17\\xd2\\x17\\xf7\\x18\\x1b\\x18@\\x18e\\x18\\x8a\\x18\\xaf\\x18\\xd5\\x18\\xfa\\x19 \\x19E\\x19k\\x19\\x91\\x19\\xb7\\x19\\xdd\\x1a\\x04\\x1a*\\x1aQ\\x1aw\\x1a\\x9e\\x1a\\xc5\\x1a\\xec\\x1b\\x14\\x1b;\\x1bc\\x1b\\x8a\\x1b\\xb2\\x1b\\xda\\x1c\\x02\\x1c*\\x1cR\\x1c{\\x1c\\xa3\\x1c\\xcc\\x1c\\xf5\\x1d\\x1e\\x1dG\\x1dp\\x1d\\x99\\x1d\\xc3\\x1d\\xec\\x1e\\x16\\x1e@\\x1ej\\x1e\\x94\\x1e\\xbe\\x1e\\xe9\\x1f\\x13\\x1f>\\x1fi\\x1f\\x94\\x1f\\xbf\\x1f\\xea \\x15 A l \\x98 \\xc4 \\xf0!\\x1c!H!u!\\xa1!\\xce!\\xfb\"\\'\"U\"\\x82\"\\xaf\"\\xdd#\\n#8#f#\\x94#\\xc2#\\xf0$\\x1f$M$|$\\xab$\\xda%\\t%8%h%\\x97%\\xc7%\\xf7&\\'&W&\\x87&\\xb7&\\xe8\\'\\x18\\'I\\'z\\'\\xab\\'\\xdc(\\r(?(q(\\xa2(\\xd4)\\x06)8)k)\\x9d)\\xd0*\\x02*5*h*\\x9b*\\xcf+\\x02+6+i+\\x9d+\\xd1,\\x05,9,n,\\xa2,\\xd7-\\x0c-A-v-\\xab-\\xe1.\\x16.L.\\x82.\\xb7.\\xee/$/Z/\\x91/\\xc7/\\xfe050l0\\xa40\\xdb1\\x121J1\\x821\\xba1\\xf22*2c2\\x9b2\\xd43\\r3F3\\x7f3\\xb83\\xf14+4e4\\x9e4\\xd85\\x135M5\\x875\\xc25\\xfd676r6\\xae6\\xe97$7`7\\x9c7\\xd78\\x148P8\\x8c8\\xc89\\x059B9\\x7f9\\xbc9\\xf9:6:t:\\xb2:\\xef;-;k;\\xaa;\\xe8<\\'<e<\\xa4<\\xe3=\"=a=\\xa1=\\xe0> >`>\\xa0>\\xe0?!?a?\\xa2?\\xe2@#@d@\\xa6@\\xe7A)AjA\\xacA\\xeeB0BrB\\xb5B\\xf7C:C}C\\xc0D\\x03DGD\\x8aD\\xceE\\x12EUE\\x9aE\\xdeF\"FgF\\xabF\\xf0G5G{G\\xc0H\\x05HKH\\x91H\\xd7I\\x1dIcI\\xa9I\\xf0J7J}J\\xc4K\\x0cKSK\\x9aK\\xe2L*LrL\\xbaM\\x02MJM\\x93M\\xdcN%NnN\\xb7O\\x00OIO\\x93O\\xddP\\'PqP\\xbbQ\\x06QPQ\\x9bQ\\xe6R1R|R\\xc7S\\x13S_S\\xaaS\\xf6TBT\\x8fT\\xdbU(UuU\\xc2V\\x0fV\\\\V\\xa9V\\xf7WDW\\x92W\\xe0X/X}X\\xcbY\\x1aYiY\\xb8Z\\x07ZVZ\\xa6Z\\xf5[E[\\x95[\\xe5\\\\5\\\\\\x86\\\\\\xd6]\\']x]\\xc9^\\x1a^l^\\xbd_\\x0f_a_\\xb3`\\x05`W`\\xaa`\\xfcaOa\\xa2a\\xf5bIb\\x9cb\\xf0cCc\\x97c\\xebd@d\\x94d\\xe9e=e\\x92e\\xe7f=f\\x92f\\xe8g=g\\x93g\\xe9h?h\\x96h\\xeciCi\\x9ai\\xf1jHj\\x9fj\\xf7kOk\\xa7k\\xfflWl\\xafm\\x08m`m\\xb9n\\x12nkn\\xc4o\\x1eoxo\\xd1p+p\\x86p\\xe0q:q\\x95q\\xf0rKr\\xa6s\\x01s]s\\xb8t\\x14tpt\\xccu(u\\x85u\\xe1v>v\\x9bv\\xf8wVw\\xb3x\\x11xnx\\xccy*y\\x89y\\xe7zFz\\xa5{\\x04{c{\\xc2|!|\\x81|\\xe1}A}\\xa1~\\x01~b~\\xc2\\x7f#\\x7f\\x84\\x7f\\xe5\\x80G\\x80\\xa8\\x81\\n\\x81k\\x81\\xcd\\x820\\x82\\x92\\x82\\xf4\\x83W\\x83\\xba\\x84\\x1d\\x84\\x80\\x84\\xe3\\x85G\\x85\\xab\\x86\\x0e\\x86r\\x86\\xd7\\x87;\\x87\\x9f\\x88\\x04\\x88i\\x88\\xce\\x893\\x89\\x99\\x89\\xfe\\x8ad\\x8a\\xca\\x8b0\\x8b\\x96\\x8b\\xfc\\x8cc\\x8c\\xca\\x8d1\\x8d\\x98\\x8d\\xff\\x8ef\\x8e\\xce\\x8f6\\x8f\\x9e\\x90\\x06\\x90n\\x90\\xd6\\x91?\\x91\\xa8\\x92\\x11\\x92z\\x92\\xe3\\x93M\\x93\\xb6\\x94 \\x94\\x8a\\x94\\xf4\\x95_\\x95\\xc9\\x964\\x96\\x9f\\x97\\n\\x97u\\x97\\xe0\\x98L\\x98\\xb8\\x99$\\x99\\x90\\x99\\xfc\\x9ah\\x9a\\xd5\\x9bB\\x9b\\xaf\\x9c\\x1c\\x9c\\x89\\x9c\\xf7\\x9dd\\x9d\\xd2\\x9e@\\x9e\\xae\\x9f\\x1d\\x9f\\x8b\\x9f\\xfa\\xa0i\\xa0\\xd8\\xa1G\\xa1\\xb6\\xa2&\\xa2\\x96\\xa3\\x06\\xa3v\\xa3\\xe6\\xa4V\\xa4\\xc7\\xa58\\xa5\\xa9\\xa6\\x1a\\xa6\\x8b\\xa6\\xfd\\xa7n\\xa7\\xe0\\xa8R\\xa8\\xc4\\xa97\\xa9\\xa9\\xaa\\x1c\\xaa\\x8f\\xab\\x02\\xabu\\xab\\xe9\\xac\\\\\\xac\\xd0\\xadD\\xad\\xb8\\xae-\\xae\\xa1\\xaf\\x16\\xaf\\x8b\\xb0\\x00\\xb0u\\xb0\\xea\\xb1`\\xb1\\xd6\\xb2K\\xb2\\xc2\\xb38\\xb3\\xae\\xb4%\\xb4\\x9c\\xb5\\x13\\xb5\\x8a\\xb6\\x01\\xb6y\\xb6\\xf0\\xb7h\\xb7\\xe0\\xb8Y\\xb8\\xd1\\xb9J\\xb9\\xc2\\xba;\\xba\\xb5\\xbb.\\xbb\\xa7\\xbc!\\xbc\\x9b\\xbd\\x15\\xbd\\x8f\\xbe\\n\\xbe\\x84\\xbe\\xff\\xbfz\\xbf\\xf5\\xc0p\\xc0\\xec\\xc1g\\xc1\\xe3\\xc2_\\xc2\\xdb\\xc3X\\xc3\\xd4\\xc4Q\\xc4\\xce\\xc5K\\xc5\\xc8\\xc6F\\xc6\\xc3\\xc7A\\xc7\\xbf\\xc8=\\xc8\\xbc\\xc9:\\xc9\\xb9\\xca8\\xca\\xb7\\xcb6\\xcb\\xb6\\xcc5\\xcc\\xb5\\xcd5\\xcd\\xb5\\xce6\\xce\\xb6\\xcf7\\xcf\\xb8\\xd09\\xd0\\xba\\xd1<\\xd1\\xbe\\xd2?\\xd2\\xc1\\xd3D\\xd3\\xc6\\xd4I\\xd4\\xcb\\xd5N\\xd5\\xd1\\xd6U\\xd6\\xd8\\xd7\\\\\\xd7\\xe0\\xd8d\\xd8\\xe8\\xd9l\\xd9\\xf1\\xdav\\xda\\xfb\\xdb\\x80\\xdc\\x05\\xdc\\x8a\\xdd\\x10\\xdd\\x96\\xde\\x1c\\xde\\xa2\\xdf)\\xdf\\xaf\\xe06\\xe0\\xbd\\xe1D\\xe1\\xcc\\xe2S\\xe2\\xdb\\xe3c\\xe3\\xeb\\xe4s\\xe4\\xfc\\xe5\\x84\\xe6\\r\\xe6\\x96\\xe7\\x1f\\xe7\\xa9\\xe82\\xe8\\xbc\\xe9F\\xe9\\xd0\\xea[\\xea\\xe5\\xebp\\xeb\\xfb\\xec\\x86\\xed\\x11\\xed\\x9c\\xee(\\xee\\xb4\\xef@\\xef\\xcc\\xf0X\\xf0\\xe5\\xf1r\\xf1\\xff\\xf2\\x8c\\xf3\\x19\\xf3\\xa7\\xf44\\xf4\\xc2\\xf5P\\xf5\\xde\\xf6m\\xf6\\xfb\\xf7\\x8a\\xf8\\x19\\xf8\\xa8\\xf98\\xf9\\xc7\\xfaW\\xfa\\xe7\\xfbw\\xfc\\x07\\xfc\\x98\\xfd)\\xfd\\xba\\xfeK\\xfe\\xdc\\xffm\\xff\\xffpara\\x00\\x00\\x00\\x00\\x00\\x03\\x00\\x00\\x00\\x02ff\\x00\\x00\\xf2\\xa7\\x00\\x00\\rY\\x00\\x00\\x13\\xd0\\x00\\x00\\n[vcgt\\x00\\x00\\x00\\x00\\x00\\x00\\x00\\x01\\x00\\x01\\x00\\x00\\x00\\x00\\x00\\x00\\x00\\x01\\x00\\x00\\x00\\x01\\x00\\x00\\x00\\x00\\x00\\x00\\x00\\x01\\x00\\x00\\x00\\x01\\x00\\x00\\x00\\x00\\x00\\x00\\x00\\x01\\x00\\x00ndin\\x00\\x00\\x00\\x00\\x00\\x00\\x006\\x00\\x00\\xa7\\xc0\\x00\\x00T\\x80\\x00\\x00R\\x00\\x00\\x00\\x99\\xc0\\x00\\x00%@\\x00\\x00\\x12\\x00\\x00\\x00P@\\x00\\x00T@\\x00\\x0233\\x00\\x0233\\x00\\x0233\\x00\\x00\\x00\\x00\\x00\\x00\\x00\\x00sf32\\x00\\x00\\x00\\x00\\x00\\x01\\x0b\\xb7\\x00\\x00\\x05\\x96\\xff\\xff\\xf3W\\x00\\x00\\x07)\\x00\\x00\\xfd\\xd7\\xff\\xff\\xfb\\xb7\\xff\\xff\\xfd\\xa6\\x00\\x00\\x03\\xda\\x00\\x00\\xc0\\xf6mmod\\x00\\x00\\x00\\x00\\x00\\x00L-\\x00\\x00\\x0e%07JG\\xd9@O\\x00\\x00\\x00\\x00\\x00\\x00\\x00\\x00\\x00\\x00\\x00\\x00\\x00\\x00\\x00\\x00\\x00vcgp\\x00\\x00\\x00\\x00\\x00\\x03\\x00\\x00\\x00\\x02ff\\x00\\x03\\x00\\x00\\x00\\x02ff\\x00\\x03\\x00\\x00\\x00\\x02ff\\x00\\x00\\x00\\x02334\\x00\\x00\\x00\\x00\\x02334\\x00\\x00\\x00\\x00\\x02334\\x00',\n",
       " 'exif': b'Exif\\x00\\x00MM\\x00*\\x00\\x00\\x00\\x08\\x00\\x02\\x01\\x12\\x00\\x03\\x00\\x00\\x00\\x01\\x00\\x01\\x00\\x00\\x87i\\x00\\x04\\x00\\x00\\x00\\x01\\x00\\x00\\x00&\\x00\\x00\\x00\\x00\\x00\\x03\\x92\\x86\\x00\\x07\\x00\\x00\\x00\\x12\\x00\\x00\\x00P\\xa0\\x02\\x00\\x04\\x00\\x00\\x00\\x01\\x00\\x00\\x00O\\xa0\\x03\\x00\\x04\\x00\\x00\\x00\\x01\\x00\\x00\\x00 \\x00\\x00\\x00\\x00ASCII\\x00\\x00\\x00Screenshot',\n",
       " 'XML:com.adobe.xmp': '<x:xmpmeta xmlns:x=\"adobe:ns:meta/\" x:xmptk=\"XMP Core 6.0.0\">\\n   <rdf:RDF xmlns:rdf=\"http://www.w3.org/1999/02/22-rdf-syntax-ns#\">\\n      <rdf:Description rdf:about=\"\"\\n            xmlns:exif=\"http://ns.adobe.com/exif/1.0/\"\\n            xmlns:tiff=\"http://ns.adobe.com/tiff/1.0/\">\\n         <exif:PixelYDimension>1440</exif:PixelYDimension>\\n         <exif:UserComment>Screenshot</exif:UserComment>\\n         <exif:PixelXDimension>3440</exif:PixelXDimension>\\n         <tiff:Orientation>1</tiff:Orientation>\\n      </rdf:Description>\\n   </rdf:RDF>\\n</x:xmpmeta>\\n'}"
      ]
     },
     "execution_count": 65,
     "metadata": {},
     "output_type": "execute_result"
    }
   ],
   "source": [
    "im.info"
   ]
  },
  {
   "cell_type": "code",
   "execution_count": 66,
   "id": "f0de0f62-757c-4c4b-aaae-5af2a0a3f9e9",
   "metadata": {},
   "outputs": [
    {
     "data": {
      "text/plain": [
       "False"
      ]
     },
     "execution_count": 66,
     "metadata": {},
     "output_type": "execute_result"
    }
   ],
   "source": [
    "im.is_animated"
   ]
  },
  {
   "cell_type": "code",
   "execution_count": 67,
   "id": "31477457-9329-448b-a27b-7dacd06ad54c",
   "metadata": {},
   "outputs": [
    {
     "data": {
      "text/plain": [
       "1"
      ]
     },
     "execution_count": 67,
     "metadata": {},
     "output_type": "execute_result"
    }
   ],
   "source": [
    "im.n_frames"
   ]
  },
  {
   "cell_type": "code",
   "execution_count": null,
   "id": "aebb753d-39a7-456f-ad2d-d528cf7db39e",
   "metadata": {},
   "outputs": [],
   "source": []
  }
 ],
 "metadata": {
  "kernelspec": {
   "display_name": "default:Python",
   "language": "python",
   "name": "conda-env-default-py"
  },
  "language_info": {
   "codemirror_mode": {
    "name": "ipython",
    "version": 3
   },
   "file_extension": ".py",
   "mimetype": "text/x-python",
   "name": "python",
   "nbconvert_exporter": "python",
   "pygments_lexer": "ipython3",
   "version": "3.9.7"
  }
 },
 "nbformat": 4,
 "nbformat_minor": 5
}
